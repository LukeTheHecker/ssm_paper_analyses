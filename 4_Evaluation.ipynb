{
 "cells": [
  {
   "cell_type": "code",
   "execution_count": 1,
   "metadata": {},
   "outputs": [],
   "source": [
    "import sys; sys.path.insert(0, r'C:\\Users\\Lukas\\OneDrive\\Dokumente\\projects\\invert')\n",
    "import mne\n",
    "import pickle as pkl\n",
    "from time import time\n",
    "from scipy.spatial.distance import cdist\n",
    "import numpy as np\n",
    "import pandas as pd\n",
    "import matplotlib.pyplot as plt\n",
    "\n",
    "from invert.evaluate import eval_mean_localization_error, eval_mean_localization_error_old\n",
    "from tqdm.notebook import tqdm\n",
    "import os\n",
    "from time import sleep\n",
    "from config import *\n",
    "\n",
    "os.makedirs('D:/data/flex_ssm/results', exist_ok=True)\n",
    "estimator = \"mean\""
   ]
  },
  {
   "cell_type": "code",
   "execution_count": 2,
   "metadata": {},
   "outputs": [],
   "source": [
    "def get_pos(fwd):\n",
    "    pos_left = mne.vertex_to_mni(fwd[\"src\"][0][\"vertno\"], 0, subject=subject, subjects_dir=subjects_dir, verbose=0)\n",
    "    pos_right = mne.vertex_to_mni(fwd[\"src\"][1][\"vertno\"], 1, subject=subject, subjects_dir=subjects_dir, verbose=0)\n",
    "    pos = np.concatenate([pos_left, pos_right], axis=0)\n",
    "    return pos"
   ]
  },
  {
   "cell_type": "markdown",
   "metadata": {},
   "source": [
    "# Load Forward Models"
   ]
  },
  {
   "cell_type": "code",
   "execution_count": 3,
   "metadata": {},
   "outputs": [
    {
     "name": "stdout",
     "output_type": "stream",
     "text": [
      "    No patch info available. The standard source space normals will be employed in the rotation to the local surface coordinates....\n",
      "    Changing to fixed-orientation forward solution with surface-based source orientations...\n",
      "    [done]\n",
      "    No patch info available. The standard source space normals will be employed in the rotation to the local surface coordinates....\n",
      "    Changing to fixed-orientation forward solution with surface-based source orientations...\n",
      "    [done]\n"
     ]
    }
   ],
   "source": [
    "fwds = {}\n",
    "fullpath = os.path.join(\"D:/data/flex_ssm/\", forward_models[0][\"path_fwd\"])\n",
    "fwd_ico4 = mne.read_forward_solution(fullpath, verbose=0)\n",
    "fwd_ico4 = mne.convert_forward_solution(fwd_ico4, force_fixed=True, surf_ori=True, use_cps=True)\n",
    "fwd_ico4.subject = \"sample\"\n",
    "pos_ico4 = get_pos(fwd_ico4)\n",
    "\n",
    "distances_ico4 = cdist(pos_ico4, pos_ico4)\n",
    "adjacency_ico4 = mne.spatial_src_adjacency(fwd_ico4[\"src\"], verbose=0).toarray()\n",
    "\n",
    "fullpath = os.path.join(\"D:/data/flex_ssm/\", forward_models[1][\"path_fwd\"])\n",
    "fwd_oct6 = mne.read_forward_solution(fullpath, verbose=0)\n",
    "fwd_oct6 = mne.convert_forward_solution(fwd_oct6, force_fixed=True, surf_ori=True, use_cps=True)\n",
    "fwd_oct6.subject = \"sample\"\n",
    "pos_oct6 = get_pos(fwd_oct6)\n",
    "distances_oct6 = cdist(pos_ico4, pos_oct6)\n",
    "adjacency_oct6 = mne.spatial_src_adjacency(fwd_oct6[\"src\"], verbose=0).toarray()\n",
    "\n",
    "fullpath = os.path.join(\"D:/data/flex_ssm/\", forward_models[0][\"path_info\"])\n",
    "with open(fullpath, \"rb\") as f:\n",
    "    info = pkl.load(f)"
   ]
  },
  {
   "attachments": {},
   "cell_type": "markdown",
   "metadata": {},
   "source": [
    "# Evaluate all files"
   ]
  },
  {
   "cell_type": "code",
   "execution_count": 4,
   "metadata": {},
   "outputs": [
    {
     "ename": "FileNotFoundError",
     "evalue": "File does not exist: \"c:\\Users\\lukas\\OneDrive\\Dokumente\\projects\\flex_ssm\\ssm_paper_analysis\\forward_models\\Clean_fine-fwd.fif\"",
     "output_type": "error",
     "traceback": [
      "\u001b[1;31m---------------------------------------------------------------------------\u001b[0m",
      "\u001b[1;31mFileNotFoundError\u001b[0m                         Traceback (most recent call last)",
      "Cell \u001b[1;32mIn[4], line 5\u001b[0m\n\u001b[0;32m      2\u001b[0m idx \u001b[38;5;241m=\u001b[39m \u001b[38;5;241m100\u001b[39m\n\u001b[0;32m      4\u001b[0m model \u001b[38;5;241m=\u001b[39m forward_models[\u001b[38;5;241m1\u001b[39m]\n\u001b[1;32m----> 5\u001b[0m fwd_test \u001b[38;5;241m=\u001b[39m \u001b[43mmne\u001b[49m\u001b[38;5;241;43m.\u001b[39;49m\u001b[43mread_forward_solution\u001b[49m\u001b[43m(\u001b[49m\u001b[43mmodel\u001b[49m\u001b[43m[\u001b[49m\u001b[38;5;124;43m\"\u001b[39;49m\u001b[38;5;124;43mpath_fwd\u001b[39;49m\u001b[38;5;124;43m\"\u001b[39;49m\u001b[43m]\u001b[49m\u001b[43m,\u001b[49m\u001b[43m \u001b[49m\u001b[43mverbose\u001b[49m\u001b[38;5;241;43m=\u001b[39;49m\u001b[38;5;241;43m0\u001b[39;49m\u001b[43m)\u001b[49m\n\u001b[0;32m      6\u001b[0m fwd_test \u001b[38;5;241m=\u001b[39m mne\u001b[38;5;241m.\u001b[39mconvert_forward_solution(fwd_test, force_fixed\u001b[38;5;241m=\u001b[39m\u001b[38;5;28;01mTrue\u001b[39;00m)\n\u001b[0;32m      7\u001b[0m \u001b[38;5;28;01mwith\u001b[39;00m \u001b[38;5;28mopen\u001b[39m(model[\u001b[38;5;124m\"\u001b[39m\u001b[38;5;124mpath_info\u001b[39m\u001b[38;5;124m\"\u001b[39m], \u001b[38;5;124m\"\u001b[39m\u001b[38;5;124mrb\u001b[39m\u001b[38;5;124m\"\u001b[39m) \u001b[38;5;28;01mas\u001b[39;00m f:\n",
      "File \u001b[1;32m<decorator-gen-312>:10\u001b[0m, in \u001b[0;36mread_forward_solution\u001b[1;34m(fname, include, exclude, ordered, verbose)\u001b[0m\n",
      "File \u001b[1;32mc:\\Users\\lukas\\virtualenvs\\ssm\\lib\\site-packages\\mne\\forward\\forward.py:573\u001b[0m, in \u001b[0;36mread_forward_solution\u001b[1;34m(fname, include, exclude, ordered, verbose)\u001b[0m\n\u001b[0;32m    529\u001b[0m \u001b[38;5;250m\u001b[39m\u001b[38;5;124;03m\"\"\"Read a forward solution a.k.a. lead field.\u001b[39;00m\n\u001b[0;32m    530\u001b[0m \n\u001b[0;32m    531\u001b[0m \u001b[38;5;124;03mParameters\u001b[39;00m\n\u001b[1;32m   (...)\u001b[0m\n\u001b[0;32m    566\u001b[0m \u001b[38;5;124;03mforward solution with :func:`read_forward_solution`.\u001b[39;00m\n\u001b[0;32m    567\u001b[0m \u001b[38;5;124;03m\"\"\"\u001b[39;00m\n\u001b[0;32m    568\u001b[0m check_fname(\n\u001b[0;32m    569\u001b[0m     fname,\n\u001b[0;32m    570\u001b[0m     \u001b[38;5;124m\"\u001b[39m\u001b[38;5;124mforward\u001b[39m\u001b[38;5;124m\"\u001b[39m,\n\u001b[0;32m    571\u001b[0m     (\u001b[38;5;124m\"\u001b[39m\u001b[38;5;124m-fwd.fif\u001b[39m\u001b[38;5;124m\"\u001b[39m, \u001b[38;5;124m\"\u001b[39m\u001b[38;5;124m-fwd.fif.gz\u001b[39m\u001b[38;5;124m\"\u001b[39m, \u001b[38;5;124m\"\u001b[39m\u001b[38;5;124m_fwd.fif\u001b[39m\u001b[38;5;124m\"\u001b[39m, \u001b[38;5;124m\"\u001b[39m\u001b[38;5;124m_fwd.fif.gz\u001b[39m\u001b[38;5;124m\"\u001b[39m, \u001b[38;5;124m\"\u001b[39m\u001b[38;5;124m-fwd.h5\u001b[39m\u001b[38;5;124m\"\u001b[39m, \u001b[38;5;124m\"\u001b[39m\u001b[38;5;124m_fwd.h5\u001b[39m\u001b[38;5;124m\"\u001b[39m),\n\u001b[0;32m    572\u001b[0m )\n\u001b[1;32m--> 573\u001b[0m fname \u001b[38;5;241m=\u001b[39m \u001b[43m_check_fname\u001b[49m\u001b[43m(\u001b[49m\u001b[43mfname\u001b[49m\u001b[38;5;241;43m=\u001b[39;49m\u001b[43mfname\u001b[49m\u001b[43m,\u001b[49m\u001b[43m \u001b[49m\u001b[43mmust_exist\u001b[49m\u001b[38;5;241;43m=\u001b[39;49m\u001b[38;5;28;43;01mTrue\u001b[39;49;00m\u001b[43m,\u001b[49m\u001b[43m \u001b[49m\u001b[43moverwrite\u001b[49m\u001b[38;5;241;43m=\u001b[39;49m\u001b[38;5;124;43m\"\u001b[39;49m\u001b[38;5;124;43mread\u001b[39;49m\u001b[38;5;124;43m\"\u001b[39;49m\u001b[43m)\u001b[49m\n\u001b[0;32m    574\u001b[0m \u001b[38;5;66;03m#   Open the file, create directory\u001b[39;00m\n\u001b[0;32m    575\u001b[0m logger\u001b[38;5;241m.\u001b[39minfo(\u001b[38;5;124m\"\u001b[39m\u001b[38;5;124mReading forward solution from \u001b[39m\u001b[38;5;132;01m%s\u001b[39;00m\u001b[38;5;124m...\u001b[39m\u001b[38;5;124m\"\u001b[39m \u001b[38;5;241m%\u001b[39m fname)\n",
      "File \u001b[1;32m<decorator-gen-0>:12\u001b[0m, in \u001b[0;36m_check_fname\u001b[1;34m(fname, overwrite, must_exist, name, need_dir, verbose)\u001b[0m\n",
      "File \u001b[1;32mc:\\Users\\lukas\\virtualenvs\\ssm\\lib\\site-packages\\mne\\utils\\check.py:263\u001b[0m, in \u001b[0;36m_check_fname\u001b[1;34m(fname, overwrite, must_exist, name, need_dir, verbose)\u001b[0m\n\u001b[0;32m    261\u001b[0m             \u001b[38;5;28;01mraise\u001b[39;00m \u001b[38;5;167;01mPermissionError\u001b[39;00m(\u001b[38;5;124mf\u001b[39m\u001b[38;5;124m\"\u001b[39m\u001b[38;5;132;01m{\u001b[39;00mname\u001b[38;5;132;01m}\u001b[39;00m\u001b[38;5;124m does not have read permissions: \u001b[39m\u001b[38;5;132;01m{\u001b[39;00mfname\u001b[38;5;132;01m}\u001b[39;00m\u001b[38;5;124m\"\u001b[39m)\n\u001b[0;32m    262\u001b[0m \u001b[38;5;28;01melif\u001b[39;00m must_exist:\n\u001b[1;32m--> 263\u001b[0m     \u001b[38;5;28;01mraise\u001b[39;00m \u001b[38;5;167;01mFileNotFoundError\u001b[39;00m(\u001b[38;5;124mf\u001b[39m\u001b[38;5;124m'\u001b[39m\u001b[38;5;132;01m{\u001b[39;00mname\u001b[38;5;132;01m}\u001b[39;00m\u001b[38;5;124m does not exist: \u001b[39m\u001b[38;5;124m\"\u001b[39m\u001b[38;5;132;01m{\u001b[39;00mfname\u001b[38;5;132;01m}\u001b[39;00m\u001b[38;5;124m\"\u001b[39m\u001b[38;5;124m'\u001b[39m)\n\u001b[0;32m    265\u001b[0m \u001b[38;5;28;01mreturn\u001b[39;00m fname\n",
      "\u001b[1;31mFileNotFoundError\u001b[0m: File does not exist: \"c:\\Users\\lukas\\OneDrive\\Dokumente\\projects\\flex_ssm\\ssm_paper_analysis\\forward_models\\Clean_fine-fwd.fif\""
     ]
    }
   ],
   "source": [
    "%matplotlib qt\n",
    "idx = 100\n",
    "\n",
    "model = forward_models[1]\n",
    "fwd_test = mne.read_forward_solution(model[\"path_fwd\"], verbose=0)\n",
    "fwd_test = mne.convert_forward_solution(fwd_test, force_fixed=True)\n",
    "with open(model[\"path_info\"], \"rb\") as f:\n",
    "    info_test = pkl.load(f)\n",
    "data_1 = fwd_test[\"sol\"][\"data\"][:, idx][:, np.newaxis]\n",
    "\n",
    "evoked = mne.EvokedArray(data_1, info_test)\n",
    "evoked.plot_joint(title=model[\"name\"])\n",
    "\n",
    "model = forward_models[3]\n",
    "fwd_test = mne.read_forward_solution(model[\"path_fwd\"], verbose=0)\n",
    "fwd_test = mne.convert_forward_solution(fwd_test, force_fixed=True)\n",
    "with open(model[\"path_info\"], \"rb\") as f:\n",
    "    info_test = pkl.load(f)\n",
    "data_2 = fwd_test[\"sol\"][\"data\"][:, idx][:, np.newaxis]\n",
    "\n",
    "evoked = mne.EvokedArray(data_1, info_test)\n",
    "evoked.plot_joint(title=model[\"name\"])\n",
    "\n",
    "from scipy.stats import pearsonr\n",
    "print(pearsonr(data_1[:, 0], data_2[:, 0])[0])\n",
    "\n",
    "import matplotlib.pyplot as plt\n",
    "plt.figure()\n",
    "plt.scatter(data_1[:, 0], data_2[:, 0])"
   ]
  },
  {
   "cell_type": "code",
   "execution_count": 6,
   "metadata": {},
   "outputs": [
    {
     "name": "stdout",
     "output_type": "stream",
     "text": [
      "D:/data/flex_ssm/evaluation/sim_and_preds_figure-12_Clean-Coarse_greedy.pkl figure-12 greedy Clean-Coarse\n",
      "FN:  D:/data/flex_ssm/results/results_figure-12_Clean-Coarse_greedy.pkl\n",
      "\tis processed or not a regular file\n",
      "D:/data/flex_ssm/evaluation/sim_and_preds_figure-12_Clean-Fine_greedy.pkl figure-12 greedy Clean-Fine\n",
      "FN:  D:/data/flex_ssm/results/results_figure-12_Clean-Fine_greedy.pkl\n",
      "\tis processed or not a regular file\n",
      "D:/data/flex_ssm/evaluation/sim_and_preds_figure-12_Rotation-Right-1_greedy.pkl figure-12 greedy Rotation-Right-1\n",
      "FN:  D:/data/flex_ssm/results/results_figure-12_Rotation-Right-1_greedy.pkl\n",
      "\tis processed or not a regular file\n",
      "D:/data/flex_ssm/evaluation/sim_and_preds_figure-12_Rotation-Right-2_greedy.pkl figure-12 greedy Rotation-Right-2\n",
      "FN:  D:/data/flex_ssm/results/results_figure-12_Rotation-Right-2_greedy.pkl\n",
      "\tis processed or not a regular file\n",
      "D:/data/flex_ssm/evaluation/sim_and_preds_figure-12_Translation-Posterior-1_greedy.pkl figure-12 greedy Translation-Posterior-1\n",
      "FN:  D:/data/flex_ssm/results/results_figure-12_Translation-Posterior-1_greedy.pkl\n",
      "\tis processed or not a regular file\n",
      "D:/data/flex_ssm/evaluation/sim_and_preds_figure-12_Translation-Posterior-2_greedy.pkl figure-12 greedy Translation-Posterior-2\n",
      "FN:  D:/data/flex_ssm/results/results_figure-12_Translation-Posterior-2_greedy.pkl\n",
      "\tis processed or not a regular file\n",
      "D:/data/flex_ssm/evaluation/sim_and_preds_figure-13_Clean-Coarse_greedy.pkl figure-13 greedy Clean-Coarse\n",
      "FN:  D:/data/flex_ssm/results/results_figure-13_Clean-Coarse_greedy.pkl\n",
      "\tis processed or not a regular file\n",
      "D:/data/flex_ssm/evaluation/sim_and_preds_figure-13_Clean-Fine_greedy.pkl figure-13 greedy Clean-Fine\n",
      "FN:  D:/data/flex_ssm/results/results_figure-13_Clean-Fine_greedy.pkl\n",
      "\tis processed or not a regular file\n",
      "D:/data/flex_ssm/evaluation/sim_and_preds_figure-13_Rotation-Right-1_greedy.pkl figure-13 greedy Rotation-Right-1\n",
      "FN:  D:/data/flex_ssm/results/results_figure-13_Rotation-Right-1_greedy.pkl\n",
      "\tis processed or not a regular file\n",
      "D:/data/flex_ssm/evaluation/sim_and_preds_figure-13_Rotation-Right-2_greedy.pkl figure-13 greedy Rotation-Right-2\n",
      "FN:  D:/data/flex_ssm/results/results_figure-13_Rotation-Right-2_greedy.pkl\n",
      "\tis processed or not a regular file\n",
      "D:/data/flex_ssm/evaluation/sim_and_preds_figure-13_Translation-Posterior-1_greedy.pkl figure-13 greedy Translation-Posterior-1\n",
      "FN:  D:/data/flex_ssm/results/results_figure-13_Translation-Posterior-1_greedy.pkl\n",
      "\tis processed or not a regular file\n",
      "D:/data/flex_ssm/evaluation/sim_and_preds_figure-13_Translation-Posterior-2_greedy.pkl figure-13 greedy Translation-Posterior-2\n",
      "FN:  D:/data/flex_ssm/results/results_figure-13_Translation-Posterior-2_greedy.pkl\n",
      "\tis processed or not a regular file\n",
      "D:/data/flex_ssm/evaluation/sim_and_preds_figure-14_Clean-Coarse_greedy.pkl figure-14 greedy Clean-Coarse\n",
      "FN:  D:/data/flex_ssm/results/results_figure-14_Clean-Coarse_greedy.pkl\n",
      "\tis processed or not a regular file\n",
      "D:/data/flex_ssm/evaluation/sim_and_preds_figure-14_Clean-Fine_greedy.pkl figure-14 greedy Clean-Fine\n",
      "FN:  D:/data/flex_ssm/results/results_figure-14_Clean-Fine_greedy.pkl\n",
      "\tis processed or not a regular file\n",
      "D:/data/flex_ssm/evaluation/sim_and_preds_figure-14_Rotation-Right-1_greedy.pkl figure-14 greedy Rotation-Right-1\n",
      "FN:  D:/data/flex_ssm/results/results_figure-14_Rotation-Right-1_greedy.pkl\n",
      "\tis processed or not a regular file\n",
      "D:/data/flex_ssm/evaluation/sim_and_preds_figure-14_Rotation-Right-2_greedy.pkl figure-14 greedy Rotation-Right-2\n",
      "FN:  D:/data/flex_ssm/results/results_figure-14_Rotation-Right-2_greedy.pkl\n",
      "\tis processed or not a regular file\n",
      "D:/data/flex_ssm/evaluation/sim_and_preds_figure-14_Translation-Posterior-1_greedy.pkl figure-14 greedy Translation-Posterior-1\n",
      "FN:  D:/data/flex_ssm/results/results_figure-14_Translation-Posterior-1_greedy.pkl\n",
      "\tis processed or not a regular file\n",
      "D:/data/flex_ssm/evaluation/sim_and_preds_figure-14_Translation-Posterior-2_greedy.pkl figure-14 greedy Translation-Posterior-2\n",
      "FN:  D:/data/flex_ssm/results/results_figure-14_Translation-Posterior-2_greedy.pkl\n",
      "\tis processed or not a regular file\n",
      "D:/data/flex_ssm/evaluation/sim_and_preds_figure-1_Clean-Coarse_greedy.pkl figure-1 greedy Clean-Coarse\n",
      "FN:  D:/data/flex_ssm/results/results_figure-1_Clean-Coarse_greedy.pkl\n",
      "\tis processed or not a regular file\n",
      "D:/data/flex_ssm/evaluation/sim_and_preds_figure-1_Clean-Fine_greedy.pkl figure-1 greedy Clean-Fine\n",
      "FN:  D:/data/flex_ssm/results/results_figure-1_Clean-Fine_greedy.pkl\n",
      "\tis processed or not a regular file\n",
      "D:/data/flex_ssm/evaluation/sim_and_preds_figure-1_Rotation-Right-1_greedy.pkl figure-1 greedy Rotation-Right-1\n",
      "FN:  D:/data/flex_ssm/results/results_figure-1_Rotation-Right-1_greedy.pkl\n",
      "\tis processed or not a regular file\n",
      "D:/data/flex_ssm/evaluation/sim_and_preds_figure-1_Rotation-Right-2_greedy.pkl figure-1 greedy Rotation-Right-2\n",
      "FN:  D:/data/flex_ssm/results/results_figure-1_Rotation-Right-2_greedy.pkl\n",
      "\tis processed or not a regular file\n",
      "D:/data/flex_ssm/evaluation/sim_and_preds_figure-1_Translation-Posterior-1_greedy.pkl figure-1 greedy Translation-Posterior-1\n",
      "FN:  D:/data/flex_ssm/results/results_figure-1_Translation-Posterior-1_greedy.pkl\n",
      "\tis processed or not a regular file\n",
      "D:/data/flex_ssm/evaluation/sim_and_preds_figure-1_Translation-Posterior-2_greedy.pkl figure-1 greedy Translation-Posterior-2\n",
      "FN:  D:/data/flex_ssm/results/results_figure-1_Translation-Posterior-2_greedy.pkl\n",
      "\tis processed or not a regular file\n",
      "D:/data/flex_ssm/evaluation/sim_and_preds_figure-2_Clean-Coarse_greedy.pkl figure-2 greedy Clean-Coarse\n",
      "FN:  D:/data/flex_ssm/results/results_figure-2_Clean-Coarse_greedy.pkl\n",
      "\tis processed or not a regular file\n",
      "D:/data/flex_ssm/evaluation/sim_and_preds_figure-2_Clean-Fine_greedy.pkl figure-2 greedy Clean-Fine\n",
      "FN:  D:/data/flex_ssm/results/results_figure-2_Clean-Fine_greedy.pkl\n",
      "\tis processed or not a regular file\n",
      "D:/data/flex_ssm/evaluation/sim_and_preds_figure-2_Rotation-Right-1_greedy.pkl figure-2 greedy Rotation-Right-1\n",
      "FN:  D:/data/flex_ssm/results/results_figure-2_Rotation-Right-1_greedy.pkl\n",
      "\tis processed or not a regular file\n",
      "D:/data/flex_ssm/evaluation/sim_and_preds_figure-2_Rotation-Right-2_greedy.pkl figure-2 greedy Rotation-Right-2\n",
      "FN:  D:/data/flex_ssm/results/results_figure-2_Rotation-Right-2_greedy.pkl\n",
      "\tis processed or not a regular file\n",
      "D:/data/flex_ssm/evaluation/sim_and_preds_figure-2_Translation-Posterior-1_greedy.pkl figure-2 greedy Translation-Posterior-1\n",
      "FN:  D:/data/flex_ssm/results/results_figure-2_Translation-Posterior-1_greedy.pkl\n",
      "\tis processed or not a regular file\n",
      "D:/data/flex_ssm/evaluation/sim_and_preds_figure-2_Translation-Posterior-2_greedy.pkl figure-2 greedy Translation-Posterior-2\n",
      "FN:  D:/data/flex_ssm/results/results_figure-2_Translation-Posterior-2_greedy.pkl\n",
      "\tis processed or not a regular file\n",
      "D:/data/flex_ssm/evaluation/sim_and_preds_figure-3_Clean-Coarse_greedy.pkl figure-3 greedy Clean-Coarse\n",
      "FN:  D:/data/flex_ssm/results/results_figure-3_Clean-Coarse_greedy.pkl\n",
      "\tis processed or not a regular file\n",
      "D:/data/flex_ssm/evaluation/sim_and_preds_figure-3_Clean-Fine_greedy.pkl figure-3 greedy Clean-Fine\n",
      "FN:  D:/data/flex_ssm/results/results_figure-3_Clean-Fine_greedy.pkl\n",
      "\tis processed or not a regular file\n",
      "D:/data/flex_ssm/evaluation/sim_and_preds_figure-3_Rotation-Right-1_greedy.pkl figure-3 greedy Rotation-Right-1\n",
      "FN:  D:/data/flex_ssm/results/results_figure-3_Rotation-Right-1_greedy.pkl\n",
      "\tis processed or not a regular file\n",
      "D:/data/flex_ssm/evaluation/sim_and_preds_figure-3_Rotation-Right-2_greedy.pkl figure-3 greedy Rotation-Right-2\n",
      "FN:  D:/data/flex_ssm/results/results_figure-3_Rotation-Right-2_greedy.pkl\n",
      "\tis processed or not a regular file\n",
      "D:/data/flex_ssm/evaluation/sim_and_preds_figure-3_Translation-Posterior-1_greedy.pkl figure-3 greedy Translation-Posterior-1\n",
      "FN:  D:/data/flex_ssm/results/results_figure-3_Translation-Posterior-1_greedy.pkl\n",
      "\tis processed or not a regular file\n",
      "D:/data/flex_ssm/evaluation/sim_and_preds_figure-3_Translation-Posterior-2_greedy.pkl figure-3 greedy Translation-Posterior-2\n",
      "FN:  D:/data/flex_ssm/results/results_figure-3_Translation-Posterior-2_greedy.pkl\n",
      "\tis processed or not a regular file\n",
      "D:/data/flex_ssm/evaluation/sim_and_preds_figure-42_-1-assumed_Clean-Coarse_greedy.pkl figure-42 greedy Clean-Coarse\n",
      "FN:  D:/data/flex_ssm/results/results_figure-42_Clean-Coarse_greedy_-1-assumed.pkl\n",
      "\t D:/data/flex_ssm/results/results_figure-42_Clean-Coarse_greedy_-1-assumed.pkl\n",
      "SSM\n"
     ]
    },
    {
     "data": {
      "application/vnd.jupyter.widget-view+json": {
       "model_id": "d0e98bb97f2c4c0ca4758b5688de2f43",
       "version_major": 2,
       "version_minor": 0
      },
      "text/plain": [
       "  0%|          | 0/1500 [00:00<?, ?it/s]"
      ]
     },
     "metadata": {},
     "output_type": "display_data"
    },
    {
     "name": "stdout",
     "output_type": "stream",
     "text": [
      "\t  0\n",
      "\t  100\n",
      "\t  200\n",
      "\t  300\n",
      "\t  400\n",
      "\t  500\n",
      "\t  600\n",
      "\t  700\n",
      "\t  800\n",
      "\t  900\n",
      "\t  1000\n",
      "\t  1100\n",
      "\t  1200\n",
      "\t  1300\n",
      "\t  1400\n",
      "AP\n"
     ]
    },
    {
     "data": {
      "application/vnd.jupyter.widget-view+json": {
       "model_id": "8b72974243eb458b93aa694eb0915dc5",
       "version_major": 2,
       "version_minor": 0
      },
      "text/plain": [
       "  0%|          | 0/1500 [00:00<?, ?it/s]"
      ]
     },
     "metadata": {},
     "output_type": "display_data"
    },
    {
     "name": "stdout",
     "output_type": "stream",
     "text": [
      "\t  0\n",
      "\t  100\n",
      "\t  200\n",
      "\t  300\n",
      "\t  400\n",
      "\t  500\n",
      "\t  600\n",
      "\t  700\n",
      "\t  800\n",
      "\t  900\n",
      "\t  1000\n",
      "\t  1100\n",
      "\t  1200\n",
      "\t  1300\n",
      "\t  1400\n",
      "RAP-MUSIC\n"
     ]
    },
    {
     "data": {
      "application/vnd.jupyter.widget-view+json": {
       "model_id": "0769684c3202402ea7ce8174e83700c7",
       "version_major": 2,
       "version_minor": 0
      },
      "text/plain": [
       "  0%|          | 0/1500 [00:00<?, ?it/s]"
      ]
     },
     "metadata": {},
     "output_type": "display_data"
    },
    {
     "name": "stdout",
     "output_type": "stream",
     "text": [
      "\t  0\n",
      "\t  100\n",
      "\t  200\n",
      "\t  300\n",
      "\t  400\n",
      "\t  500\n",
      "\t  600\n",
      "\t  700\n",
      "\t  800\n",
      "\t  900\n",
      "\t  1000\n",
      "\t  1100\n",
      "\t  1200\n",
      "\t  1300\n",
      "\t  1400\n",
      "D:/data/flex_ssm/evaluation/sim_and_preds_figure-42_-1-assumed_Clean-Fine_greedy.pkl figure-42 greedy Clean-Fine\n",
      "FN:  D:/data/flex_ssm/results/results_figure-42_Clean-Fine_greedy_-1-assumed.pkl\n",
      "\t D:/data/flex_ssm/results/results_figure-42_Clean-Fine_greedy_-1-assumed.pkl\n",
      "\t\tyep\n",
      "SSM\n"
     ]
    },
    {
     "data": {
      "application/vnd.jupyter.widget-view+json": {
       "model_id": "894498d07c9f405ab69ab067dcab5ecf",
       "version_major": 2,
       "version_minor": 0
      },
      "text/plain": [
       "  0%|          | 0/1500 [00:00<?, ?it/s]"
      ]
     },
     "metadata": {},
     "output_type": "display_data"
    },
    {
     "name": "stdout",
     "output_type": "stream",
     "text": [
      "\t  0\n",
      "\t  100\n",
      "\t  200\n",
      "\t  300\n",
      "\t  400\n",
      "\t  500\n",
      "\t  600\n",
      "\t  700\n",
      "\t  800\n",
      "\t  900\n",
      "\t  1000\n",
      "\t  1100\n",
      "\t  1200\n",
      "\t  1300\n",
      "\t  1400\n",
      "AP\n"
     ]
    },
    {
     "data": {
      "application/vnd.jupyter.widget-view+json": {
       "model_id": "6e3eca030a914f10879745d3ecba2b5a",
       "version_major": 2,
       "version_minor": 0
      },
      "text/plain": [
       "  0%|          | 0/1500 [00:00<?, ?it/s]"
      ]
     },
     "metadata": {},
     "output_type": "display_data"
    },
    {
     "name": "stdout",
     "output_type": "stream",
     "text": [
      "\t  0\n",
      "\t  100\n",
      "\t  200\n",
      "\t  300\n",
      "\t  400\n",
      "\t  500\n",
      "\t  600\n",
      "\t  700\n",
      "\t  800\n",
      "\t  900\n",
      "\t  1000\n",
      "\t  1100\n",
      "\t  1200\n",
      "\t  1300\n",
      "\t  1400\n",
      "RAP-MUSIC\n"
     ]
    },
    {
     "data": {
      "application/vnd.jupyter.widget-view+json": {
       "model_id": "bafe9755c2244232b6902c93d152b008",
       "version_major": 2,
       "version_minor": 0
      },
      "text/plain": [
       "  0%|          | 0/1500 [00:00<?, ?it/s]"
      ]
     },
     "metadata": {},
     "output_type": "display_data"
    },
    {
     "name": "stdout",
     "output_type": "stream",
     "text": [
      "\t  0\n",
      "\t  100\n",
      "\t  200\n",
      "\t  300\n",
      "\t  400\n",
      "\t  500\n",
      "\t  600\n",
      "\t  700\n",
      "\t  800\n",
      "\t  900\n",
      "\t  1000\n",
      "\t  1100\n",
      "\t  1200\n",
      "\t  1300\n",
      "\t  1400\n",
      "D:/data/flex_ssm/evaluation/sim_and_preds_figure-42_-1-assumed_Rotation-Right-1_greedy.pkl figure-42 greedy Rotation-Right-1\n",
      "FN:  D:/data/flex_ssm/results/results_figure-42_Rotation-Right-1_greedy_-1-assumed.pkl\n",
      "\t D:/data/flex_ssm/results/results_figure-42_Rotation-Right-1_greedy_-1-assumed.pkl\n",
      "\t\tyep\n",
      "SSM\n"
     ]
    },
    {
     "data": {
      "application/vnd.jupyter.widget-view+json": {
       "model_id": "e23bc09a29574ee3ac6a4d817c3b5bc6",
       "version_major": 2,
       "version_minor": 0
      },
      "text/plain": [
       "  0%|          | 0/1500 [00:00<?, ?it/s]"
      ]
     },
     "metadata": {},
     "output_type": "display_data"
    },
    {
     "name": "stdout",
     "output_type": "stream",
     "text": [
      "\t  0\n",
      "\t  100\n",
      "\t  200\n",
      "\t  300\n",
      "\t  400\n",
      "\t  500\n",
      "\t  600\n",
      "\t  700\n",
      "\t  800\n",
      "\t  900\n",
      "\t  1000\n",
      "\t  1100\n",
      "\t  1200\n",
      "\t  1300\n",
      "\t  1400\n",
      "AP\n"
     ]
    },
    {
     "data": {
      "application/vnd.jupyter.widget-view+json": {
       "model_id": "8bddf04bf03a4530a9ba66b3632a9c2d",
       "version_major": 2,
       "version_minor": 0
      },
      "text/plain": [
       "  0%|          | 0/1500 [00:00<?, ?it/s]"
      ]
     },
     "metadata": {},
     "output_type": "display_data"
    },
    {
     "name": "stdout",
     "output_type": "stream",
     "text": [
      "\t  0\n",
      "\t  100\n",
      "\t  200\n",
      "\t  300\n",
      "\t  400\n",
      "\t  500\n",
      "\t  600\n",
      "\t  700\n",
      "\t  800\n",
      "\t  900\n",
      "\t  1000\n",
      "\t  1100\n",
      "\t  1200\n",
      "\t  1300\n",
      "\t  1400\n",
      "RAP-MUSIC\n"
     ]
    },
    {
     "data": {
      "application/vnd.jupyter.widget-view+json": {
       "model_id": "b540ade00b324dcc85bcd9a38703c10d",
       "version_major": 2,
       "version_minor": 0
      },
      "text/plain": [
       "  0%|          | 0/1500 [00:00<?, ?it/s]"
      ]
     },
     "metadata": {},
     "output_type": "display_data"
    },
    {
     "name": "stdout",
     "output_type": "stream",
     "text": [
      "\t  0\n",
      "\t  100\n",
      "\t  200\n",
      "\t  300\n",
      "\t  400\n",
      "\t  500\n",
      "\t  600\n",
      "\t  700\n",
      "\t  800\n",
      "\t  900\n",
      "\t  1000\n",
      "\t  1100\n",
      "\t  1200\n",
      "\t  1300\n",
      "\t  1400\n",
      "D:/data/flex_ssm/evaluation/sim_and_preds_figure-42_-1-assumed_Rotation-Right-2_greedy.pkl figure-42 greedy Rotation-Right-2\n",
      "FN:  D:/data/flex_ssm/results/results_figure-42_Rotation-Right-2_greedy_-1-assumed.pkl\n",
      "\t D:/data/flex_ssm/results/results_figure-42_Rotation-Right-2_greedy_-1-assumed.pkl\n",
      "\t\tyep\n",
      "SSM\n"
     ]
    },
    {
     "data": {
      "application/vnd.jupyter.widget-view+json": {
       "model_id": "c435c56a04684497af9fa079763f1ef8",
       "version_major": 2,
       "version_minor": 0
      },
      "text/plain": [
       "  0%|          | 0/1500 [00:00<?, ?it/s]"
      ]
     },
     "metadata": {},
     "output_type": "display_data"
    },
    {
     "name": "stdout",
     "output_type": "stream",
     "text": [
      "\t  0\n",
      "\t  100\n",
      "\t  200\n",
      "\t  300\n",
      "\t  400\n",
      "\t  500\n",
      "\t  600\n",
      "\t  700\n",
      "\t  800\n",
      "\t  900\n",
      "\t  1000\n",
      "\t  1100\n",
      "\t  1200\n",
      "\t  1300\n",
      "\t  1400\n",
      "AP\n"
     ]
    },
    {
     "data": {
      "application/vnd.jupyter.widget-view+json": {
       "model_id": "f1712b12411b40a995afe134cce80ea5",
       "version_major": 2,
       "version_minor": 0
      },
      "text/plain": [
       "  0%|          | 0/1500 [00:00<?, ?it/s]"
      ]
     },
     "metadata": {},
     "output_type": "display_data"
    },
    {
     "name": "stdout",
     "output_type": "stream",
     "text": [
      "\t  0\n",
      "\t  100\n",
      "\t  200\n",
      "\t  300\n",
      "\t  400\n",
      "\t  500\n",
      "\t  600\n",
      "\t  700\n",
      "\t  800\n",
      "\t  900\n",
      "\t  1000\n",
      "\t  1100\n",
      "\t  1200\n",
      "\t  1300\n",
      "\t  1400\n",
      "RAP-MUSIC\n"
     ]
    },
    {
     "data": {
      "application/vnd.jupyter.widget-view+json": {
       "model_id": "5058d73274a340bda1201d542817f6ed",
       "version_major": 2,
       "version_minor": 0
      },
      "text/plain": [
       "  0%|          | 0/1500 [00:00<?, ?it/s]"
      ]
     },
     "metadata": {},
     "output_type": "display_data"
    },
    {
     "name": "stdout",
     "output_type": "stream",
     "text": [
      "\t  0\n",
      "\t  100\n",
      "\t  200\n",
      "\t  300\n",
      "\t  400\n",
      "\t  500\n",
      "\t  600\n",
      "\t  700\n",
      "\t  800\n",
      "\t  900\n",
      "\t  1000\n",
      "\t  1100\n",
      "\t  1200\n",
      "\t  1300\n",
      "\t  1400\n",
      "D:/data/flex_ssm/evaluation/sim_and_preds_figure-42_-1-assumed_Translation-Posterior-1_greedy.pkl figure-42 greedy Translation-Posterior-1\n",
      "FN:  D:/data/flex_ssm/results/results_figure-42_Translation-Posterior-1_greedy_-1-assumed.pkl\n",
      "\t D:/data/flex_ssm/results/results_figure-42_Translation-Posterior-1_greedy_-1-assumed.pkl\n",
      "\t\tyep\n",
      "SSM\n"
     ]
    },
    {
     "data": {
      "application/vnd.jupyter.widget-view+json": {
       "model_id": "4e61beb685e34ed5a7342ea17a74f1d1",
       "version_major": 2,
       "version_minor": 0
      },
      "text/plain": [
       "  0%|          | 0/1500 [00:00<?, ?it/s]"
      ]
     },
     "metadata": {},
     "output_type": "display_data"
    },
    {
     "name": "stdout",
     "output_type": "stream",
     "text": [
      "\t  0\n",
      "\t  100\n",
      "\t  200\n",
      "\t  300\n",
      "\t  400\n",
      "\t  500\n",
      "\t  600\n",
      "\t  700\n",
      "\t  800\n",
      "\t  900\n",
      "\t  1000\n",
      "\t  1100\n",
      "\t  1200\n",
      "\t  1300\n",
      "\t  1400\n",
      "AP\n"
     ]
    },
    {
     "data": {
      "application/vnd.jupyter.widget-view+json": {
       "model_id": "d8aacd4db0904907bc5aca20d1f98888",
       "version_major": 2,
       "version_minor": 0
      },
      "text/plain": [
       "  0%|          | 0/1500 [00:00<?, ?it/s]"
      ]
     },
     "metadata": {},
     "output_type": "display_data"
    },
    {
     "name": "stdout",
     "output_type": "stream",
     "text": [
      "\t  0\n",
      "\t  100\n",
      "\t  200\n",
      "\t  300\n",
      "\t  400\n",
      "\t  500\n",
      "\t  600\n",
      "\t  700\n",
      "\t  800\n",
      "\t  900\n",
      "\t  1000\n",
      "\t  1100\n",
      "\t  1200\n",
      "\t  1300\n",
      "\t  1400\n",
      "RAP-MUSIC\n"
     ]
    },
    {
     "data": {
      "application/vnd.jupyter.widget-view+json": {
       "model_id": "2417c77dbecc4e27a6e63b3ce741cc2d",
       "version_major": 2,
       "version_minor": 0
      },
      "text/plain": [
       "  0%|          | 0/1500 [00:00<?, ?it/s]"
      ]
     },
     "metadata": {},
     "output_type": "display_data"
    },
    {
     "name": "stdout",
     "output_type": "stream",
     "text": [
      "\t  0\n",
      "\t  100\n",
      "\t  200\n",
      "\t  300\n",
      "\t  400\n",
      "\t  500\n",
      "\t  600\n",
      "\t  700\n",
      "\t  800\n",
      "\t  900\n",
      "\t  1000\n",
      "\t  1100\n",
      "\t  1200\n",
      "\t  1300\n",
      "\t  1400\n",
      "D:/data/flex_ssm/evaluation/sim_and_preds_figure-42_-1-assumed_Translation-Posterior-2_greedy.pkl figure-42 greedy Translation-Posterior-2\n",
      "FN:  D:/data/flex_ssm/results/results_figure-42_Translation-Posterior-2_greedy_-1-assumed.pkl\n",
      "\t D:/data/flex_ssm/results/results_figure-42_Translation-Posterior-2_greedy_-1-assumed.pkl\n",
      "\t\tyep\n",
      "SSM\n"
     ]
    },
    {
     "data": {
      "application/vnd.jupyter.widget-view+json": {
       "model_id": "ec47544147ba422eab02cf7585a9ddae",
       "version_major": 2,
       "version_minor": 0
      },
      "text/plain": [
       "  0%|          | 0/1500 [00:00<?, ?it/s]"
      ]
     },
     "metadata": {},
     "output_type": "display_data"
    },
    {
     "name": "stdout",
     "output_type": "stream",
     "text": [
      "\t  0\n",
      "\t  100\n",
      "\t  200\n",
      "\t  300\n",
      "\t  400\n",
      "\t  500\n",
      "\t  600\n",
      "\t  700\n",
      "\t  800\n",
      "\t  900\n",
      "\t  1000\n",
      "\t  1100\n",
      "\t  1200\n",
      "\t  1300\n",
      "\t  1400\n",
      "AP\n"
     ]
    },
    {
     "data": {
      "application/vnd.jupyter.widget-view+json": {
       "model_id": "35847e586a5048e7a07d98d526380f2c",
       "version_major": 2,
       "version_minor": 0
      },
      "text/plain": [
       "  0%|          | 0/1500 [00:00<?, ?it/s]"
      ]
     },
     "metadata": {},
     "output_type": "display_data"
    },
    {
     "name": "stdout",
     "output_type": "stream",
     "text": [
      "\t  0\n",
      "\t  100\n",
      "\t  200\n",
      "\t  300\n",
      "\t  400\n",
      "\t  500\n",
      "\t  600\n",
      "\t  700\n",
      "\t  800\n",
      "\t  900\n",
      "\t  1000\n",
      "\t  1100\n",
      "\t  1200\n",
      "\t  1300\n",
      "\t  1400\n",
      "RAP-MUSIC\n"
     ]
    },
    {
     "data": {
      "application/vnd.jupyter.widget-view+json": {
       "model_id": "3588bafaf4764a2a85a7bb5c74824b8a",
       "version_major": 2,
       "version_minor": 0
      },
      "text/plain": [
       "  0%|          | 0/1500 [00:00<?, ?it/s]"
      ]
     },
     "metadata": {},
     "output_type": "display_data"
    },
    {
     "name": "stdout",
     "output_type": "stream",
     "text": [
      "\t  0\n",
      "\t  100\n",
      "\t  200\n",
      "\t  300\n",
      "\t  400\n",
      "\t  500\n",
      "\t  600\n",
      "\t  700\n",
      "\t  800\n",
      "\t  900\n",
      "\t  1000\n",
      "\t  1100\n",
      "\t  1200\n",
      "\t  1300\n",
      "\t  1400\n",
      "D:/data/flex_ssm/evaluation/sim_and_preds_figure-42_0-assumed_Clean-Coarse_greedy.pkl figure-42 greedy Clean-Coarse\n",
      "FN:  D:/data/flex_ssm/results/results_figure-42_Clean-Coarse_greedy_0-assumed.pkl\n",
      "\t D:/data/flex_ssm/results/results_figure-42_Clean-Coarse_greedy_0-assumed.pkl\n",
      "SSM\n"
     ]
    },
    {
     "data": {
      "application/vnd.jupyter.widget-view+json": {
       "model_id": "091129dc396642afafcddd2c7b0fb8aa",
       "version_major": 2,
       "version_minor": 0
      },
      "text/plain": [
       "  0%|          | 0/1500 [00:00<?, ?it/s]"
      ]
     },
     "metadata": {},
     "output_type": "display_data"
    },
    {
     "name": "stdout",
     "output_type": "stream",
     "text": [
      "\t  0\n",
      "\t  100\n",
      "\t  200\n",
      "\t  300\n",
      "\t  400\n",
      "\t  500\n",
      "\t  600\n",
      "\t  700\n",
      "\t  800\n",
      "\t  900\n",
      "\t  1000\n",
      "\t  1100\n",
      "\t  1200\n",
      "\t  1300\n",
      "\t  1400\n",
      "AP\n"
     ]
    },
    {
     "data": {
      "application/vnd.jupyter.widget-view+json": {
       "model_id": "7731d703d1fb4a3bbd32a0328d4a0ef0",
       "version_major": 2,
       "version_minor": 0
      },
      "text/plain": [
       "  0%|          | 0/1500 [00:00<?, ?it/s]"
      ]
     },
     "metadata": {},
     "output_type": "display_data"
    },
    {
     "name": "stdout",
     "output_type": "stream",
     "text": [
      "\t  0\n",
      "\t  100\n",
      "\t  200\n",
      "\t  300\n",
      "\t  400\n",
      "\t  500\n",
      "\t  600\n",
      "\t  700\n",
      "\t  800\n",
      "\t  900\n",
      "\t  1000\n",
      "\t  1100\n",
      "\t  1200\n",
      "\t  1300\n",
      "\t  1400\n",
      "RAP-MUSIC\n"
     ]
    },
    {
     "data": {
      "application/vnd.jupyter.widget-view+json": {
       "model_id": "9cc6da8d780940bfb7f60fe4f8c40c35",
       "version_major": 2,
       "version_minor": 0
      },
      "text/plain": [
       "  0%|          | 0/1500 [00:00<?, ?it/s]"
      ]
     },
     "metadata": {},
     "output_type": "display_data"
    },
    {
     "name": "stdout",
     "output_type": "stream",
     "text": [
      "\t  0\n",
      "\t  100\n",
      "\t  200\n",
      "\t  300\n",
      "\t  400\n",
      "\t  500\n",
      "\t  600\n",
      "\t  700\n",
      "\t  800\n",
      "\t  900\n",
      "\t  1000\n",
      "\t  1100\n",
      "\t  1200\n",
      "\t  1300\n",
      "\t  1400\n",
      "D:/data/flex_ssm/evaluation/sim_and_preds_figure-42_0-assumed_Clean-Fine_greedy.pkl figure-42 greedy Clean-Fine\n",
      "FN:  D:/data/flex_ssm/results/results_figure-42_Clean-Fine_greedy_0-assumed.pkl\n",
      "\t D:/data/flex_ssm/results/results_figure-42_Clean-Fine_greedy_0-assumed.pkl\n",
      "\t\tyep\n",
      "SSM\n"
     ]
    },
    {
     "data": {
      "application/vnd.jupyter.widget-view+json": {
       "model_id": "4afd21c276c04129927533455ab73cc4",
       "version_major": 2,
       "version_minor": 0
      },
      "text/plain": [
       "  0%|          | 0/1500 [00:00<?, ?it/s]"
      ]
     },
     "metadata": {},
     "output_type": "display_data"
    },
    {
     "name": "stdout",
     "output_type": "stream",
     "text": [
      "\t  0\n",
      "\t  100\n",
      "\t  200\n",
      "\t  300\n",
      "\t  400\n",
      "\t  500\n",
      "\t  600\n",
      "\t  700\n",
      "\t  800\n",
      "\t  900\n",
      "\t  1000\n",
      "\t  1100\n",
      "\t  1200\n",
      "\t  1300\n",
      "\t  1400\n",
      "AP\n"
     ]
    },
    {
     "data": {
      "application/vnd.jupyter.widget-view+json": {
       "model_id": "feecbc497fae4be89f70f027ab0e895e",
       "version_major": 2,
       "version_minor": 0
      },
      "text/plain": [
       "  0%|          | 0/1500 [00:00<?, ?it/s]"
      ]
     },
     "metadata": {},
     "output_type": "display_data"
    },
    {
     "name": "stdout",
     "output_type": "stream",
     "text": [
      "\t  0\n",
      "\t  100\n",
      "\t  200\n",
      "\t  300\n",
      "\t  400\n",
      "\t  500\n",
      "\t  600\n",
      "\t  700\n",
      "\t  800\n",
      "\t  900\n",
      "\t  1000\n",
      "\t  1100\n",
      "\t  1200\n",
      "\t  1300\n",
      "\t  1400\n",
      "RAP-MUSIC\n"
     ]
    },
    {
     "data": {
      "application/vnd.jupyter.widget-view+json": {
       "model_id": "48ddf9e38fdd4957bcedecdcec17dd64",
       "version_major": 2,
       "version_minor": 0
      },
      "text/plain": [
       "  0%|          | 0/1500 [00:00<?, ?it/s]"
      ]
     },
     "metadata": {},
     "output_type": "display_data"
    },
    {
     "name": "stdout",
     "output_type": "stream",
     "text": [
      "\t  0\n",
      "\t  100\n",
      "\t  200\n",
      "\t  300\n",
      "\t  400\n",
      "\t  500\n",
      "\t  600\n",
      "\t  700\n",
      "\t  800\n",
      "\t  900\n",
      "\t  1000\n",
      "\t  1100\n",
      "\t  1200\n",
      "\t  1300\n",
      "\t  1400\n",
      "D:/data/flex_ssm/evaluation/sim_and_preds_figure-42_0-assumed_Rotation-Right-1_greedy.pkl figure-42 greedy Rotation-Right-1\n",
      "FN:  D:/data/flex_ssm/results/results_figure-42_Rotation-Right-1_greedy_0-assumed.pkl\n",
      "\t D:/data/flex_ssm/results/results_figure-42_Rotation-Right-1_greedy_0-assumed.pkl\n",
      "\t\tyep\n",
      "SSM\n"
     ]
    },
    {
     "data": {
      "application/vnd.jupyter.widget-view+json": {
       "model_id": "203f67483947432f8f8cb5df3241e32f",
       "version_major": 2,
       "version_minor": 0
      },
      "text/plain": [
       "  0%|          | 0/1500 [00:00<?, ?it/s]"
      ]
     },
     "metadata": {},
     "output_type": "display_data"
    },
    {
     "name": "stdout",
     "output_type": "stream",
     "text": [
      "\t  0\n",
      "\t  100\n",
      "\t  200\n",
      "\t  300\n",
      "\t  400\n",
      "\t  500\n",
      "\t  600\n",
      "\t  700\n",
      "\t  800\n",
      "\t  900\n",
      "\t  1000\n",
      "\t  1100\n",
      "\t  1200\n",
      "\t  1300\n",
      "\t  1400\n",
      "AP\n"
     ]
    },
    {
     "data": {
      "application/vnd.jupyter.widget-view+json": {
       "model_id": "19cccaa127e94fc9a46967c2d06b0508",
       "version_major": 2,
       "version_minor": 0
      },
      "text/plain": [
       "  0%|          | 0/1500 [00:00<?, ?it/s]"
      ]
     },
     "metadata": {},
     "output_type": "display_data"
    },
    {
     "name": "stdout",
     "output_type": "stream",
     "text": [
      "\t  0\n",
      "\t  100\n",
      "\t  200\n",
      "\t  300\n",
      "\t  400\n",
      "\t  500\n",
      "\t  600\n",
      "\t  700\n",
      "\t  800\n",
      "\t  900\n",
      "\t  1000\n",
      "\t  1100\n",
      "\t  1200\n",
      "\t  1300\n",
      "\t  1400\n",
      "RAP-MUSIC\n"
     ]
    },
    {
     "data": {
      "application/vnd.jupyter.widget-view+json": {
       "model_id": "c6110a0ecf094896a71015a6cb7a5b06",
       "version_major": 2,
       "version_minor": 0
      },
      "text/plain": [
       "  0%|          | 0/1500 [00:00<?, ?it/s]"
      ]
     },
     "metadata": {},
     "output_type": "display_data"
    },
    {
     "name": "stdout",
     "output_type": "stream",
     "text": [
      "\t  0\n",
      "\t  100\n",
      "\t  200\n",
      "\t  300\n",
      "\t  400\n",
      "\t  500\n",
      "\t  600\n",
      "\t  700\n",
      "\t  800\n",
      "\t  900\n",
      "\t  1000\n",
      "\t  1100\n",
      "\t  1200\n",
      "\t  1300\n",
      "\t  1400\n",
      "D:/data/flex_ssm/evaluation/sim_and_preds_figure-42_0-assumed_Rotation-Right-2_greedy.pkl figure-42 greedy Rotation-Right-2\n",
      "FN:  D:/data/flex_ssm/results/results_figure-42_Rotation-Right-2_greedy_0-assumed.pkl\n",
      "\t D:/data/flex_ssm/results/results_figure-42_Rotation-Right-2_greedy_0-assumed.pkl\n",
      "\t\tyep\n",
      "SSM\n"
     ]
    },
    {
     "data": {
      "application/vnd.jupyter.widget-view+json": {
       "model_id": "b379c79aad204c7ca33f46d3822947bd",
       "version_major": 2,
       "version_minor": 0
      },
      "text/plain": [
       "  0%|          | 0/1500 [00:00<?, ?it/s]"
      ]
     },
     "metadata": {},
     "output_type": "display_data"
    },
    {
     "name": "stdout",
     "output_type": "stream",
     "text": [
      "\t  0\n",
      "\t  100\n",
      "\t  200\n",
      "\t  300\n",
      "\t  400\n",
      "\t  500\n",
      "\t  600\n",
      "\t  700\n",
      "\t  800\n",
      "\t  900\n",
      "\t  1000\n",
      "\t  1100\n",
      "\t  1200\n",
      "\t  1300\n",
      "\t  1400\n",
      "AP\n"
     ]
    },
    {
     "data": {
      "application/vnd.jupyter.widget-view+json": {
       "model_id": "f319daaff31248d299650f9fe4aca851",
       "version_major": 2,
       "version_minor": 0
      },
      "text/plain": [
       "  0%|          | 0/1500 [00:00<?, ?it/s]"
      ]
     },
     "metadata": {},
     "output_type": "display_data"
    },
    {
     "name": "stdout",
     "output_type": "stream",
     "text": [
      "\t  0\n",
      "\t  100\n",
      "\t  200\n",
      "\t  300\n",
      "\t  400\n",
      "\t  500\n",
      "\t  600\n",
      "\t  700\n",
      "\t  800\n",
      "\t  900\n",
      "\t  1000\n",
      "\t  1100\n",
      "\t  1200\n",
      "\t  1300\n",
      "\t  1400\n",
      "RAP-MUSIC\n"
     ]
    },
    {
     "data": {
      "application/vnd.jupyter.widget-view+json": {
       "model_id": "6eb48f90408e4a45bf3f1db6f2b58e2d",
       "version_major": 2,
       "version_minor": 0
      },
      "text/plain": [
       "  0%|          | 0/1500 [00:00<?, ?it/s]"
      ]
     },
     "metadata": {},
     "output_type": "display_data"
    },
    {
     "name": "stdout",
     "output_type": "stream",
     "text": [
      "\t  0\n",
      "\t  100\n",
      "\t  200\n",
      "\t  300\n",
      "\t  400\n",
      "\t  500\n",
      "\t  600\n",
      "\t  700\n",
      "\t  800\n",
      "\t  900\n",
      "\t  1000\n",
      "\t  1100\n",
      "\t  1200\n",
      "\t  1300\n",
      "\t  1400\n",
      "D:/data/flex_ssm/evaluation/sim_and_preds_figure-42_0-assumed_Translation-Posterior-1_greedy.pkl figure-42 greedy Translation-Posterior-1\n",
      "FN:  D:/data/flex_ssm/results/results_figure-42_Translation-Posterior-1_greedy_0-assumed.pkl\n",
      "\t D:/data/flex_ssm/results/results_figure-42_Translation-Posterior-1_greedy_0-assumed.pkl\n",
      "\t\tyep\n",
      "SSM\n"
     ]
    },
    {
     "data": {
      "application/vnd.jupyter.widget-view+json": {
       "model_id": "484b90ff4a794465a1b336019f4d7320",
       "version_major": 2,
       "version_minor": 0
      },
      "text/plain": [
       "  0%|          | 0/1500 [00:00<?, ?it/s]"
      ]
     },
     "metadata": {},
     "output_type": "display_data"
    },
    {
     "name": "stdout",
     "output_type": "stream",
     "text": [
      "\t  0\n",
      "\t  100\n",
      "\t  200\n",
      "\t  300\n",
      "\t  400\n",
      "\t  500\n",
      "\t  600\n",
      "\t  700\n",
      "\t  800\n",
      "\t  900\n",
      "\t  1000\n",
      "\t  1100\n",
      "\t  1200\n",
      "\t  1300\n",
      "\t  1400\n",
      "AP\n"
     ]
    },
    {
     "data": {
      "application/vnd.jupyter.widget-view+json": {
       "model_id": "4ea4e4c7c75a48ce8d75ffc174be4c63",
       "version_major": 2,
       "version_minor": 0
      },
      "text/plain": [
       "  0%|          | 0/1500 [00:00<?, ?it/s]"
      ]
     },
     "metadata": {},
     "output_type": "display_data"
    },
    {
     "name": "stdout",
     "output_type": "stream",
     "text": [
      "\t  0\n",
      "\t  100\n",
      "\t  200\n",
      "\t  300\n",
      "\t  400\n",
      "\t  500\n",
      "\t  600\n",
      "\t  700\n",
      "\t  800\n",
      "\t  900\n",
      "\t  1000\n",
      "\t  1100\n",
      "\t  1200\n",
      "\t  1300\n",
      "\t  1400\n",
      "RAP-MUSIC\n"
     ]
    },
    {
     "data": {
      "application/vnd.jupyter.widget-view+json": {
       "model_id": "1194bceca1cf42248b77f5bf758cabdf",
       "version_major": 2,
       "version_minor": 0
      },
      "text/plain": [
       "  0%|          | 0/1500 [00:00<?, ?it/s]"
      ]
     },
     "metadata": {},
     "output_type": "display_data"
    },
    {
     "name": "stdout",
     "output_type": "stream",
     "text": [
      "\t  0\n",
      "\t  100\n",
      "\t  200\n",
      "\t  300\n",
      "\t  400\n",
      "\t  500\n",
      "\t  600\n",
      "\t  700\n",
      "\t  800\n",
      "\t  900\n",
      "\t  1000\n",
      "\t  1100\n",
      "\t  1200\n",
      "\t  1300\n",
      "\t  1400\n",
      "D:/data/flex_ssm/evaluation/sim_and_preds_figure-42_0-assumed_Translation-Posterior-2_greedy.pkl figure-42 greedy Translation-Posterior-2\n",
      "FN:  D:/data/flex_ssm/results/results_figure-42_Translation-Posterior-2_greedy_0-assumed.pkl\n",
      "\t D:/data/flex_ssm/results/results_figure-42_Translation-Posterior-2_greedy_0-assumed.pkl\n",
      "\t\tyep\n",
      "SSM\n"
     ]
    },
    {
     "data": {
      "application/vnd.jupyter.widget-view+json": {
       "model_id": "93cef20efa5a4ca8bd6b828fde08a2c0",
       "version_major": 2,
       "version_minor": 0
      },
      "text/plain": [
       "  0%|          | 0/1500 [00:00<?, ?it/s]"
      ]
     },
     "metadata": {},
     "output_type": "display_data"
    },
    {
     "name": "stdout",
     "output_type": "stream",
     "text": [
      "\t  0\n",
      "\t  100\n",
      "\t  200\n",
      "\t  300\n",
      "\t  400\n",
      "\t  500\n",
      "\t  600\n",
      "\t  700\n",
      "\t  800\n",
      "\t  900\n",
      "\t  1000\n",
      "\t  1100\n",
      "\t  1200\n",
      "\t  1300\n",
      "\t  1400\n",
      "AP\n"
     ]
    },
    {
     "data": {
      "application/vnd.jupyter.widget-view+json": {
       "model_id": "150d25d548ff4258a3e24552962f8604",
       "version_major": 2,
       "version_minor": 0
      },
      "text/plain": [
       "  0%|          | 0/1500 [00:00<?, ?it/s]"
      ]
     },
     "metadata": {},
     "output_type": "display_data"
    },
    {
     "name": "stdout",
     "output_type": "stream",
     "text": [
      "\t  0\n",
      "\t  100\n",
      "\t  200\n",
      "\t  300\n",
      "\t  400\n",
      "\t  500\n",
      "\t  600\n",
      "\t  700\n",
      "\t  800\n",
      "\t  900\n",
      "\t  1000\n",
      "\t  1100\n",
      "\t  1200\n",
      "\t  1300\n",
      "\t  1400\n",
      "RAP-MUSIC\n"
     ]
    },
    {
     "data": {
      "application/vnd.jupyter.widget-view+json": {
       "model_id": "45f987dfc9b74f308b5e25bc2ab75d1d",
       "version_major": 2,
       "version_minor": 0
      },
      "text/plain": [
       "  0%|          | 0/1500 [00:00<?, ?it/s]"
      ]
     },
     "metadata": {},
     "output_type": "display_data"
    },
    {
     "name": "stdout",
     "output_type": "stream",
     "text": [
      "\t  0\n",
      "\t  100\n",
      "\t  200\n",
      "\t  300\n",
      "\t  400\n",
      "\t  500\n",
      "\t  600\n",
      "\t  700\n",
      "\t  800\n",
      "\t  900\n",
      "\t  1000\n",
      "\t  1100\n",
      "\t  1200\n",
      "\t  1300\n",
      "\t  1400\n",
      "D:/data/flex_ssm/evaluation/sim_and_preds_figure-42_1-assumed_Clean-Coarse_greedy.pkl figure-42 greedy Clean-Coarse\n",
      "FN:  D:/data/flex_ssm/results/results_figure-42_Clean-Coarse_greedy_1-assumed.pkl\n",
      "\t D:/data/flex_ssm/results/results_figure-42_Clean-Coarse_greedy_1-assumed.pkl\n",
      "SSM\n"
     ]
    },
    {
     "data": {
      "application/vnd.jupyter.widget-view+json": {
       "model_id": "7859eb28ac5b455c96a02d7a8fc0a7f1",
       "version_major": 2,
       "version_minor": 0
      },
      "text/plain": [
       "  0%|          | 0/1500 [00:00<?, ?it/s]"
      ]
     },
     "metadata": {},
     "output_type": "display_data"
    },
    {
     "name": "stdout",
     "output_type": "stream",
     "text": [
      "\t  0\n",
      "\t  100\n",
      "\t  200\n",
      "\t  300\n",
      "\t  400\n",
      "\t  500\n",
      "\t  600\n",
      "\t  700\n",
      "\t  800\n",
      "\t  900\n",
      "\t  1000\n",
      "\t  1100\n",
      "\t  1200\n",
      "\t  1300\n",
      "\t  1400\n",
      "AP\n"
     ]
    },
    {
     "data": {
      "application/vnd.jupyter.widget-view+json": {
       "model_id": "0989688668d5478384cf4ed0583a0703",
       "version_major": 2,
       "version_minor": 0
      },
      "text/plain": [
       "  0%|          | 0/1500 [00:00<?, ?it/s]"
      ]
     },
     "metadata": {},
     "output_type": "display_data"
    },
    {
     "name": "stdout",
     "output_type": "stream",
     "text": [
      "\t  0\n",
      "\t  100\n",
      "\t  200\n",
      "\t  300\n",
      "\t  400\n",
      "\t  500\n",
      "\t  600\n",
      "\t  700\n",
      "\t  800\n",
      "\t  900\n",
      "\t  1000\n",
      "\t  1100\n",
      "\t  1200\n",
      "\t  1300\n",
      "\t  1400\n",
      "RAP-MUSIC\n"
     ]
    },
    {
     "data": {
      "application/vnd.jupyter.widget-view+json": {
       "model_id": "f71e9e3f69924becb8c2bc27e98eeb7e",
       "version_major": 2,
       "version_minor": 0
      },
      "text/plain": [
       "  0%|          | 0/1500 [00:00<?, ?it/s]"
      ]
     },
     "metadata": {},
     "output_type": "display_data"
    },
    {
     "name": "stdout",
     "output_type": "stream",
     "text": [
      "\t  0\n",
      "\t  100\n",
      "\t  200\n",
      "\t  300\n",
      "\t  400\n",
      "\t  500\n",
      "\t  600\n",
      "\t  700\n",
      "\t  800\n",
      "\t  900\n",
      "\t  1000\n",
      "\t  1100\n",
      "\t  1200\n",
      "\t  1300\n",
      "\t  1400\n",
      "D:/data/flex_ssm/evaluation/sim_and_preds_figure-42_1-assumed_Clean-Fine_greedy.pkl figure-42 greedy Clean-Fine\n",
      "FN:  D:/data/flex_ssm/results/results_figure-42_Clean-Fine_greedy_1-assumed.pkl\n",
      "\t D:/data/flex_ssm/results/results_figure-42_Clean-Fine_greedy_1-assumed.pkl\n",
      "\t\tyep\n",
      "SSM\n"
     ]
    },
    {
     "data": {
      "application/vnd.jupyter.widget-view+json": {
       "model_id": "e0c2ee9e4f2b4890bc24ca464d251bd9",
       "version_major": 2,
       "version_minor": 0
      },
      "text/plain": [
       "  0%|          | 0/1500 [00:00<?, ?it/s]"
      ]
     },
     "metadata": {},
     "output_type": "display_data"
    },
    {
     "name": "stdout",
     "output_type": "stream",
     "text": [
      "\t  0\n",
      "\t  100\n",
      "\t  200\n",
      "\t  300\n",
      "\t  400\n",
      "\t  500\n",
      "\t  600\n",
      "\t  700\n",
      "\t  800\n",
      "\t  900\n",
      "\t  1000\n",
      "\t  1100\n",
      "\t  1200\n",
      "\t  1300\n",
      "\t  1400\n",
      "AP\n"
     ]
    },
    {
     "data": {
      "application/vnd.jupyter.widget-view+json": {
       "model_id": "e2403ffe910846629ddb5236001ec462",
       "version_major": 2,
       "version_minor": 0
      },
      "text/plain": [
       "  0%|          | 0/1500 [00:00<?, ?it/s]"
      ]
     },
     "metadata": {},
     "output_type": "display_data"
    },
    {
     "name": "stdout",
     "output_type": "stream",
     "text": [
      "\t  0\n",
      "\t  100\n",
      "\t  200\n",
      "\t  300\n",
      "\t  400\n",
      "\t  500\n",
      "\t  600\n",
      "\t  700\n",
      "\t  800\n",
      "\t  900\n",
      "\t  1000\n",
      "\t  1100\n",
      "\t  1200\n",
      "\t  1300\n",
      "\t  1400\n",
      "RAP-MUSIC\n"
     ]
    },
    {
     "data": {
      "application/vnd.jupyter.widget-view+json": {
       "model_id": "9eff99ff11a4450c9315fd5c89ae4c48",
       "version_major": 2,
       "version_minor": 0
      },
      "text/plain": [
       "  0%|          | 0/1500 [00:00<?, ?it/s]"
      ]
     },
     "metadata": {},
     "output_type": "display_data"
    },
    {
     "name": "stdout",
     "output_type": "stream",
     "text": [
      "\t  0\n",
      "\t  100\n",
      "\t  200\n",
      "\t  300\n",
      "\t  400\n",
      "\t  500\n",
      "\t  600\n",
      "\t  700\n",
      "\t  800\n",
      "\t  900\n",
      "\t  1000\n",
      "\t  1100\n",
      "\t  1200\n",
      "\t  1300\n",
      "\t  1400\n",
      "D:/data/flex_ssm/evaluation/sim_and_preds_figure-42_1-assumed_Rotation-Right-1_greedy.pkl figure-42 greedy Rotation-Right-1\n",
      "FN:  D:/data/flex_ssm/results/results_figure-42_Rotation-Right-1_greedy_1-assumed.pkl\n",
      "\t D:/data/flex_ssm/results/results_figure-42_Rotation-Right-1_greedy_1-assumed.pkl\n",
      "\t\tyep\n",
      "SSM\n"
     ]
    },
    {
     "data": {
      "application/vnd.jupyter.widget-view+json": {
       "model_id": "ac38a7e336994a9389d768e7e5032d9e",
       "version_major": 2,
       "version_minor": 0
      },
      "text/plain": [
       "  0%|          | 0/1500 [00:00<?, ?it/s]"
      ]
     },
     "metadata": {},
     "output_type": "display_data"
    },
    {
     "name": "stdout",
     "output_type": "stream",
     "text": [
      "\t  0\n",
      "\t  100\n",
      "\t  200\n",
      "\t  300\n",
      "\t  400\n",
      "\t  500\n",
      "\t  600\n",
      "\t  700\n",
      "\t  800\n",
      "\t  900\n",
      "\t  1000\n",
      "\t  1100\n",
      "\t  1200\n",
      "\t  1300\n",
      "\t  1400\n",
      "AP\n"
     ]
    },
    {
     "data": {
      "application/vnd.jupyter.widget-view+json": {
       "model_id": "411e45d5872d4025b21e072043ffa8d1",
       "version_major": 2,
       "version_minor": 0
      },
      "text/plain": [
       "  0%|          | 0/1500 [00:00<?, ?it/s]"
      ]
     },
     "metadata": {},
     "output_type": "display_data"
    },
    {
     "name": "stdout",
     "output_type": "stream",
     "text": [
      "\t  0\n",
      "\t  100\n",
      "\t  200\n",
      "\t  300\n",
      "\t  400\n",
      "\t  500\n",
      "\t  600\n",
      "\t  700\n",
      "\t  800\n",
      "\t  900\n",
      "\t  1000\n",
      "\t  1100\n",
      "\t  1200\n",
      "\t  1300\n",
      "\t  1400\n",
      "RAP-MUSIC\n"
     ]
    },
    {
     "data": {
      "application/vnd.jupyter.widget-view+json": {
       "model_id": "69697c751b544379acb2da8da20438fb",
       "version_major": 2,
       "version_minor": 0
      },
      "text/plain": [
       "  0%|          | 0/1500 [00:00<?, ?it/s]"
      ]
     },
     "metadata": {},
     "output_type": "display_data"
    },
    {
     "name": "stdout",
     "output_type": "stream",
     "text": [
      "\t  0\n",
      "\t  100\n",
      "\t  200\n",
      "\t  300\n",
      "\t  400\n",
      "\t  500\n",
      "\t  600\n",
      "\t  700\n",
      "\t  800\n",
      "\t  900\n",
      "\t  1000\n",
      "\t  1100\n",
      "\t  1200\n",
      "\t  1300\n",
      "\t  1400\n",
      "D:/data/flex_ssm/evaluation/sim_and_preds_figure-42_1-assumed_Rotation-Right-2_greedy.pkl figure-42 greedy Rotation-Right-2\n",
      "FN:  D:/data/flex_ssm/results/results_figure-42_Rotation-Right-2_greedy_1-assumed.pkl\n",
      "\t D:/data/flex_ssm/results/results_figure-42_Rotation-Right-2_greedy_1-assumed.pkl\n",
      "\t\tyep\n",
      "SSM\n"
     ]
    },
    {
     "data": {
      "application/vnd.jupyter.widget-view+json": {
       "model_id": "319e3bed08bc4a1c9729c250d05ef84b",
       "version_major": 2,
       "version_minor": 0
      },
      "text/plain": [
       "  0%|          | 0/1500 [00:00<?, ?it/s]"
      ]
     },
     "metadata": {},
     "output_type": "display_data"
    },
    {
     "name": "stdout",
     "output_type": "stream",
     "text": [
      "\t  0\n",
      "\t  100\n",
      "\t  200\n",
      "\t  300\n",
      "\t  400\n",
      "\t  500\n",
      "\t  600\n",
      "\t  700\n",
      "\t  800\n",
      "\t  900\n",
      "\t  1000\n",
      "\t  1100\n",
      "\t  1200\n",
      "\t  1300\n",
      "\t  1400\n",
      "AP\n"
     ]
    },
    {
     "data": {
      "application/vnd.jupyter.widget-view+json": {
       "model_id": "4791140bbf844dcca872a646b2c049bc",
       "version_major": 2,
       "version_minor": 0
      },
      "text/plain": [
       "  0%|          | 0/1500 [00:00<?, ?it/s]"
      ]
     },
     "metadata": {},
     "output_type": "display_data"
    },
    {
     "name": "stdout",
     "output_type": "stream",
     "text": [
      "\t  0\n",
      "\t  100\n",
      "\t  200\n",
      "\t  300\n",
      "\t  400\n",
      "\t  500\n",
      "\t  600\n",
      "\t  700\n",
      "\t  800\n",
      "\t  900\n",
      "\t  1000\n",
      "\t  1100\n",
      "\t  1200\n",
      "\t  1300\n",
      "\t  1400\n",
      "RAP-MUSIC\n"
     ]
    },
    {
     "data": {
      "application/vnd.jupyter.widget-view+json": {
       "model_id": "4d998ab06934478ba4d8a66523e0c0dd",
       "version_major": 2,
       "version_minor": 0
      },
      "text/plain": [
       "  0%|          | 0/1500 [00:00<?, ?it/s]"
      ]
     },
     "metadata": {},
     "output_type": "display_data"
    },
    {
     "name": "stdout",
     "output_type": "stream",
     "text": [
      "\t  0\n",
      "\t  100\n",
      "\t  200\n",
      "\t  300\n",
      "\t  400\n",
      "\t  500\n",
      "\t  600\n",
      "\t  700\n",
      "\t  800\n",
      "\t  900\n",
      "\t  1000\n",
      "\t  1100\n",
      "\t  1200\n",
      "\t  1300\n",
      "\t  1400\n",
      "D:/data/flex_ssm/evaluation/sim_and_preds_figure-42_1-assumed_Translation-Posterior-1_greedy.pkl figure-42 greedy Translation-Posterior-1\n",
      "FN:  D:/data/flex_ssm/results/results_figure-42_Translation-Posterior-1_greedy_1-assumed.pkl\n",
      "\t D:/data/flex_ssm/results/results_figure-42_Translation-Posterior-1_greedy_1-assumed.pkl\n",
      "\t\tyep\n",
      "SSM\n"
     ]
    },
    {
     "data": {
      "application/vnd.jupyter.widget-view+json": {
       "model_id": "c39aaf7cc4554ccca678e97f030b5aa2",
       "version_major": 2,
       "version_minor": 0
      },
      "text/plain": [
       "  0%|          | 0/1500 [00:00<?, ?it/s]"
      ]
     },
     "metadata": {},
     "output_type": "display_data"
    },
    {
     "name": "stdout",
     "output_type": "stream",
     "text": [
      "\t  0\n",
      "\t  100\n",
      "\t  200\n",
      "\t  300\n",
      "\t  400\n",
      "\t  500\n",
      "\t  600\n",
      "\t  700\n",
      "\t  800\n",
      "\t  900\n",
      "\t  1000\n",
      "\t  1100\n",
      "\t  1200\n",
      "\t  1300\n",
      "\t  1400\n",
      "AP\n"
     ]
    },
    {
     "data": {
      "application/vnd.jupyter.widget-view+json": {
       "model_id": "94b66bb562594efc9cefd838f8a5e943",
       "version_major": 2,
       "version_minor": 0
      },
      "text/plain": [
       "  0%|          | 0/1500 [00:00<?, ?it/s]"
      ]
     },
     "metadata": {},
     "output_type": "display_data"
    },
    {
     "name": "stdout",
     "output_type": "stream",
     "text": [
      "\t  0\n",
      "\t  100\n",
      "\t  200\n",
      "\t  300\n",
      "\t  400\n",
      "\t  500\n",
      "\t  600\n",
      "\t  700\n",
      "\t  800\n",
      "\t  900\n",
      "\t  1000\n",
      "\t  1100\n",
      "\t  1200\n",
      "\t  1300\n",
      "\t  1400\n",
      "RAP-MUSIC\n"
     ]
    },
    {
     "data": {
      "application/vnd.jupyter.widget-view+json": {
       "model_id": "eec2fcb822934b338b6a8877a1af16f3",
       "version_major": 2,
       "version_minor": 0
      },
      "text/plain": [
       "  0%|          | 0/1500 [00:00<?, ?it/s]"
      ]
     },
     "metadata": {},
     "output_type": "display_data"
    },
    {
     "name": "stdout",
     "output_type": "stream",
     "text": [
      "\t  0\n",
      "\t  100\n",
      "\t  200\n",
      "\t  300\n",
      "\t  400\n",
      "\t  500\n",
      "\t  600\n",
      "\t  700\n",
      "\t  800\n",
      "\t  900\n",
      "\t  1000\n",
      "\t  1100\n",
      "\t  1200\n",
      "\t  1300\n",
      "\t  1400\n",
      "D:/data/flex_ssm/evaluation/sim_and_preds_figure-42_1-assumed_Translation-Posterior-2_greedy.pkl figure-42 greedy Translation-Posterior-2\n",
      "FN:  D:/data/flex_ssm/results/results_figure-42_Translation-Posterior-2_greedy_1-assumed.pkl\n",
      "\t D:/data/flex_ssm/results/results_figure-42_Translation-Posterior-2_greedy_1-assumed.pkl\n",
      "\t\tyep\n",
      "SSM\n"
     ]
    },
    {
     "data": {
      "application/vnd.jupyter.widget-view+json": {
       "model_id": "88c7e96a895e48549971aec83e7eda88",
       "version_major": 2,
       "version_minor": 0
      },
      "text/plain": [
       "  0%|          | 0/1500 [00:00<?, ?it/s]"
      ]
     },
     "metadata": {},
     "output_type": "display_data"
    },
    {
     "name": "stdout",
     "output_type": "stream",
     "text": [
      "\t  0\n",
      "\t  100\n",
      "\t  200\n",
      "\t  300\n",
      "\t  400\n",
      "\t  500\n",
      "\t  600\n",
      "\t  700\n",
      "\t  800\n",
      "\t  900\n",
      "\t  1000\n",
      "\t  1100\n",
      "\t  1200\n",
      "\t  1300\n",
      "\t  1400\n",
      "AP\n"
     ]
    },
    {
     "data": {
      "application/vnd.jupyter.widget-view+json": {
       "model_id": "e56e04d46f114e3b95fd61c8d971bee8",
       "version_major": 2,
       "version_minor": 0
      },
      "text/plain": [
       "  0%|          | 0/1500 [00:00<?, ?it/s]"
      ]
     },
     "metadata": {},
     "output_type": "display_data"
    },
    {
     "name": "stdout",
     "output_type": "stream",
     "text": [
      "\t  0\n",
      "\t  100\n",
      "\t  200\n",
      "\t  300\n",
      "\t  400\n",
      "\t  500\n",
      "\t  600\n",
      "\t  700\n",
      "\t  800\n",
      "\t  900\n",
      "\t  1000\n",
      "\t  1100\n",
      "\t  1200\n",
      "\t  1300\n",
      "\t  1400\n",
      "RAP-MUSIC\n"
     ]
    },
    {
     "data": {
      "application/vnd.jupyter.widget-view+json": {
       "model_id": "aa92e26e954d48a8965d13ed4ca51407",
       "version_major": 2,
       "version_minor": 0
      },
      "text/plain": [
       "  0%|          | 0/1500 [00:00<?, ?it/s]"
      ]
     },
     "metadata": {},
     "output_type": "display_data"
    },
    {
     "name": "stdout",
     "output_type": "stream",
     "text": [
      "\t  0\n",
      "\t  100\n",
      "\t  200\n",
      "\t  300\n",
      "\t  400\n",
      "\t  500\n",
      "\t  600\n",
      "\t  700\n",
      "\t  800\n",
      "\t  900\n",
      "\t  1000\n",
      "\t  1100\n",
      "\t  1200\n",
      "\t  1300\n",
      "\t  1400\n",
      "D:/data/flex_ssm/evaluation/sim_and_preds_figure-4_-1-assumed_Clean-Coarse_greedy.pkl figure-4 greedy Clean-Coarse\n",
      "FN:  D:/data/flex_ssm/results/results_figure-4_Clean-Coarse_greedy_-1-assumed.pkl\n",
      "\tis processed or not a regular file\n",
      "D:/data/flex_ssm/evaluation/sim_and_preds_figure-4_-1-assumed_Clean-Fine_greedy.pkl figure-4 greedy Clean-Fine\n",
      "FN:  D:/data/flex_ssm/results/results_figure-4_Clean-Fine_greedy_-1-assumed.pkl\n",
      "\tis processed or not a regular file\n",
      "D:/data/flex_ssm/evaluation/sim_and_preds_figure-4_-1-assumed_Rotation-Right-1_greedy.pkl figure-4 greedy Rotation-Right-1\n",
      "FN:  D:/data/flex_ssm/results/results_figure-4_Rotation-Right-1_greedy_-1-assumed.pkl\n",
      "\tis processed or not a regular file\n",
      "D:/data/flex_ssm/evaluation/sim_and_preds_figure-4_-1-assumed_Rotation-Right-2_greedy.pkl figure-4 greedy Rotation-Right-2\n",
      "FN:  D:/data/flex_ssm/results/results_figure-4_Rotation-Right-2_greedy_-1-assumed.pkl\n",
      "\tis processed or not a regular file\n",
      "D:/data/flex_ssm/evaluation/sim_and_preds_figure-4_-1-assumed_Translation-Posterior-1_greedy.pkl figure-4 greedy Translation-Posterior-1\n",
      "FN:  D:/data/flex_ssm/results/results_figure-4_Translation-Posterior-1_greedy_-1-assumed.pkl\n",
      "\tis processed or not a regular file\n",
      "D:/data/flex_ssm/evaluation/sim_and_preds_figure-4_-1-assumed_Translation-Posterior-2_greedy.pkl figure-4 greedy Translation-Posterior-2\n",
      "FN:  D:/data/flex_ssm/results/results_figure-4_Translation-Posterior-2_greedy_-1-assumed.pkl\n",
      "\tis processed or not a regular file\n",
      "D:/data/flex_ssm/evaluation/sim_and_preds_figure-4_0-assumed_Clean-Coarse_greedy.pkl figure-4 greedy Clean-Coarse\n",
      "FN:  D:/data/flex_ssm/results/results_figure-4_Clean-Coarse_greedy_0-assumed.pkl\n",
      "\tis processed or not a regular file\n",
      "D:/data/flex_ssm/evaluation/sim_and_preds_figure-4_0-assumed_Clean-Fine_greedy.pkl figure-4 greedy Clean-Fine\n",
      "FN:  D:/data/flex_ssm/results/results_figure-4_Clean-Fine_greedy_0-assumed.pkl\n",
      "\tis processed or not a regular file\n",
      "D:/data/flex_ssm/evaluation/sim_and_preds_figure-4_0-assumed_Rotation-Right-1_greedy.pkl figure-4 greedy Rotation-Right-1\n",
      "FN:  D:/data/flex_ssm/results/results_figure-4_Rotation-Right-1_greedy_0-assumed.pkl\n",
      "\tis processed or not a regular file\n",
      "D:/data/flex_ssm/evaluation/sim_and_preds_figure-4_0-assumed_Rotation-Right-2_greedy.pkl figure-4 greedy Rotation-Right-2\n",
      "FN:  D:/data/flex_ssm/results/results_figure-4_Rotation-Right-2_greedy_0-assumed.pkl\n",
      "\tis processed or not a regular file\n",
      "D:/data/flex_ssm/evaluation/sim_and_preds_figure-4_0-assumed_Translation-Posterior-1_greedy.pkl figure-4 greedy Translation-Posterior-1\n",
      "FN:  D:/data/flex_ssm/results/results_figure-4_Translation-Posterior-1_greedy_0-assumed.pkl\n",
      "\tis processed or not a regular file\n",
      "D:/data/flex_ssm/evaluation/sim_and_preds_figure-4_0-assumed_Translation-Posterior-2_greedy.pkl figure-4 greedy Translation-Posterior-2\n",
      "FN:  D:/data/flex_ssm/results/results_figure-4_Translation-Posterior-2_greedy_0-assumed.pkl\n",
      "\tis processed or not a regular file\n",
      "D:/data/flex_ssm/evaluation/sim_and_preds_figure-4_1-assumed_Clean-Coarse_greedy.pkl figure-4 greedy Clean-Coarse\n",
      "FN:  D:/data/flex_ssm/results/results_figure-4_Clean-Coarse_greedy_1-assumed.pkl\n",
      "\tis processed or not a regular file\n",
      "D:/data/flex_ssm/evaluation/sim_and_preds_figure-4_1-assumed_Clean-Fine_greedy.pkl figure-4 greedy Clean-Fine\n",
      "FN:  D:/data/flex_ssm/results/results_figure-4_Clean-Fine_greedy_1-assumed.pkl\n",
      "\tis processed or not a regular file\n",
      "D:/data/flex_ssm/evaluation/sim_and_preds_figure-4_1-assumed_Rotation-Right-1_greedy.pkl figure-4 greedy Rotation-Right-1\n",
      "FN:  D:/data/flex_ssm/results/results_figure-4_Rotation-Right-1_greedy_1-assumed.pkl\n",
      "\tis processed or not a regular file\n",
      "D:/data/flex_ssm/evaluation/sim_and_preds_figure-4_1-assumed_Rotation-Right-2_greedy.pkl figure-4 greedy Rotation-Right-2\n",
      "FN:  D:/data/flex_ssm/results/results_figure-4_Rotation-Right-2_greedy_1-assumed.pkl\n",
      "\tis processed or not a regular file\n",
      "D:/data/flex_ssm/evaluation/sim_and_preds_figure-4_1-assumed_Translation-Posterior-1_greedy.pkl figure-4 greedy Translation-Posterior-1\n",
      "FN:  D:/data/flex_ssm/results/results_figure-4_Translation-Posterior-1_greedy_1-assumed.pkl\n",
      "\tis processed or not a regular file\n",
      "D:/data/flex_ssm/evaluation/sim_and_preds_figure-4_1-assumed_Translation-Posterior-2_greedy.pkl figure-4 greedy Translation-Posterior-2\n",
      "FN:  D:/data/flex_ssm/results/results_figure-4_Translation-Posterior-2_greedy_1-assumed.pkl\n",
      "\tis processed or not a regular file\n",
      "D:/data/flex_ssm/evaluation/sim_and_preds_figure-5_Clean-Coarse_greedy.pkl figure-5 greedy Clean-Coarse\n",
      "FN:  D:/data/flex_ssm/results/results_figure-5_Clean-Coarse_greedy.pkl\n",
      "\tis processed or not a regular file\n",
      "D:/data/flex_ssm/evaluation/sim_and_preds_figure-5_Clean-Fine_greedy.pkl figure-5 greedy Clean-Fine\n",
      "FN:  D:/data/flex_ssm/results/results_figure-5_Clean-Fine_greedy.pkl\n",
      "\tis processed or not a regular file\n",
      "D:/data/flex_ssm/evaluation/sim_and_preds_figure-5_Rotation-Right-1_greedy.pkl figure-5 greedy Rotation-Right-1\n",
      "FN:  D:/data/flex_ssm/results/results_figure-5_Rotation-Right-1_greedy.pkl\n",
      "\tis processed or not a regular file\n",
      "D:/data/flex_ssm/evaluation/sim_and_preds_figure-5_Rotation-Right-2_greedy.pkl figure-5 greedy Rotation-Right-2\n",
      "FN:  D:/data/flex_ssm/results/results_figure-5_Rotation-Right-2_greedy.pkl\n",
      "\tis processed or not a regular file\n",
      "D:/data/flex_ssm/evaluation/sim_and_preds_figure-5_Translation-Posterior-1_greedy.pkl figure-5 greedy Translation-Posterior-1\n",
      "FN:  D:/data/flex_ssm/results/results_figure-5_Translation-Posterior-1_greedy.pkl\n",
      "\tis processed or not a regular file\n",
      "D:/data/flex_ssm/evaluation/sim_and_preds_figure-5_Translation-Posterior-2_greedy.pkl figure-5 greedy Translation-Posterior-2\n",
      "FN:  D:/data/flex_ssm/results/results_figure-5_Translation-Posterior-2_greedy.pkl\n",
      "\tis processed or not a regular file\n"
     ]
    }
   ],
   "source": [
    "path_evaluation = \"D:/data/flex_ssm/evaluation/\"\n",
    "eval_filenames = os.listdir(path_evaluation)\n",
    "adjacency_true = adjacency_ico4\n",
    "\n",
    "# eval_filenames = [f for f in eval_filenames if \"non-greedy\" in f]\n",
    "for i, filename in enumerate(eval_filenames):\n",
    "    # if not \"figure-4\" in filename:\n",
    "    #     continue\n",
    "    # print(filename)\n",
    "\n",
    "    fullpath = os.path.join(path_evaluation, filename)\n",
    "    figure = filename.split(\"_\")[3]\n",
    "    greedyness = fullpath.split(\"_\")[-1].split(\".\")[0]\n",
    "    model_error = fullpath.split(\"_\")[-2]\n",
    "    \n",
    "    if \"assumed\" in fullpath:\n",
    "        assumption = fullpath[:fullpath.find(\"assumed\")-1].split(\"_\")[-1]\n",
    "        assumed = f\"_{assumption}-assumed\"\n",
    "    else:\n",
    "        assumed = \"\"\n",
    "    \n",
    "    fn = f\"D:/data/flex_ssm/results/results_{figure}_{model_error}_{greedyness}{assumed}.pkl\"\n",
    "    print(fullpath, figure, greedyness, model_error)\n",
    "\n",
    "    \n",
    "    print(\"FN: \", fn)\n",
    "    if not \".pkl\" in filename or os.path.isfile(fn):\n",
    "        print(\"\\tis processed or not a regular file\")\n",
    "        continue\n",
    "    # break\n",
    "    with open(fullpath, \"rb\") as f:\n",
    "        stc_dict, x_test, y_test, sim_info, proc_time_make, proc_time_apply = pkl.load(f)\n",
    "    n_samples = len(y_test)\n",
    "    print(\"\\t\", fn)\n",
    "    if \"fine\" in filename.lower() or (not \"coarse\" in filename.lower() and not \"fine\" in filename.lower()):\n",
    "        print(\"\\t\\tyep\")\n",
    "        adjacency_pred = adjacency_oct6\n",
    "        distances = distances_oct6\n",
    "    else:\n",
    "        adjacency_pred = adjacency_ico4\n",
    "        distances = distances_ico4\n",
    "    \n",
    "\n",
    "    results = []\n",
    "    for solver_name in stc_dict.keys():\n",
    "        print(solver_name)\n",
    "        for i in tqdm(range(n_samples)):\n",
    "            # y_pred = stc_dict[solver_name][i].data\n",
    "            y_pred = stc_dict[solver_name][i].toarray()\n",
    "            # y_true = y_test[i].T.toarray()\n",
    "            y_true = y_test[i].toarray()\n",
    "            # mle_dle = eval_mean_localization_error(abs(y_true).mean(axis=-1), abs(y_pred).mean(axis=-1), adjacency_true, adjacency_pred, distances, mode=\"dle\")\n",
    "            # mle_est = eval_mean_localization_error(abs(y_true).mean(axis=-1), abs(y_pred).mean(axis=-1), adjacency_true, adjacency_pred, distances, mode=\"est\")\n",
    "            # mle_true = eval_mean_localization_error(abs(y_true).mean(axis=-1), abs(y_pred).mean(axis=-1), adjacency_true, adjacency_pred, distances, mode=\"true\")\n",
    "            # mle_match = eval_mean_localization_error(abs(y_true).mean(axis=-1), abs(y_pred).mean(axis=-1), adjacency_true, adjacency_pred, distances, mode=\"match\")\n",
    "            mle_amir = eval_mean_localization_error(abs(y_true).mean(axis=-1), abs(y_pred).mean(axis=-1), adjacency_true, adjacency_pred, distances, mode=\"amir\")\n",
    "            result = dict(Method=solver_name, MLE_amir=mle_amir, Time_Make=proc_time_make[solver_name][i], Time_Apply=proc_time_apply[solver_name][i])\n",
    "            # result = dict(Method=solver_name, MLE_match=mle_match, MLE_dle=mle_dle, MLE_est=mle_est, MLE_true=mle_true, MLE_amir=mle_amir, Time_Make=proc_time_make[solver_name][i], Time_Apply=proc_time_apply[solver_name][i])\n",
    "            result.update(sim_info.iloc[i, :].to_dict())\n",
    "            results.append(result)\n",
    "            if i%100 == 0:\n",
    "                print(\"\\t \", i)\n",
    "    del stc_dict, y_test, proc_time_make, proc_time_apply\n",
    "    with open(fn, 'wb') as f:\n",
    "        pkl.dump(results, f)"
   ]
  },
  {
   "cell_type": "code",
   "execution_count": 8,
   "metadata": {},
   "outputs": [
    {
     "data": {
      "text/plain": [
       "((5124, 50), (50, 5124))"
      ]
     },
     "execution_count": 8,
     "metadata": {},
     "output_type": "execute_result"
    }
   ],
   "source": [
    "y_pred.shape, y_true.shape"
   ]
  },
  {
   "cell_type": "markdown",
   "metadata": {},
   "source": [
    "# Plot Figure 1"
   ]
  },
  {
   "cell_type": "code",
   "execution_count": 4,
   "metadata": {},
   "outputs": [],
   "source": [
    "%matplotlib qt\n",
    "import pickle as pkl\n",
    "import pandas as pd\n",
    "import seaborn as sns\n",
    "import os\n",
    "import re\n",
    "\n",
    "# filenames = os.listdir(\"results\")\n",
    "filenames = {\n",
    "    'No Error': 'results_figure-1_Clean-Coarse_greedy.pkl',\n",
    "    'Source Modelling Error': 'results_figure-1_Clean-Fine_greedy.pkl',\n",
    "    'SME + Rotation Right 1°': 'results_figure-1_Rotation-Right-1_greedy.pkl',\n",
    "    'SME + Rotation Right 2°': 'results_figure-1_Rotation-Right-2_greedy.pkl',\n",
    "    'SME + Translation Post. 1mm': 'results_figure-1_Translation-Posterior-1_greedy.pkl',\n",
    "    'SME + Translation Post. 2mm': 'results_figure-1_Translation-Posterior-2_greedy.pkl'\n",
    "}\n",
    "for title, filename in filenames.items():\n",
    "    filename = os.path.join(\"results\", filename)\n",
    "    if not os.path.isfile(filename):\n",
    "        print(f\"{filename} does not exist\")\n",
    "        continue\n",
    "    with open(filename, 'rb') as f:\n",
    "        results = pkl.load(f)\n",
    "\n",
    "    df = pd.DataFrame(results)\n",
    "\n",
    "    sns.set_theme(style=\"whitegrid\")\n",
    "    import matplotlib.pyplot as plt\n",
    "    fig = plt.figure()\n",
    "    sns.barplot(hue=\"Method\", x=\"inter_source_correlations\", y=\"MLE\", data=df, errorbar=(\"ci\", 95), estimator=estimator)\n",
    "    plt.ylim(0, 18)\n",
    "    plt.title(title)\n",
    "    # save figure\n",
    "    savestring = re.sub('[+°.]', '', title).replace(\"  \", \" \").replace(\" \", \"_\")\n",
    "    \n",
    "    fig.savefig(f'figures/initial_results/Figure_1_{savestring}_{estimator}s.png', format='png', dpi=300)"
   ]
  },
  {
   "cell_type": "markdown",
   "metadata": {},
   "source": [
    "# Plot Figure 12  - 3 sources"
   ]
  },
  {
   "cell_type": "code",
   "execution_count": 5,
   "metadata": {},
   "outputs": [],
   "source": [
    "%matplotlib qt\n",
    "import pickle as pkl\n",
    "import pandas as pd\n",
    "import seaborn as sns\n",
    "import os\n",
    "import re\n",
    "\n",
    "# filenames = os.listdir(\"results\")\n",
    "filenames = {\n",
    "    'No Error': 'results_figure-12_Clean-Coarse_greedy.pkl',\n",
    "    'Source Modelling Error': 'results_figure-12_Clean-Fine_greedy.pkl',\n",
    "    'SME + Rotation Right 1°': 'results_figure-12_Rotation-Right-1_greedy.pkl',\n",
    "    'SME + Rotation Right 2°': 'results_figure-12_Rotation-Right-2_greedy.pkl',\n",
    "    'SME + Translation Post. 1mm': 'results_figure-12_Translation-Posterior-1_greedy.pkl',\n",
    "    'SME + Translation Post. 2mm': 'results_figure-12_Translation-Posterior-2_greedy.pkl'\n",
    "}\n",
    "for title, filename in filenames.items():\n",
    "    filename = os.path.join(\"results\", filename)\n",
    "    if not os.path.isfile(filename):\n",
    "        print(f\"{filename} does not exist\")\n",
    "        continue\n",
    "    with open(filename, 'rb') as f:\n",
    "        results = pkl.load(f)\n",
    "\n",
    "    df = pd.DataFrame(results)\n",
    "\n",
    "    sns.set_theme(style=\"whitegrid\")\n",
    "    import matplotlib.pyplot as plt\n",
    "    fig = plt.figure()\n",
    "    sns.barplot(hue=\"Method\", x=\"inter_source_correlations\", y=\"MLE_dle\", data=df, errorbar=(\"ci\", 95), estimator=estimator)\n",
    "    plt.ylim(0, 28)\n",
    "    plt.title(title)\n",
    "    # save figure\n",
    "    savestring = re.sub('[+°.]', '', title).replace(\"  \", \" \").replace(\" \", \"_\")\n",
    "    \n",
    "    fig.savefig(f'figures/initial_results/Figure_12_{savestring}_{estimator}s.png', format='png', dpi=300)"
   ]
  },
  {
   "cell_type": "markdown",
   "metadata": {},
   "source": [
    "# Plot Figure 13  - Equal  Magnitude Sources"
   ]
  },
  {
   "cell_type": "code",
   "execution_count": 6,
   "metadata": {},
   "outputs": [],
   "source": [
    "%matplotlib qt\n",
    "import pickle as pkl\n",
    "import pandas as pd\n",
    "import seaborn as sns\n",
    "import os\n",
    "import re\n",
    "\n",
    "# filenames = os.listdir(\"results\")\n",
    "filenames = {\n",
    "    'No Error': 'results_figure-13_Clean-Coarse_greedy.pkl',\n",
    "    'Source Modelling Error': 'results_figure-13_Clean-Fine_greedy.pkl',\n",
    "    'SME + Rotation Right 1°': 'results_figure-13_Rotation-Right-1_greedy.pkl',\n",
    "    'SME + Rotation Right 2°': 'results_figure-13_Rotation-Right-2_greedy.pkl',\n",
    "    'SME + Translation Post. 1mm': 'results_figure-13_Translation-Posterior-1_greedy.pkl',\n",
    "    'SME + Translation Post. 2mm': 'results_figure-13_Translation-Posterior-2_greedy.pkl'\n",
    "}\n",
    "for title, filename in filenames.items():\n",
    "    filename = os.path.join(\"results\", filename)\n",
    "    if not os.path.isfile(filename):\n",
    "        print(f\"{filename} does not exist\")\n",
    "        continue\n",
    "    with open(filename, 'rb') as f:\n",
    "        results = pkl.load(f)\n",
    "\n",
    "    df = pd.DataFrame(results)\n",
    "\n",
    "    sns.set_theme(style=\"whitegrid\")\n",
    "    import matplotlib.pyplot as plt\n",
    "    fig = plt.figure()\n",
    "    sns.barplot(hue=\"Method\", x=\"inter_source_correlations\", y=\"MLE_dle\", data=df, errorbar=(\"ci\", 95), estimator=estimator)\n",
    "    plt.ylim(0, 18)\n",
    "    plt.title(title)\n",
    "    # save figure\n",
    "    savestring = re.sub('[+°.]', '', title).replace(\"  \", \" \").replace(\" \", \"_\")\n",
    "    \n",
    "    fig.savefig(f'figures/initial_results/Figure_13_{savestring}_{estimator}s.png', format='png', dpi=300)"
   ]
  },
  {
   "cell_type": "markdown",
   "metadata": {},
   "source": [
    "# Plot Figure 14 - White Spectrum Sources"
   ]
  },
  {
   "cell_type": "code",
   "execution_count": 7,
   "metadata": {},
   "outputs": [
    {
     "name": "stderr",
     "output_type": "stream",
     "text": [
      "C:\\Users\\lukas\\AppData\\Local\\Temp\\ipykernel_13984\\2896212807.py:29: RuntimeWarning: More than 20 figures have been opened. Figures created through the pyplot interface (`matplotlib.pyplot.figure`) are retained until explicitly closed and may consume too much memory. (To control this warning, see the rcParam `figure.max_open_warning`). Consider using `matplotlib.pyplot.close()`.\n",
      "  fig = plt.figure()\n"
     ]
    }
   ],
   "source": [
    "%matplotlib qt\n",
    "import pickle as pkl\n",
    "import pandas as pd\n",
    "import seaborn as sns\n",
    "import os\n",
    "import re\n",
    "\n",
    "# filenames = os.listdir(\"results\")\n",
    "filenames = {\n",
    "    'No Error': 'results_figure-14_Clean-Coarse_greedy.pkl',\n",
    "    'Source Modelling Error': 'results_figure-14_Clean-Fine_greedy.pkl',\n",
    "    'SME + Rotation Right 1°': 'results_figure-14_Rotation-Right-1_greedy.pkl',\n",
    "    'SME + Rotation Right 2°': 'results_figure-14_Rotation-Right-2_greedy.pkl',\n",
    "    'SME + Translation Post. 1mm': 'results_figure-14_Translation-Posterior-1_greedy.pkl',\n",
    "    'SME + Translation Post. 2mm': 'results_figure-14_Translation-Posterior-2_greedy.pkl'\n",
    "}\n",
    "for title, filename in filenames.items():\n",
    "    filename = os.path.join(\"results\", filename)\n",
    "    if not os.path.isfile(filename):\n",
    "        print(f\"{filename} does not exist\")\n",
    "        continue\n",
    "    with open(filename, 'rb') as f:\n",
    "        results = pkl.load(f)\n",
    "\n",
    "    df = pd.DataFrame(results)\n",
    "\n",
    "    sns.set_theme(style=\"whitegrid\")\n",
    "    import matplotlib.pyplot as plt\n",
    "    fig = plt.figure()\n",
    "    sns.barplot(hue=\"Method\", x=\"inter_source_correlations\", y=\"MLE_dle\", data=df, errorbar=(\"ci\", 95), estimator=estimator)\n",
    "    plt.ylim(0, 18)\n",
    "    plt.title(title)\n",
    "    # save figure\n",
    "    savestring = re.sub('[+°.]', '', title).replace(\"  \", \" \").replace(\" \", \"_\")\n",
    "    \n",
    "    fig.savefig(f'figures/initial_results/Figure_14_{savestring}_{estimator}s.png', format='png', dpi=300)"
   ]
  },
  {
   "cell_type": "markdown",
   "metadata": {},
   "source": [
    "# Plot Figure 2"
   ]
  },
  {
   "cell_type": "code",
   "execution_count": 8,
   "metadata": {},
   "outputs": [],
   "source": [
    "%matplotlib qt\n",
    "import pickle as pkl\n",
    "import pandas as pd\n",
    "import seaborn as sns\n",
    "import os\n",
    "import re\n",
    "\n",
    "# filenames = os.listdir(\"results\")\n",
    "filenames = {\n",
    "    'No Error': 'results_figure-2_Clean-Coarse_greedy.pkl',\n",
    "    'Source Modelling Error': 'results_figure-2_Clean-Fine_greedy.pkl',\n",
    "    'SME + Rotation Right 1°': 'results_figure-2_Rotation-Right-1_greedy.pkl',\n",
    "    'SME + Rotation Right 2°': 'results_figure-2_Rotation-Right-2_greedy.pkl',\n",
    "    'SME + Translation Post. 1mm': 'results_figure-2_Translation-Posterior-1_greedy.pkl',\n",
    "    'SME + Translation Post. 2mm': 'results_figure-2_Translation-Posterior-2_greedy.pkl'\n",
    "}\n",
    "for title, filename in filenames.items():\n",
    "    filename = os.path.join(\"results\", filename)\n",
    "    if not os.path.isfile(filename):\n",
    "        print(f\"{filename} does not exist\")\n",
    "        continue\n",
    "    with open(filename, 'rb') as f:\n",
    "        results = pkl.load(f)\n",
    "\n",
    "    df = pd.DataFrame(results)\n",
    "\n",
    "    sns.set_theme(style=\"whitegrid\")\n",
    "    import matplotlib.pyplot as plt\n",
    "    fig = plt.figure()\n",
    "    sns.barplot(hue=\"Method\", x=\"snr\", y=\"MLE\", data=df, errorbar=(\"ci\", 95), estimator=estimator)\n",
    "    plt.ylim(0, 10)\n",
    "    plt.title(title)\n",
    "    # save figure\n",
    "    savestring = re.sub('[+°.]', '', title).replace(\"  \", \" \").replace(\" \", \"_\")\n",
    "    \n",
    "    fig.savefig(f'figures/initial_results/Figure_2_{savestring}_{estimator}s.png', format='png', dpi=300)"
   ]
  },
  {
   "cell_type": "markdown",
   "metadata": {},
   "source": [
    "# Plot Figure 3"
   ]
  },
  {
   "cell_type": "code",
   "execution_count": 9,
   "metadata": {},
   "outputs": [],
   "source": [
    "%matplotlib qt\n",
    "import pickle as pkl\n",
    "import pandas as pd\n",
    "import seaborn as sns\n",
    "import os\n",
    "import re\n",
    "\n",
    "# filenames = os.listdir(\"results\")\n",
    "filenames = {\n",
    "    'No Error': 'results_figure-3_Clean-Coarse_greedy.pkl',\n",
    "    'Source Modelling Error': 'results_figure-3_Clean-Fine_greedy.pkl',\n",
    "    'SME + Rotation Right 1°': 'results_figure-3_Rotation-Right-1_greedy.pkl',\n",
    "    'SME + Rotation Right 2°': 'results_figure-3_Rotation-Right-2_greedy.pkl',\n",
    "    'SME + Translation Post. 1mm': 'results_figure-3_Translation-Posterior-1_greedy.pkl',\n",
    "    'SME + Translation Post. 2mm': 'results_figure-3_Translation-Posterior-2_greedy.pkl'\n",
    "}\n",
    "for title, filename in filenames.items():\n",
    "    filename = os.path.join(\"results\", filename)\n",
    "    if not os.path.isfile(filename):\n",
    "        print(f\"{filename} does not exist\")\n",
    "        continue\n",
    "    with open(filename, 'rb') as f:\n",
    "        results = pkl.load(f)\n",
    "\n",
    "    df = pd.DataFrame(results)\n",
    "\n",
    "    sns.set_theme(style=\"whitegrid\")\n",
    "    import matplotlib.pyplot as plt\n",
    "    fig = plt.figure()\n",
    "    sns.barplot(hue=\"Method\", x=\"n_timepoints\", y=\"MLE\", data=df, errorbar=(\"ci\", 95), estimator=estimator)\n",
    "    plt.ylim(0, 6)\n",
    "    plt.title(title)\n",
    "    # save figure\n",
    "    savestring = re.sub('[+°.]', '', title).replace(\"  \", \" \").replace(\" \", \"_\")\n",
    "    \n",
    "    fig.savefig(f'figures/initial_results/Figure_3_{savestring}_{estimator}s.png', format='png', dpi=300)"
   ]
  },
  {
   "cell_type": "markdown",
   "metadata": {},
   "source": [
    "# Plot Figure 4"
   ]
  },
  {
   "cell_type": "code",
   "execution_count": 10,
   "metadata": {},
   "outputs": [],
   "source": [
    "%matplotlib qt\n",
    "import pickle as pkl\n",
    "import pandas as pd\n",
    "import seaborn as sns\n",
    "import os\n",
    "import re\n",
    "import matplotlib.pyplot as plt\n",
    "\n",
    "# Assuming 'filenames_' is defined as in your snippet above\n",
    "filenames_ = {\n",
    "    \"-1\": {\n",
    "        'No Error': 'results_figure-4_Clean-Coarse_greedy_-1-assumed.pkl',\n",
    "        'Source Modelling Error': 'results_figure-4_Clean-Fine_greedy_-1-assumed.pkl',\n",
    "        'SME + Rotation Right 1°': 'results_figure-4_Rotation-Right-1_greedy_-1-assumed.pkl',\n",
    "        'SME + Rotation Right 2°': 'results_figure-4_Rotation-Right-2_greedy_-1-assumed.pkl',\n",
    "        'SME + Translation Post. 1mm': 'results_figure-4_Translation-Posterior-1_greedy_-1-assumed.pkl',\n",
    "        'SME + Translation Post. 2mm': 'results_figure-4_Translation-Posterior-2_greedy_-1-assumed.pkl'\n",
    "    },\n",
    "    \"0\": {\n",
    "        'No Error': 'results_figure-4_Clean-Coarse_greedy_0-assumed.pkl',\n",
    "        'Source Modelling Error': 'results_figure-4_Clean-Fine_greedy_0-assumed.pkl',\n",
    "        'SME + Rotation Right 1°': 'results_figure-4_Rotation-Right-1_greedy_0-assumed.pkl',\n",
    "        'SME + Rotation Right 2°': 'results_figure-4_Rotation-Right-2_greedy_0-assumed.pkl',\n",
    "        'SME + Translation Post. 1mm': 'results_figure-4_Translation-Posterior-1_greedy_0-assumed.pkl',\n",
    "        'SME + Translation Post. 2mm': 'results_figure-4_Translation-Posterior-2_greedy_0-assumed.pkl'\n",
    "    },\n",
    "    \"1\": {\n",
    "        'No Error': 'results_figure-4_Clean-Coarse_greedy_1-assumed.pkl',\n",
    "        'Source Modelling Error': 'results_figure-4_Clean-Fine_greedy_1-assumed.pkl',\n",
    "        'SME + Rotation Right 1°': 'results_figure-4_Rotation-Right-1_greedy_1-assumed.pkl',\n",
    "        'SME + Rotation Right 2°': 'results_figure-4_Rotation-Right-2_greedy_1-assumed.pkl',\n",
    "        'SME + Translation Post. 1mm': 'results_figure-4_Translation-Posterior-1_greedy_1-assumed.pkl',\n",
    "        'SME + Translation Post. 2mm': 'results_figure-4_Translation-Posterior-2_greedy_1-assumed.pkl'\n",
    "    },\n",
    "}\n",
    "\n",
    "# Set the theme for seaborn\n",
    "sns.set_theme(style=\"whitegrid\")\n",
    "\n",
    "\n",
    "# Row and column titles\n",
    "row_titles = ['-1', '0', '1'] # Assumed sources\n",
    "column_titles = [\n",
    "    'No Error', 'Source Modelling Error', 'SME + Rotation Right 1°',\n",
    "    'SME + Rotation Right 2°', 'SME + Translation Post. 1mm', 'SME + Translation Post. 2mm'\n",
    "]\n",
    "\n",
    "metrics_description = {\n",
    "    \"Dipole Localization Error\": \"MLE_dle\",\n",
    "    \"Localization Error (True)\": \"MLE_true\",\n",
    "    \"Localization Error (Estimated)\": \"MLE_est\",\n",
    "    \"Matched Localization Error\": \"MLE_match\"\n",
    "    }\n",
    "\n",
    "for suptitle, y_var in metrics_description.items():\n",
    "    # Create a subplot grid: 3 rows x 6 columns\n",
    "    fig, axes = plt.subplots(3, 6, figsize=(20, 10), sharex='col', sharey='row')\n",
    "    fig.subplots_adjust(hspace=0.4, wspace=0.4) # Adjust space between plots\n",
    "    # Iterate over each assumption and filenames\n",
    "    for i, (assumption, filenames) in enumerate(filenames_.items()):\n",
    "        if assumption == \"-1\":\n",
    "            assumption_text = \"1 source less\"\n",
    "        elif assumption == \"0\":\n",
    "            assumption_text = \"Correct number of sources\"\n",
    "        elif assumption == \"1\":\n",
    "            assumption_text = \"1 source more\"\n",
    "\n",
    "        for j, (title, filename) in enumerate(filenames.items()):\n",
    "            ax = axes[i, j] # Current subplot axis\n",
    "            filename = os.path.join(\"results\", filename)\n",
    "            if not os.path.isfile(filename):\n",
    "                ax.text(0.5, 0.5, f\"{filename} does not exist\", ha='center')\n",
    "                continue\n",
    "            with open(filename, 'rb') as f:\n",
    "                results = pkl.load(f)\n",
    "\n",
    "            df = pd.DataFrame(results)\n",
    "\n",
    "            # Plot on the specified subplot axis\n",
    "            sns.barplot(\n",
    "                hue=\"Method\", x=\"inter_source_correlations\", y=y_var, data=df, \n",
    "                errorbar=(\"ci\", 95), estimator=estimator, ax=ax\n",
    "            )\n",
    "\n",
    "            # Set row and column titles\n",
    "            if j == 0:\n",
    "                ax.set_ylabel(assumption_text + \"\\n\\n\" + \"Mean Localization Error [mm]\")\n",
    "            else:\n",
    "                ax.set_ylabel('')\n",
    "            \n",
    "            if i == 2:\n",
    "                ax.set_xlabel('Inter-source Correlations')\n",
    "            else:\n",
    "                ax.set_xlabel('')\n",
    "\n",
    "            # Set the title for the first row and remove from others\n",
    "            if i == 0:\n",
    "                ax.set_title(column_titles[j])\n",
    "            else:\n",
    "                ax.set_title('')\n",
    "            \n",
    "            # Remove legend if not 0th column\n",
    "            if j != 0:\n",
    "                ax.get_legend().remove()\n",
    "\n",
    "    plt.suptitle(suptitle)\n",
    "\n",
    "    # Adjust the layout\n",
    "    plt.tight_layout()\n",
    "\n",
    "    # Save the figure\n",
    "    plt.savefig(f'figures/initial_results/Figure_4_{y_var}_{estimator}s.png', format='png', dpi=300)"
   ]
  },
  {
   "cell_type": "markdown",
   "metadata": {},
   "source": [
    "# Plot Figure 42"
   ]
  },
  {
   "cell_type": "code",
   "execution_count": 8,
   "metadata": {},
   "outputs": [],
   "source": [
    "%matplotlib qt\n",
    "import pickle as pkl\n",
    "import pandas as pd\n",
    "import seaborn as sns\n",
    "import os\n",
    "import re\n",
    "import matplotlib.pyplot as plt\n",
    "\n",
    "# Assuming 'filenames_' is defined as in your snippet above\n",
    "filenames_ = {\n",
    "    \"-1\": {\n",
    "        'No Error': 'D:/data/flex_ssm/results/results_figure-42_Clean-Coarse_greedy_-1-assumed.pkl',\n",
    "        'Source Modelling Error': 'D:/data/flex_ssm/results/results_figure-42_Clean-Fine_greedy_-1-assumed.pkl',\n",
    "        'SME + Rotation Right 1°': 'D:/data/flex_ssm/results/results_figure-42_Rotation-Right-1_greedy_-1-assumed.pkl',\n",
    "        'SME + Rotation Right 2°': 'D:/data/flex_ssm/results/results_figure-42_Rotation-Right-2_greedy_-1-assumed.pkl',\n",
    "        'SME + Translation Post. 1mm': 'D:/data/flex_ssm/results/results_figure-42_Translation-Posterior-1_greedy_-1-assumed.pkl',\n",
    "        'SME + Translation Post. 2mm': 'D:/data/flex_ssm/results/results_figure-42_Translation-Posterior-2_greedy_-1-assumed.pkl'\n",
    "    },\n",
    "    \"0\": {\n",
    "        'No Error': 'D:/data/flex_ssm/results/results_figure-42_Clean-Coarse_greedy_0-assumed.pkl',\n",
    "        'Source Modelling Error': 'D:/data/flex_ssm/results/results_figure-42_Clean-Fine_greedy_0-assumed.pkl',\n",
    "        'SME + Rotation Right 1°': 'D:/data/flex_ssm/results/results_figure-42_Rotation-Right-1_greedy_0-assumed.pkl',\n",
    "        'SME + Rotation Right 2°': 'D:/data/flex_ssm/results/results_figure-42_Rotation-Right-2_greedy_0-assumed.pkl',\n",
    "        'SME + Translation Post. 1mm': 'D:/data/flex_ssm/results/results_figure-42_Translation-Posterior-1_greedy_0-assumed.pkl',\n",
    "        'SME + Translation Post. 2mm': 'D:/data/flex_ssm/results/results_figure-42_Translation-Posterior-2_greedy_0-assumed.pkl'\n",
    "    },\n",
    "    \"1\": {\n",
    "        'No Error': 'D:/data/flex_ssm/results/results_figure-42_Clean-Coarse_greedy_1-assumed.pkl',\n",
    "        'Source Modelling Error': 'D:/data/flex_ssm/results/results_figure-42_Clean-Fine_greedy_1-assumed.pkl',\n",
    "        'SME + Rotation Right 1°': 'D:/data/flex_ssm/results/results_figure-42_Rotation-Right-1_greedy_1-assumed.pkl',\n",
    "        'SME + Rotation Right 2°': 'D:/data/flex_ssm/results/results_figure-42_Rotation-Right-2_greedy_1-assumed.pkl',\n",
    "        'SME + Translation Post. 1mm': 'D:/data/flex_ssm/results/results_figure-42_Translation-Posterior-1_greedy_1-assumed.pkl',\n",
    "        'SME + Translation Post. 2mm': 'D:/data/flex_ssm/results/results_figure-42_Translation-Posterior-2_greedy_1-assumed.pkl'\n",
    "    },\n",
    "}\n",
    "\n",
    "# Set the theme for seaborn\n",
    "sns.set_theme(style=\"whitegrid\")\n",
    "\n",
    "\n",
    "# Row and column titles\n",
    "row_titles = ['-1', '0', '1'] # Assumed sources\n",
    "column_titles = [\n",
    "    'No Error', 'Source Modelling Error', 'SME + Rotation Right 1°',\n",
    "    'SME + Rotation Right 2°', 'SME + Translation Post. 1mm', 'SME + Translation Post. 2mm'\n",
    "]\n",
    "\n",
    "metrics_description = {\n",
    "    # \"Dipole Localization Error\": \"MLE_dle\",\n",
    "    # \"Localization Error (True)\": \"MLE_true\",\n",
    "    # \"Localization Error (Estimated)\": \"MLE_est\",\n",
    "    # \"Matched Localization Error\": \"MLE_match\",\n",
    "    \"Amirs Matched Localization Error\": \"MLE_amir\"\n",
    "    }\n",
    "\n",
    "for suptitle, y_var in metrics_description.items():\n",
    "    # Create a subplot grid: 3 rows x 6 columns\n",
    "    fig, axes = plt.subplots(3, 6, figsize=(20, 10), sharex='col', sharey='row')\n",
    "    fig.subplots_adjust(hspace=0.4, wspace=0.4) # Adjust space between plots\n",
    "    # Iterate over each assumption and filenames\n",
    "    for i, (assumption, filenames) in enumerate(filenames_.items()):\n",
    "        if assumption == \"-1\":\n",
    "            assumption_text = \"1 source less\"\n",
    "        elif assumption == \"0\":\n",
    "            assumption_text = \"Correct number of sources\"\n",
    "        elif assumption == \"1\":\n",
    "            assumption_text = \"1 source more\"\n",
    "\n",
    "        for j, (title, filename) in enumerate(filenames.items()):\n",
    "            ax = axes[i, j] # Current subplot axis\n",
    "            filename = os.path.join(\"results\", filename)\n",
    "            if not os.path.isfile(filename):\n",
    "                ax.text(0.5, 0.5, f\"{filename} does not exist\", ha='center')\n",
    "                continue\n",
    "            with open(filename, 'rb') as f:\n",
    "                results = pkl.load(f)\n",
    "\n",
    "            df = pd.DataFrame(results)\n",
    "\n",
    "            # Plot on the specified subplot axis\n",
    "            sns.barplot(\n",
    "                hue=\"Method\", x=\"inter_source_correlations\", y=y_var, data=df, \n",
    "                errorbar=(\"ci\", 95), estimator=estimator, ax=ax\n",
    "            )\n",
    "\n",
    "            # Set row and column titles\n",
    "            if j == 0:\n",
    "                ax.set_ylabel(assumption_text + \"\\n\\n\" + \"Mean Localization Error [mm]\")\n",
    "            else:\n",
    "                ax.set_ylabel('')\n",
    "            \n",
    "            if i == 2:\n",
    "                ax.set_xlabel('Inter-source Correlations')\n",
    "            else:\n",
    "                ax.set_xlabel('')\n",
    "\n",
    "            # Set the title for the first row and remove from others\n",
    "            if i == 0:\n",
    "                ax.set_title(column_titles[j])\n",
    "            else:\n",
    "                ax.set_title('')\n",
    "            \n",
    "            # Remove legend if not 0th column\n",
    "            if j != 0:\n",
    "                ax.get_legend().remove()\n",
    "                \n",
    "    plt.suptitle(suptitle)\n",
    "\n",
    "    # Adjust the layout\n",
    "    plt.tight_layout()\n",
    "\n",
    "    # Save the figure\n",
    "    plt.savefig(f'D:/data/flex_ssm/figures/initial_results/Figure_42_{y_var}_{estimator}s.png', format='png', dpi=300)"
   ]
  },
  {
   "cell_type": "markdown",
   "metadata": {},
   "source": [
    "# Figure 5"
   ]
  },
  {
   "cell_type": "code",
   "execution_count": 11,
   "metadata": {},
   "outputs": [],
   "source": [
    "%matplotlib qt\n",
    "import pickle as pkl\n",
    "import pandas as pd\n",
    "import seaborn as sns\n",
    "import os\n",
    "import re\n",
    "\n",
    "# three strong colors and three light colors with same tone (seaborn)\n",
    "colors = [\"#4c72b0\", \"#55a868\", \"#c44e52\", \"#8172b2\", \"#ccb974\", \"#64b5cd\"]\n",
    "\n",
    "# filenames = os.listdir(\"results\")\n",
    "filenames = {\n",
    "    'No Error': 'results_figure-5_Clean-Coarse_greedy.pkl',\n",
    "    'Source Modelling Error': 'results_figure-5_Clean-Fine_greedy.pkl',\n",
    "    'SME + Rotation Right 1°': 'results_figure-5_Rotation-Right-1_greedy.pkl',\n",
    "    'SME + Rotation Right 2°': 'results_figure-5_Rotation-Right-2_greedy.pkl',\n",
    "    'SME + Translation Post. 1mm': 'results_figure-5_Translation-Posterior-1_greedy.pkl',\n",
    "    'SME + Translation Post. 2mm': 'results_figure-5_Translation-Posterior-2_greedy.pkl'\n",
    "}\n",
    "for title, filename in filenames.items():\n",
    "    filename = os.path.join(\"results\", filename)\n",
    "    if not os.path.isfile(filename):\n",
    "        print(f\"{filename} does not exist\")\n",
    "        continue\n",
    "    with open(filename, 'rb') as f:\n",
    "        results = pkl.load(f)\n",
    "\n",
    "    df = pd.DataFrame(results)\n",
    "    df[\"n_orders\"] = [ii[0] for ii in df[\"n_orders\"].values]\n",
    "\n",
    "    sns.set_theme(style=\"whitegrid\")\n",
    "    import matplotlib.pyplot as plt\n",
    "    fig = plt.figure()\n",
    "    sns.barplot(hue=\"Method\", x=\"n_orders\", y=\"MLE_dle\", data=df, errorbar=(\"ci\", 95), estimator=estimator, palette=colors)\n",
    "    # sns.barplot(hue=\"Method\", x=\"n_orders\", y=\"MLE_dle\", data=df, errorbar=(\"ci\", 95), estimator=\"mean\", palette=colors)\n",
    "    plt.ylim(0, 12)\n",
    "    plt.title(title)\n",
    "    plt.ylabel(\"Mean Localization Error [mm]\")\n",
    "\n",
    "    # save figure\n",
    "    savestring = re.sub('[+°.]', '', title).replace(\"  \", \" \").replace(\" \", \"_\")\n",
    "    fig.savefig(f'figures/initial_results/Figure_5_{savestring}_{estimator}s.png', format='png', dpi=300)"
   ]
  },
  {
   "cell_type": "code",
   "execution_count": null,
   "metadata": {},
   "outputs": [],
   "source": [
    "import pickle as pkl\n",
    "import mne\n",
    "import numpy as np\n",
    "from copy import deepcopy\n",
    "from config import forward_models\n",
    "pp = dict(surface=\"inflated\", hemi=\"both\", subject=\"sample\", cortex=\"low_contrast\")\n",
    "\n",
    "fn = r\"C:\\Users\\lukas\\Dokumente\\projects\\flex_ssm\\ssm_paper_analysis\\evaluation\\sim_and_preds_figure-1_Clean-Fine_greedy.pkl\"\n",
    "with open(fn, \"rb\") as f:\n",
    "    stc, stc_dict, x_test, y_test, sim_info, proc_time_make, proc_time_apply = pkl.load(f)\n",
    "\n",
    "fwd_coarse = mne.read_forward_solution(forward_models[0][\"path_fwd\"], verbose=0)\n",
    "fwd_fine = mne.read_forward_solution(forward_models[1][\"path_fwd\"], verbose=0)\n",
    "# convert to fixed\n",
    "fwd_coarse = mne.convert_forward_solution(fwd_coarse, surf_ori=True, force_fixed=True, use_cps=True, verbose=0)\n",
    "fwd_fine = mne.convert_forward_solution(fwd_fine, surf_ori=True, force_fixed=True, use_cps=True, verbose=0)\n",
    "leadfield = deepcopy(fwd_fine[\"sol\"][\"data\"])\n",
    "leadfield /= np.linalg.norm(leadfield, axis=0)\n",
    "with open(forward_models[0][\"path_info\"], \"rb\") as f:\n",
    "    info = pkl.load(f)\n",
    "\n",
    "\n",
    "subjects_dir = r\"C:\\Users\\lukas\\mne_data\\MNE-sample-data\\subjects\"\n",
    "subject = \"sample\"\n",
    "\n",
    "# src_coarse = mne.setup_source_space(subject, spacing=\"ico4\", surface='white',\n",
    "#                                         subjects_dir=subjects_dir, add_dist=False,\n",
    "#                                         n_jobs=-1, verbose=0)\n",
    "# src_fine = mne.setup_source_space(subject, spacing=\"oct6\", surface='white',\n",
    "#                                         subjects_dir=subjects_dir, add_dist=False,\n",
    "#                                         n_jobs=-1, verbose=0)"
   ]
  },
  {
   "cell_type": "code",
   "execution_count": null,
   "metadata": {},
   "outputs": [],
   "source": [
    "%matplotlib qt\n",
    "idx = 5\n",
    "\n",
    "stc = mne.SourceEstimate(y_test[idx].toarray().T, vertices=[fwd_coarse[\"src\"][0][\"vertno\"], fwd_coarse[\"src\"][1][\"vertno\"]], tmin=0, tstep=1, subject=\"sample\")\n",
    "stc.subject = \"sample\"\n",
    "stc.plot(brain_kwargs=dict(title=f\"Ground Truth sample {idx}\"), **pp)\n",
    "evoked = mne.EvokedArray(x_test[idx].T, info)\n",
    "evoked.plot_joint(title=\"Ground Truth\")\n",
    "\n",
    "solver = \"SSM\"\n",
    "J = stc_dict[solver][idx].toarray()\n",
    "stc = mne.SourceEstimate(J, vertices=[fwd_fine[\"src\"][0][\"vertno\"], fwd_fine[\"src\"][1][\"vertno\"]], tmin=0, tstep=1, subject=\"sample\")\n",
    "stc.subject = \"sample\"\n",
    "stc.plot(brain_kwargs=dict(title=f\"{solver} sample {idx}\"), **pp)\n",
    "x_hat = leadfield @ J\n",
    "evoked = mne.EvokedArray(x_hat, info)\n",
    "evoked.plot_joint(title=solver)\n",
    "\n",
    "solver = \"AP\"\n",
    "J = stc_dict[solver][idx].toarray()\n",
    "stc = mne.SourceEstimate(J, vertices=[fwd_fine[\"src\"][0][\"vertno\"], fwd_fine[\"src\"][1][\"vertno\"]], tmin=0, tstep=1, subject=\"sample\")\n",
    "stc.subject = \"sample\"\n",
    "stc.plot(brain_kwargs=dict(title=f\"{solver} sample {idx}\"), **pp)\n",
    "x_hat = leadfield @ J\n",
    "evoked = mne.EvokedArray(x_hat, info)\n",
    "evoked.plot_joint(title=solver)"
   ]
  },
  {
   "cell_type": "code",
   "execution_count": null,
   "metadata": {},
   "outputs": [],
   "source": [
    "import numpy as np\n",
    "from scipy.optimize import linear_sum_assignment\n",
    "\n",
    "def localization_error_metric(true_positions, estimated_positions):\n",
    "    \"\"\"\n",
    "    Calculate the localization error between the estimated and true dipole locations.\n",
    "    \n",
    "    Parameters\n",
    "    ----------\n",
    "    true_positions : np.ndarray, shape (n_true_dipoles, 3)\n",
    "        The true positions of the dipoles.\n",
    "    estimated_positions : np.ndarray, shape (n_estimated_dipoles, 3)\n",
    "        The estimated positions of the dipoles.\n",
    "    \n",
    "    Returns\n",
    "    -------\n",
    "    mean_distance : float\n",
    "        The sum of distances between the true and estimated dipole positions.\n",
    "    \"\"\"\n",
    "    \n",
    "    # Calculate the distance matrix between all pairs of true and estimated positions\n",
    "    distance_matrix = np.linalg.norm(true_positions[:, np.newaxis] - estimated_positions, axis=2)\n",
    "    \n",
    "    # Solve the assignment problem (i.e., find the matching with minimum total distance)\n",
    "    true_indices, estimated_indices = linear_sum_assignment(distance_matrix)\n",
    "    \n",
    "    # Calculate the sum of distances for the optimal assignment\n",
    "    mean_distance = distance_matrix[true_indices, estimated_indices].mean()\n",
    "    \n",
    "    return mean_distance\n",
    "    \n",
    "# Example usage:\n",
    "true_dipole_positions = np.array(\n",
    "    [\n",
    "        [-20, 31, 19],\n",
    "        [24, 29, 21],\n",
    "        # [28, -20, 21],\n",
    "    ]\n",
    ")\n",
    "\n",
    "estimated_dipole_positions = np.array(\n",
    "    [\n",
    "        [-19, 25, 19],\n",
    "        [24, 27, 22],\n",
    "        # [30, -20, 22],\n",
    "        [100, 100,100]\n",
    "    ]\n",
    ")\n",
    "error = localization_error_metric(true_dipole_positions, estimated_dipole_positions)\n",
    "print(\"Total localization error:\", error)\n",
    "# print(\"Matching estimated dipoles to true dipoles:\", matches)\n"
   ]
  },
  {
   "cell_type": "code",
   "execution_count": null,
   "metadata": {},
   "outputs": [],
   "source": [
    "from scipy.spatial.distance import cdist\n",
    "cdist(true_dipole_positions, estimated_dipole_positions)"
   ]
  }
 ],
 "metadata": {
  "kernelspec": {
   "display_name": "invertenv",
   "language": "python",
   "name": "python3"
  },
  "language_info": {
   "codemirror_mode": {
    "name": "ipython",
    "version": 3
   },
   "file_extension": ".py",
   "mimetype": "text/x-python",
   "name": "python",
   "nbconvert_exporter": "python",
   "pygments_lexer": "ipython3",
   "version": "3.8.10"
  },
  "orig_nbformat": 4,
  "vscode": {
   "interpreter": {
    "hash": "dda1e5657e486f74a7b39841fb8103db2af51a77394f44c39a7821a371af47bd"
   }
  }
 },
 "nbformat": 4,
 "nbformat_minor": 2
}
