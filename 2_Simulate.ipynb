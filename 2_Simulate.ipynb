{
 "cells": [
  {
   "cell_type": "code",
   "execution_count": 4,
   "metadata": {},
   "outputs": [
    {
     "name": "stdout",
     "output_type": "stream",
     "text": [
      "The autoreload extension is already loaded. To reload it, use:\n",
      "  %reload_ext autoreload\n"
     ]
    }
   ],
   "source": [
    "%matplotlib qt\n",
    "%load_ext autoreload\n",
    "%autoreload 2\n",
    "\n",
    "import sys; sys.path.insert(0, r'../../invert')\n",
    "import mne\n",
    "import pickle as pkl\n",
    "\n",
    "from copy import deepcopy\n",
    "import os\n",
    "import numpy as np\n",
    "import pandas as pd\n",
    "from scipy.sparse import csr_matrix\n",
    "from invert.simulate import generator\n",
    "# base_path = \"D:/data/flex_ssm/simulation\"\n",
    "base_path = \"simulations/\"\n",
    "os.makedirs(base_path, exist_ok=True)\n",
    "random_seed = 42"
   ]
  },
  {
   "attachments": {},
   "cell_type": "markdown",
   "metadata": {},
   "source": [
    "# Load Files"
   ]
  },
  {
   "cell_type": "code",
   "execution_count": 8,
   "metadata": {},
   "outputs": [
    {
     "name": "stdout",
     "output_type": "stream",
     "text": [
      "    No patch info available. The standard source space normals will be employed in the rotation to the local surface coordinates....\n",
      "    Changing to fixed-orientation forward solution with surface-based source orientations...\n",
      "    [done]\n"
     ]
    }
   ],
   "source": [
    "path_fwd = os.path.join(base_path, \"../forward_models/fsaverage_biosemi256_Clean_coarse-fwd.fif\")\n",
    "path_info = os.path.join(base_path, \"../forward_models/info_biosemi256.pkl\")\n",
    "\n",
    "fwd = mne.read_forward_solution(path_fwd, verbose=0)\n",
    "fwd = mne.convert_forward_solution(fwd, force_fixed=True)\n",
    "\n",
    "fn = path_info\n",
    "with open(fn, 'rb') as f:\n",
    "    info = pkl.load(f)"
   ]
  },
  {
   "attachments": {},
   "cell_type": "markdown",
   "metadata": {},
   "source": [
    "# Simulate Data"
   ]
  },
  {
   "cell_type": "code",
   "execution_count": 9,
   "metadata": {},
   "outputs": [],
   "source": [
    "generator_args_baseline = dict(\n",
    "    use_cov=False,\n",
    "    return_mask=False,\n",
    "    batch_repetitions=1,\n",
    "    batch_size=200,\n",
    "    return_info=True,\n",
    "    scale_data=False,\n",
    "    \n",
    "    n_sources=2,\n",
    "    n_orders=(0, 0),\n",
    "    \n",
    "    amplitude_range=(1, 1),\n",
    "    n_timecourses=2000,\n",
    "    n_timepoints=128,\n",
    "    inter_source_correlation=0.0,\n",
    "    \n",
    "    diffusion_parameter=0.1,\n",
    "    beta_range=(1, 1),  # Determines the frequency spectrum of each simulted time course (1/f**beta)\n",
    "    \n",
    "    snr_range=(0, 0),\n",
    "    correlation_mode=None,\n",
    "    noise_color_coeff=0.,\n",
    "    \n",
    "    add_forward_error=False,\n",
    "    forward_error=0.0,\n",
    "    \n",
    "    normalize_leadfield=False,\n",
    "    random_seed=1)"
   ]
  },
  {
   "cell_type": "markdown",
   "metadata": {},
   "source": [
    "# Figure 1 - ISC with 2 and 3 sources"
   ]
  },
  {
   "cell_type": "code",
   "execution_count": 11,
   "metadata": {},
   "outputs": [
    {
     "name": "stdout",
     "output_type": "stream",
     "text": [
      "2\n",
      "\t 0.1\n",
      "\t 0.5\n",
      "\t 0.9\n",
      "\t 0.95\n",
      "\t 0.975\n",
      "\t 0.99\n",
      "\t 1.0\n",
      "3\n",
      "\t 0.1\n",
      "\t 0.5\n",
      "\t 0.9\n",
      "\t 0.95\n",
      "\t 0.975\n",
      "\t 0.99\n",
      "\t 1.0\n"
     ]
    },
    {
     "ename": "FileNotFoundError",
     "evalue": "[Errno 2] No such file or directory: './simlations/sim_figure-1.pkl'",
     "output_type": "error",
     "traceback": [
      "\u001b[1;31m---------------------------------------------------------------------------\u001b[0m",
      "\u001b[1;31mFileNotFoundError\u001b[0m                         Traceback (most recent call last)",
      "Cell \u001b[1;32mIn[11], line 27\u001b[0m\n\u001b[0;32m     24\u001b[0m y_test \u001b[38;5;241m=\u001b[39m np\u001b[38;5;241m.\u001b[39mconcatenate(y_tests, axis\u001b[38;5;241m=\u001b[39m\u001b[38;5;241m0\u001b[39m)\n\u001b[0;32m     25\u001b[0m sim_info \u001b[38;5;241m=\u001b[39m pd\u001b[38;5;241m.\u001b[39mconcat(sim_infos)\n\u001b[1;32m---> 27\u001b[0m \u001b[38;5;28;01mwith\u001b[39;00m \u001b[38;5;28;43mopen\u001b[39;49m\u001b[43m(\u001b[49m\u001b[43mfullpath\u001b[49m\u001b[43m,\u001b[49m\u001b[43m \u001b[49m\u001b[38;5;124;43m\"\u001b[39;49m\u001b[38;5;124;43mwb\u001b[39;49m\u001b[38;5;124;43m\"\u001b[39;49m\u001b[43m)\u001b[49m \u001b[38;5;28;01mas\u001b[39;00m f:\n\u001b[0;32m     28\u001b[0m     pkl\u001b[38;5;241m.\u001b[39mdump([x_test, y_test, sim_info, generator_args], f)\n",
      "File \u001b[1;32mc:\\Users\\lukas\\virtualenvs\\ssm\\lib\\site-packages\\IPython\\core\\interactiveshell.py:284\u001b[0m, in \u001b[0;36m_modified_open\u001b[1;34m(file, *args, **kwargs)\u001b[0m\n\u001b[0;32m    277\u001b[0m \u001b[38;5;28;01mif\u001b[39;00m file \u001b[38;5;129;01min\u001b[39;00m {\u001b[38;5;241m0\u001b[39m, \u001b[38;5;241m1\u001b[39m, \u001b[38;5;241m2\u001b[39m}:\n\u001b[0;32m    278\u001b[0m     \u001b[38;5;28;01mraise\u001b[39;00m \u001b[38;5;167;01mValueError\u001b[39;00m(\n\u001b[0;32m    279\u001b[0m         \u001b[38;5;124mf\u001b[39m\u001b[38;5;124m\"\u001b[39m\u001b[38;5;124mIPython won\u001b[39m\u001b[38;5;124m'\u001b[39m\u001b[38;5;124mt let you open fd=\u001b[39m\u001b[38;5;132;01m{\u001b[39;00mfile\u001b[38;5;132;01m}\u001b[39;00m\u001b[38;5;124m by default \u001b[39m\u001b[38;5;124m\"\u001b[39m\n\u001b[0;32m    280\u001b[0m         \u001b[38;5;124m\"\u001b[39m\u001b[38;5;124mas it is likely to crash IPython. If you know what you are doing, \u001b[39m\u001b[38;5;124m\"\u001b[39m\n\u001b[0;32m    281\u001b[0m         \u001b[38;5;124m\"\u001b[39m\u001b[38;5;124myou can use builtins\u001b[39m\u001b[38;5;124m'\u001b[39m\u001b[38;5;124m open.\u001b[39m\u001b[38;5;124m\"\u001b[39m\n\u001b[0;32m    282\u001b[0m     )\n\u001b[1;32m--> 284\u001b[0m \u001b[38;5;28;01mreturn\u001b[39;00m \u001b[43mio_open\u001b[49m\u001b[43m(\u001b[49m\u001b[43mfile\u001b[49m\u001b[43m,\u001b[49m\u001b[43m \u001b[49m\u001b[38;5;241;43m*\u001b[39;49m\u001b[43margs\u001b[49m\u001b[43m,\u001b[49m\u001b[43m \u001b[49m\u001b[38;5;241;43m*\u001b[39;49m\u001b[38;5;241;43m*\u001b[39;49m\u001b[43mkwargs\u001b[49m\u001b[43m)\u001b[49m\n",
      "\u001b[1;31mFileNotFoundError\u001b[0m: [Errno 2] No such file or directory: './simlations/sim_figure-1.pkl'"
     ]
    }
   ],
   "source": [
    "sim_condition = \"figure-1\"\n",
    "fullpath = os.path.join(base_path, f\"\"\"sim_{sim_condition}.pkl\"\"\")\n",
    "\n",
    "generator_args = deepcopy(generator_args_baseline)\n",
    "n_sources_list = (2, 3)\n",
    "iscs = [0.1, 0.5, 0.9, 0.95, 0.975, 0.99, 1.0]\n",
    "\n",
    "x_tests = []\n",
    "y_tests = []\n",
    "sim_infos = []\n",
    "for n_sources in n_sources_list:\n",
    "    print(n_sources)\n",
    "    generator_args[\"n_sources\"] = n_sources\n",
    "    for isc in iscs:\n",
    "        print(\"\\t\", isc)\n",
    "        generator_args[\"inter_source_correlation\"] = isc\n",
    "        gen_test = generator(fwd, **generator_args)\n",
    "        x_test, y_test, sim_info = gen_test.__next__()\n",
    "        x_tests.append(x_test)\n",
    "        y_tests.append([csr_matrix(yy) for yy in y_test])\n",
    "        sim_infos.append(sim_info)\n",
    "\n",
    "x_test = np.concatenate(x_tests, axis=0)\n",
    "y_test = np.concatenate(y_tests, axis=0)\n",
    "sim_info = pd.concat(sim_infos)\n",
    "\n",
    "with open(fullpath, \"wb\") as f:\n",
    "    pkl.dump([x_test, y_test, sim_info, generator_args], f)"
   ]
  },
  {
   "cell_type": "markdown",
   "metadata": {},
   "source": [
    "# Figure 12 - ISC with 3 sources and Cholesky noise at 0.5"
   ]
  },
  {
   "cell_type": "code",
   "execution_count": 11,
   "metadata": {},
   "outputs": [
    {
     "name": "stdout",
     "output_type": "stream",
     "text": [
      "3\n",
      "\t 0.1\n",
      "\t 0.5\n",
      "\t 0.9\n",
      "\t 0.95\n"
     ]
    }
   ],
   "source": [
    "sim_condition = \"figure-12\"\n",
    "fullpath = os.path.join(base_path, f\"\"\"sim_{sim_condition}.pkl\"\"\")\n",
    "\n",
    "generator_args = deepcopy(generator_args_baseline)\n",
    "generator_args[\"correlation_mode\"] = \"cholesky\"\n",
    "generator_args[\"noise_color_coeff\"] = 0.5\n",
    "n_sources_list = (3,)\n",
    "iscs = [0.1, 0.5, 0.9, 0.95]#, 0.975, 0.99, 1.0]\n",
    "\n",
    "x_tests = []\n",
    "y_tests = []\n",
    "sim_infos = []\n",
    "for n_sources in n_sources_list:\n",
    "    print(n_sources)\n",
    "    generator_args[\"n_sources\"] = n_sources\n",
    "    for isc in iscs:\n",
    "        print(\"\\t\", isc)\n",
    "        generator_args[\"inter_source_correlation\"] = isc\n",
    "        gen_test = generator(fwd, **generator_args)\n",
    "        x_test, y_test, sim_info = gen_test.__next__()\n",
    "        x_tests.append(x_test)\n",
    "        y_tests.append([csr_matrix(yy) for yy in y_test])\n",
    "        sim_infos.append(sim_info)\n",
    "\n",
    "x_test = np.concatenate(x_tests, axis=0)\n",
    "y_test = np.concatenate(y_tests, axis=0)\n",
    "sim_info = pd.concat(sim_infos)\n",
    "\n",
    "with open(fullpath, \"wb\") as f:\n",
    "    pkl.dump([x_test, y_test, sim_info, generator_args], f)"
   ]
  },
  {
   "cell_type": "markdown",
   "metadata": {},
   "source": [
    "# Figure 2 - SNR and Noise Color"
   ]
  },
  {
   "cell_type": "code",
   "execution_count": 22,
   "metadata": {},
   "outputs": [
    {
     "name": "stdout",
     "output_type": "stream",
     "text": [
      "White\n",
      "   -5  dB\n",
      "\t 0.5\n",
      "\t 0.9\n",
      "   0  dB\n",
      "\t 0.5\n",
      "\t 0.9\n",
      "   5  dB\n",
      "\t 0.5\n",
      "\t 0.9\n",
      "Diagonal\n",
      "   -5  dB\n",
      "\t 0.5\n",
      "\t 0.9\n",
      "   0  dB\n",
      "\t 0.5\n",
      "\t 0.9\n",
      "   5  dB\n",
      "\t 0.5\n",
      "\t 0.9\n",
      "   -5  dB\n",
      "\t 0.5\n",
      "\t 0.9\n",
      "   0  dB\n",
      "\t 0.5\n",
      "\t 0.9\n",
      "   5  dB\n",
      "\t 0.5\n",
      "\t 0.9\n",
      "   -5  dB\n",
      "\t 0.5\n",
      "\t 0.9\n",
      "   0  dB\n",
      "\t 0.5\n",
      "\t 0.9\n",
      "   5  dB\n",
      "\t 0.5\n",
      "\t 0.9\n",
      "   -5  dB\n",
      "\t 0.5\n",
      "\t 0.9\n",
      "   0  dB\n",
      "\t 0.5\n",
      "\t 0.9\n",
      "   5  dB\n",
      "\t 0.5\n",
      "\t 0.9\n",
      "Banded\n",
      "   -5  dB\n",
      "\t 0.5\n",
      "\t 0.9\n",
      "   0  dB\n",
      "\t 0.5\n",
      "\t 0.9\n",
      "   5  dB\n",
      "\t 0.5\n",
      "\t 0.9\n",
      "   -5  dB\n",
      "\t 0.5\n",
      "\t 0.9\n",
      "   0  dB\n",
      "\t 0.5\n",
      "\t 0.9\n",
      "   5  dB\n",
      "\t 0.5\n",
      "\t 0.9\n",
      "   -5  dB\n",
      "\t 0.5\n",
      "\t 0.9\n",
      "   0  dB\n",
      "\t 0.5\n",
      "\t 0.9\n",
      "   5  dB\n",
      "\t 0.5\n",
      "\t 0.9\n",
      "   -5  dB\n",
      "\t 0.5\n",
      "\t 0.9\n",
      "   0  dB\n",
      "\t 0.5\n",
      "\t 0.9\n",
      "   5  dB\n",
      "\t 0.5\n",
      "\t 0.9\n",
      "Cholesky\n",
      "   -5  dB\n",
      "\t 0.5\n",
      "\t 0.9\n",
      "   0  dB\n",
      "\t 0.5\n",
      "\t 0.9\n",
      "   5  dB\n",
      "\t 0.5\n",
      "\t 0.9\n",
      "   -5  dB\n",
      "\t 0.5\n",
      "\t 0.9\n",
      "   0  dB\n",
      "\t 0.5\n",
      "\t 0.9\n",
      "   5  dB\n",
      "\t 0.5\n",
      "\t 0.9\n",
      "   -5  dB\n",
      "\t 0.5\n",
      "\t 0.9\n",
      "   0  dB\n",
      "\t 0.5\n",
      "\t 0.9\n",
      "   5  dB\n",
      "\t 0.5\n",
      "\t 0.9\n",
      "   -5  dB\n",
      "\t 0.5\n",
      "\t 0.9\n",
      "   0  dB\n",
      "\t 0.5\n",
      "\t 0.9\n",
      "   5  dB\n",
      "\t 0.5\n",
      "\t 0.9\n"
     ]
    }
   ],
   "source": [
    "generator_args = deepcopy(generator_args_baseline)\n",
    "generator_args[\"n_orders\"] = 0\n",
    "generator_args[\"inter_source_correlation\"] = 0.5\n",
    "\n",
    "sim_condition = \"figure-2\"\n",
    "fullpath = os.path.join(base_path, f\"\"\"sim_{sim_condition}.pkl\"\"\")\n",
    "\n",
    "iscs = (0.5, 0.9)\n",
    "snr_ranges = [-5, 0, 5]\n",
    "correlation_modes = [None, \"diagonal\", \"banded\", \"cholesky\", ]  # *noise_covs.values()]\n",
    "correlation_mode_names = [\"White\", \"Diagonal\", \"Banded\", \"Cholesky\",]  # \"Real Low\", \"Real Medium\", \"Real High\"]\n",
    "noise_color_coeff_list = [\n",
    "    [0,],\n",
    "    [0, 0.25, 0.5, 0.9],\n",
    "    [0, 0.25, 0.5, 0.9],\n",
    "    [0, 0.1, 0.25, 0.5],\n",
    "    # [\"Low\",],\n",
    "    # [\"Medium\",],\n",
    "    # [\"High\",],\n",
    "    ]\n",
    "\n",
    "\n",
    "x_tests = []\n",
    "y_tests = []\n",
    "sim_infos = []\n",
    "for correlation_mode, correlation_mode_name, noise_color_coeffs in zip(correlation_modes, correlation_mode_names, noise_color_coeff_list):\n",
    "    print(correlation_mode_name)\n",
    "    generator_args[\"correlation_mode\"] = correlation_mode\n",
    "    for noise_color_coeff in noise_color_coeffs:\n",
    "        generator_args[\"noise_color_coeff\"] = noise_color_coeff\n",
    "        for snr_range in snr_ranges:\n",
    "            print(\"  \", snr_range, \" dB\")\n",
    "            generator_args[\"snr_range\"] = (snr_range, snr_range)\n",
    "            for isc in iscs:\n",
    "                print(\"\\t\", isc)\n",
    "                generator_args[\"inter_source_correlation\"] = isc\n",
    "                gen_test = generator(fwd, **generator_args)\n",
    "                x_test, y_test, sim_info = gen_test.__next__()\n",
    "                x_tests.append(x_test)\n",
    "                y_tests.append([csr_matrix(yy) for yy in y_test])\n",
    "                sim_infos.append(sim_info)\n",
    "\n",
    "x_test = np.concatenate(x_tests, axis=0)\n",
    "y_test = np.concatenate(y_tests, axis=0)\n",
    "sim_info = pd.concat(sim_infos)\n",
    "\n",
    "with open(fullpath, \"wb\") as f:\n",
    "    pkl.dump([x_test, y_test, sim_info, generator_args], f)"
   ]
  },
  {
   "cell_type": "markdown",
   "metadata": {},
   "source": [
    "# Figure 3"
   ]
  },
  {
   "cell_type": "code",
   "execution_count": 12,
   "metadata": {},
   "outputs": [
    {
     "name": "stdout",
     "output_type": "stream",
     "text": [
      "0.5\n",
      "   8\n",
      "   16\n",
      "   32\n",
      "   64\n",
      "   128\n",
      "0.9\n",
      "   8\n",
      "   16\n",
      "   32\n",
      "   64\n",
      "   128\n",
      "0.95\n",
      "   8\n",
      "   16\n",
      "   32\n",
      "   64\n",
      "   128\n"
     ]
    }
   ],
   "source": [
    "generator_args = deepcopy(generator_args_baseline)\n",
    "\n",
    "sim_condition = \"figure-3\"\n",
    "fullpath = os.path.join(base_path, f\"\"\"sim_{sim_condition}.pkl\"\"\")\n",
    "\n",
    "time_samples = [8, 16, 32, 64, 128]\n",
    "inter_source_correlations = (0.5, 0.9, 0.95)\n",
    "\n",
    "x_tests = []\n",
    "y_tests = []\n",
    "sim_infos = []\n",
    "for inter_source_correlation in inter_source_correlations:\n",
    "    print(inter_source_correlation)\n",
    "    generator_args[\"inter_source_correlation\"] = inter_source_correlation\n",
    "    for n_timepoints in time_samples:\n",
    "        print(\"  \", n_timepoints)\n",
    "        generator_args[\"n_timepoints\"] = n_timepoints\n",
    "        gen_test = generator(fwd, **generator_args)\n",
    "        x_test, y_test, sim_info = gen_test.__next__()\n",
    "        x_tests.append(x_test)\n",
    "        y_tests.append([csr_matrix(yy) for yy in y_test])\n",
    "        sim_infos.append(sim_info)\n",
    "\n",
    "# x_test = np.concatenate(x_tests, axis=0)\n",
    "# y_test = np.concatenate(y_tests, axis=0)\n",
    "sim_info = pd.concat(sim_infos)\n",
    "\n",
    "with open(fullpath, \"wb\") as f:\n",
    "    pkl.dump([x_tests, y_tests, sim_info, generator_args], f)"
   ]
  }
 ],
 "metadata": {
  "kernelspec": {
   "display_name": "invertenv",
   "language": "python",
   "name": "python3"
  },
  "language_info": {
   "codemirror_mode": {
    "name": "ipython",
    "version": 3
   },
   "file_extension": ".py",
   "mimetype": "text/x-python",
   "name": "python",
   "nbconvert_exporter": "python",
   "pygments_lexer": "ipython3",
   "version": "3.8.10"
  },
  "orig_nbformat": 4,
  "vscode": {
   "interpreter": {
    "hash": "dda1e5657e486f74a7b39841fb8103db2af51a77394f44c39a7821a371af47bd"
   }
  }
 },
 "nbformat": 4,
 "nbformat_minor": 2
}
