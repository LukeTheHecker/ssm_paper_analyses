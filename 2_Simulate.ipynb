{
 "cells": [
  {
   "cell_type": "code",
   "execution_count": 2,
   "metadata": {},
   "outputs": [
    {
     "name": "stdout",
     "output_type": "stream",
     "text": [
      "The autoreload extension is already loaded. To reload it, use:\n",
      "  %reload_ext autoreload\n"
     ]
    }
   ],
   "source": [
    "%matplotlib qt\n",
    "%load_ext autoreload\n",
    "%autoreload 2\n",
    "\n",
    "import sys; sys.path.insert(0, r'../../invert')\n",
    "import mne\n",
    "import pickle as pkl\n",
    "\n",
    "from time import time\n",
    "from copy import deepcopy\n",
    "import os\n",
    "import numpy as np\n",
    "import pandas as pd\n",
    "from scipy.sparse import csr_matrix\n",
    "from invert.forward import get_info, create_forward_model\n",
    "from invert.simulate import generator\n",
    "from invert import Solver\n",
    "from config import forward_models\n",
    "base_path = \"D:/data/flex_ssm/simulation\"\n",
    "os.makedirs(base_path, exist_ok=True)\n",
    "random_seed = 42"
   ]
  },
  {
   "attachments": {},
   "cell_type": "markdown",
   "metadata": {},
   "source": [
    "# Load Files"
   ]
  },
  {
   "cell_type": "code",
   "execution_count": 5,
   "metadata": {},
   "outputs": [
    {
     "name": "stdout",
     "output_type": "stream",
     "text": [
      "    No patch info available. The standard source space normals will be employed in the rotation to the local surface coordinates....\n",
      "    Changing to fixed-orientation forward solution with surface-based source orientations...\n",
      "    [done]\n"
     ]
    }
   ],
   "source": [
    "path_fwd = os.path.join(\"D:/data/flex_ssm\", forward_models[0][\"path_fwd\"])\n",
    "path_info = os.path.join(\"D:/data/flex_ssm\",forward_models[0][\"path_info\"])\n",
    "\n",
    "fwd = mne.read_forward_solution(path_fwd, verbose=0)\n",
    "fwd = mne.convert_forward_solution(fwd, force_fixed=True)\n",
    "fwd[\"sol\"][\"data\"] /= np.linalg.norm(fwd[\"sol\"][\"data\"], axis=0)\n",
    "\n",
    "fn = path_info\n",
    "with open(fn, 'rb') as f:\n",
    "    info = pkl.load(f)"
   ]
  },
  {
   "attachments": {},
   "cell_type": "markdown",
   "metadata": {},
   "source": [
    "# Simulate Data"
   ]
  },
  {
   "cell_type": "code",
   "execution_count": 6,
   "metadata": {},
   "outputs": [],
   "source": [
    "generator_args_baseline = dict(\n",
    "    use_cov = False, \n",
    "    return_mask = False, \n",
    "    n_sources = 2,   # 2 simultaneous sources\n",
    "    n_orders = 0,  # Neighborhood orders (source extent)\n",
    "    snr_range = (1,1),  # Signal-to-noise ratio (actual ratio, not dB)\n",
    "    amplitude_range = (0.5, 1),  # Range of source time course gain \n",
    "    batch_repetitions = 1, \n",
    "    batch_size = 500,  # 500 No. of samples\n",
    "    scale_data = False,  \n",
    "    n_timepoints = 50,  # No. of time points per sample\n",
    "    beta_range = (1 ,1),  # Determines the frequency spectrum of each simulted time course (1/f**beta)\n",
    "    return_info = True,  # Return information on the simulated sources\n",
    "    inter_source_correlation = 0.5,  # Inter source correlation coefficient rho\n",
    "    diffusion_parameter = 0.1,  # Diffusion parameter alpha: determines the speed of diffusion, thus shape of extended sources\n",
    "    random_seed=random_seed,  # Random seed for replicability\n",
    "    iid_noise=True)  # Sensor noise is IID, so not correlated among channels"
   ]
  },
  {
   "cell_type": "markdown",
   "metadata": {},
   "source": [
    "# Figure 1"
   ]
  },
  {
   "cell_type": "code",
   "execution_count": null,
   "metadata": {},
   "outputs": [],
   "source": [
    "generator_args = deepcopy(generator_args_baseline)\n",
    "generator_args[\"n_orders\"] = 0\n",
    "sim_condition = \"figure-1\"\n",
    "fullpath = os.path.join(base_path, f\"\"\"sim_{sim_condition}.pkl\"\"\")\n",
    "\n",
    "iscs = [0.1, 0.5, 0.9, 0.95, 0.975, 0.99, 1.0]\n",
    "x_tests = []\n",
    "y_tests = []\n",
    "sim_infos = []\n",
    "for isc in iscs:\n",
    "    print(isc)\n",
    "    generator_args[\"inter_source_correlation\"] = isc\n",
    "    gen_test = generator(fwd, **generator_args)\n",
    "    x_test, y_test, sim_info = gen_test.__next__()\n",
    "    x_tests.append(x_test)\n",
    "    y_tests.append([csr_matrix(yy) for yy in y_test])\n",
    "    sim_infos.append(sim_info)\n",
    "\n",
    "x_test = np.concatenate(x_tests, axis=0)\n",
    "y_test = np.concatenate(y_tests, axis=0)\n",
    "sim_info = pd.concat(sim_infos)\n",
    "\n",
    "with open(fullpath, \"wb\") as f:\n",
    "    pkl.dump([x_test, y_test, sim_info, generator_args], f)"
   ]
  },
  {
   "cell_type": "markdown",
   "metadata": {},
   "source": [
    "# Figure 12  - 3 sources"
   ]
  },
  {
   "cell_type": "code",
   "execution_count": 5,
   "metadata": {},
   "outputs": [
    {
     "name": "stdout",
     "output_type": "stream",
     "text": [
      "0.1\n",
      "0.5\n",
      "0.9\n",
      "0.95\n",
      "0.975\n",
      "0.99\n",
      "1.0\n"
     ]
    }
   ],
   "source": [
    "generator_args = deepcopy(generator_args_baseline)\n",
    "generator_args[\"n_orders\"] = 0\n",
    "generator_args[\"n_sources\"] = 3\n",
    "sim_condition = \"figure-12\"\n",
    "fullpath = os.path.join(base_path, f\"\"\"sim_{sim_condition}.pkl\"\"\")\n",
    "\n",
    "iscs = [0.1, 0.5, 0.9, 0.95, 0.975, 0.99, 1.0]\n",
    "x_tests = []\n",
    "y_tests = []\n",
    "sim_infos = []\n",
    "for isc in iscs:\n",
    "    print(isc)\n",
    "    generator_args[\"inter_source_correlation\"] = isc\n",
    "    gen_test = generator(fwd, **generator_args)\n",
    "    x_test, y_test, sim_info = gen_test.__next__()\n",
    "    x_tests.append(x_test)\n",
    "    y_tests.append([csr_matrix(yy) for yy in y_test])\n",
    "    sim_infos.append(sim_info)\n",
    "\n",
    "x_test = np.concatenate(x_tests, axis=0)\n",
    "y_test = np.concatenate(y_tests, axis=0)\n",
    "sim_info = pd.concat(sim_infos)\n",
    "\n",
    "with open(fullpath, \"wb\") as f:\n",
    "    pkl.dump([x_test, y_test, sim_info, generator_args], f)"
   ]
  },
  {
   "cell_type": "markdown",
   "metadata": {},
   "source": [
    "# Figure 13  - equal magnitude sources"
   ]
  },
  {
   "cell_type": "code",
   "execution_count": 6,
   "metadata": {},
   "outputs": [
    {
     "name": "stdout",
     "output_type": "stream",
     "text": [
      "0.1\n",
      "0.5\n",
      "0.9\n",
      "0.95\n",
      "0.975\n",
      "0.99\n",
      "1.0\n"
     ]
    }
   ],
   "source": [
    "generator_args = deepcopy(generator_args_baseline)\n",
    "generator_args[\"n_orders\"] = 0\n",
    "generator_args[\"amplitude_range\"] = (1,1)\n",
    "sim_condition = \"figure-13\"\n",
    "fullpath = os.path.join(base_path, f\"\"\"sim_{sim_condition}.pkl\"\"\")\n",
    "\n",
    "iscs = [0.1, 0.5, 0.9, 0.95, 0.975, 0.99, 1.0]\n",
    "x_tests = []\n",
    "y_tests = []\n",
    "sim_infos = []\n",
    "for isc in iscs:\n",
    "    print(isc)\n",
    "    generator_args[\"inter_source_correlation\"] = isc\n",
    "    gen_test = generator(fwd, **generator_args)\n",
    "    x_test, y_test, sim_info = gen_test.__next__()\n",
    "    x_tests.append(x_test)\n",
    "    y_tests.append([csr_matrix(yy) for yy in y_test])\n",
    "    sim_infos.append(sim_info)\n",
    "\n",
    "x_test = np.concatenate(x_tests, axis=0)\n",
    "y_test = np.concatenate(y_tests, axis=0)\n",
    "sim_info = pd.concat(sim_infos)\n",
    "\n",
    "with open(fullpath, \"wb\") as f:\n",
    "    pkl.dump([x_test, y_test, sim_info, generator_args], f)"
   ]
  },
  {
   "cell_type": "markdown",
   "metadata": {},
   "source": [
    "# Figure 1.4 - white spectrum signals"
   ]
  },
  {
   "cell_type": "code",
   "execution_count": 7,
   "metadata": {},
   "outputs": [
    {
     "name": "stdout",
     "output_type": "stream",
     "text": [
      "0.1\n",
      "0.5\n",
      "0.9\n",
      "0.95\n",
      "0.975\n",
      "0.99\n",
      "1.0\n"
     ]
    }
   ],
   "source": [
    "generator_args = deepcopy(generator_args_baseline)\n",
    "generator_args[\"n_orders\"] = 0\n",
    "generator_args[\"beta_range\"] = (0,0)\n",
    "sim_condition = \"figure-14\"\n",
    "fullpath = os.path.join(base_path, f\"\"\"sim_{sim_condition}.pkl\"\"\")\n",
    "\n",
    "iscs = [0.1, 0.5, 0.9, 0.95, 0.975, 0.99, 1.0]\n",
    "x_tests = []\n",
    "y_tests = []\n",
    "sim_infos = []\n",
    "for isc in iscs:\n",
    "    print(isc)\n",
    "    generator_args[\"inter_source_correlation\"] = isc\n",
    "    gen_test = generator(fwd, **generator_args)\n",
    "    x_test, y_test, sim_info = gen_test.__next__()\n",
    "    x_tests.append(x_test)\n",
    "    y_tests.append([csr_matrix(yy) for yy in y_test])\n",
    "    sim_infos.append(sim_info)\n",
    "\n",
    "x_test = np.concatenate(x_tests, axis=0)\n",
    "y_test = np.concatenate(y_tests, axis=0)\n",
    "sim_info = pd.concat(sim_infos)\n",
    "\n",
    "with open(fullpath, \"wb\") as f:\n",
    "    pkl.dump([x_test, y_test, sim_info, generator_args], f)"
   ]
  },
  {
   "cell_type": "markdown",
   "metadata": {},
   "source": [
    "# Figure 2"
   ]
  },
  {
   "cell_type": "code",
   "execution_count": null,
   "metadata": {},
   "outputs": [],
   "source": [
    "generator_args = deepcopy(generator_args_baseline)\n",
    "generator_args[\"n_orders\"] = 0\n",
    "sim_condition = \"figure-2\"\n",
    "fullpath = os.path.join(base_path, f\"\"\"sim_{sim_condition}.pkl\"\"\")\n",
    "\n",
    "snr_ranges = [-10, -5, 0.]\n",
    "snr_ranges = [10**(x/10) for x in snr_ranges]\n",
    "x_tests = []\n",
    "y_tests = []\n",
    "sim_infos = []\n",
    "for snr_range in snr_ranges:\n",
    "    print(snr_range)\n",
    "    generator_args[\"snr_range\"] = (snr_range, snr_range)\n",
    "    gen_test = generator(fwd, **generator_args)\n",
    "    x_test, y_test, sim_info = gen_test.__next__()\n",
    "    x_tests.append(x_test)\n",
    "    y_tests.append([csr_matrix(yy) for yy in y_test])\n",
    "    sim_infos.append(sim_info)\n",
    "\n",
    "x_test = np.concatenate(x_tests, axis=0)\n",
    "y_test = np.concatenate(y_tests, axis=0)\n",
    "sim_info = pd.concat(sim_infos)\n",
    "\n",
    "with open(fullpath, \"wb\") as f:\n",
    "    pkl.dump([x_test, y_test, sim_info, generator_args], f)"
   ]
  },
  {
   "cell_type": "markdown",
   "metadata": {},
   "source": [
    "# Figure 3"
   ]
  },
  {
   "cell_type": "code",
   "execution_count": 16,
   "metadata": {},
   "outputs": [
    {
     "name": "stdout",
     "output_type": "stream",
     "text": [
      "10\n",
      "20\n",
      "50\n"
     ]
    }
   ],
   "source": [
    "generator_args = deepcopy(generator_args_baseline)\n",
    "generator_args[\"n_orders\"] = 0\n",
    "sim_condition = \"figure-3\"\n",
    "fullpath = os.path.join(base_path, f\"\"\"sim_{sim_condition}.pkl\"\"\")\n",
    "\n",
    "time_samples = [10, 20, 50]\n",
    "\n",
    "x_tests = []\n",
    "y_tests = []\n",
    "sim_infos = []\n",
    "for n_timepoints in time_samples:\n",
    "    print(n_timepoints)\n",
    "    generator_args[\"n_timepoints\"] = n_timepoints\n",
    "    gen_test = generator(fwd, **generator_args)\n",
    "    x_test, y_test, sim_info = gen_test.__next__()\n",
    "    x_tests.extend(x_test)\n",
    "    y_tests.extend([csr_matrix(yy) for yy in y_test])\n",
    "    sim_infos.append(sim_info)\n",
    "\n",
    "# x_test = np.concatenate(x_tests, axis=0)\n",
    "# y_test = np.concatenate(y_tests, axis=0)\n",
    "sim_info = pd.concat(sim_infos)\n",
    "\n",
    "with open(fullpath, \"wb\") as f:\n",
    "    pkl.dump([x_tests, y_tests, sim_info, generator_args], f)"
   ]
  },
  {
   "cell_type": "markdown",
   "metadata": {},
   "source": [
    "# Figure 4"
   ]
  },
  {
   "cell_type": "code",
   "execution_count": 21,
   "metadata": {},
   "outputs": [
    {
     "name": "stdout",
     "output_type": "stream",
     "text": [
      "0.1\n",
      "0.5\n",
      "0.9\n"
     ]
    }
   ],
   "source": [
    "generator_args = deepcopy(generator_args_baseline)\n",
    "generator_args[\"n_orders\"] = 0\n",
    "generator_args[\"n_sources\"] = 3\n",
    "sim_condition = \"figure-4\"\n",
    "fullpath = os.path.join(base_path, f\"\"\"sim_{sim_condition}.pkl\"\"\")\n",
    "\n",
    "iscs = [0.1, 0.5, 0.9]\n",
    "x_tests = []\n",
    "y_tests = []\n",
    "sim_infos = []\n",
    "for isc in iscs:\n",
    "    print(isc)\n",
    "    generator_args[\"inter_source_correlation\"] = isc\n",
    "    gen_test = generator(fwd, **generator_args)\n",
    "    x_test, y_test, sim_info = gen_test.__next__()\n",
    "    x_tests.append(x_test)\n",
    "    y_tests.append([csr_matrix(yy) for yy in y_test])\n",
    "    sim_infos.append(sim_info)\n",
    "\n",
    "x_test = np.concatenate(x_tests, axis=0)\n",
    "y_test = np.concatenate(y_tests, axis=0)\n",
    "sim_info = pd.concat(sim_infos)\n",
    "\n",
    "with open(fullpath, \"wb\") as f:\n",
    "    pkl.dump([x_test, y_test, sim_info, generator_args], f)"
   ]
  },
  {
   "cell_type": "markdown",
   "metadata": {},
   "source": [
    "# Figure 4.2 (Amirs simulation paradigm)"
   ]
  },
  {
   "cell_type": "code",
   "execution_count": 13,
   "metadata": {},
   "outputs": [
    {
     "name": "stdout",
     "output_type": "stream",
     "text": [
      "0.1\n",
      "0.5\n",
      "0.9\n"
     ]
    }
   ],
   "source": [
    "from invert.simulate import generator_simple\n",
    "generator_args = dict(\n",
    "    batch_size=generator_args_baseline[\"batch_size\"], \n",
    "    corrs=(0, 1), \n",
    "    T=generator_args_baseline[\"n_timepoints\"], \n",
    "    n_sources=3, \n",
    "    SNR_range=(0,0),\n",
    "    random_seed=42)\n",
    "\n",
    "\n",
    "sim_condition = \"figure-42\"\n",
    "fullpath = os.path.join(base_path, f\"\"\"sim_{sim_condition}.pkl\"\"\")\n",
    "\n",
    "iscs = [0.1, 0.5, 0.9]\n",
    "x_tests = []\n",
    "y_tests = []\n",
    "sim_infos = []\n",
    "for isc in iscs:\n",
    "    print(isc)\n",
    "    generator_args[\"corrs\"] = [isc, isc]\n",
    "    gen_test = generator_simple(fwd, **generator_args)\n",
    "    x_test, y_test, sim_info = gen_test.__next__()\n",
    "    x_tests.append(x_test)\n",
    "    y_tests.append([csr_matrix(yy) for yy in y_test])\n",
    "    sim_infos.append(sim_info)\n",
    "\n",
    "x_test = np.concatenate(x_tests, axis=0)\n",
    "y_test = np.concatenate(y_tests, axis=0)\n",
    "sim_info = pd.concat(sim_infos)\n",
    "generator_args[\"n_orders\"] = 0\n",
    "\n",
    "with open(fullpath, \"wb\") as f:\n",
    "    pkl.dump([x_test, y_test, sim_info, generator_args], f)"
   ]
  },
  {
   "cell_type": "code",
   "execution_count": 21,
   "metadata": {},
   "outputs": [
    {
     "data": {
      "text/plain": [
       "<5124x50 sparse matrix of type '<class 'numpy.float64'>'\n",
       "\twith 150 stored elements in Compressed Sparse Row format>"
      ]
     },
     "execution_count": 21,
     "metadata": {},
     "output_type": "execute_result"
    }
   ],
   "source": [
    "y_tests[0][0]"
   ]
  },
  {
   "cell_type": "code",
   "execution_count": 14,
   "metadata": {},
   "outputs": [
    {
     "data": {
      "text/plain": [
       "{'batch_size': 500,\n",
       " 'corrs': [0.9, 0.9],\n",
       " 'T': 50,\n",
       " 'n_sources': 3,\n",
       " 'SNR_range': (0, 0),\n",
       " 'random_seed': 42,\n",
       " 'n_orders': 0}"
      ]
     },
     "execution_count": 14,
     "metadata": {},
     "output_type": "execute_result"
    }
   ],
   "source": [
    "generator_args"
   ]
  },
  {
   "cell_type": "markdown",
   "metadata": {},
   "source": [
    "# Figure 5"
   ]
  },
  {
   "cell_type": "code",
   "execution_count": 9,
   "metadata": {},
   "outputs": [
    {
     "name": "stdout",
     "output_type": "stream",
     "text": [
      "0 orders\n",
      "2 orders\n",
      "4 orders\n",
      "6 orders\n"
     ]
    }
   ],
   "source": [
    "generator_args = deepcopy(generator_args_baseline)\n",
    "generator_args[\"inter_source_correlation\"] = 0.5\n",
    "\n",
    "sim_condition = \"figure-5\"\n",
    "fullpath = os.path.join(base_path, f\"\"\"sim_{sim_condition}.pkl\"\"\")\n",
    "\n",
    "n_orders = [0, 2, 4, 6]\n",
    "x_tests = []\n",
    "y_tests = []\n",
    "sim_infos = []\n",
    "for n_order in n_orders:\n",
    "    print(f\"{n_order} orders\")\n",
    "    generator_args[\"n_orders\"] = [n_order, n_order]\n",
    "    gen_test = generator(fwd, **generator_args)\n",
    "    x_test, y_test, sim_info = gen_test.__next__()\n",
    "    x_tests.append(x_test)\n",
    "    y_tests.append([csr_matrix(yy) for yy in y_test])\n",
    "    sim_infos.append(sim_info)\n",
    "\n",
    "x_test = np.concatenate(x_tests, axis=0)\n",
    "y_test = np.concatenate(y_tests, axis=0)\n",
    "sim_info = pd.concat(sim_infos)\n",
    "\n",
    "with open(fullpath, \"wb\") as f:\n",
    "    pkl.dump([x_test, y_test, sim_info, generator_args], f)"
   ]
  }
 ],
 "metadata": {
  "kernelspec": {
   "display_name": "invertenv",
   "language": "python",
   "name": "python3"
  },
  "language_info": {
   "codemirror_mode": {
    "name": "ipython",
    "version": 3
   },
   "file_extension": ".py",
   "mimetype": "text/x-python",
   "name": "python",
   "nbconvert_exporter": "python",
   "pygments_lexer": "ipython3",
   "version": "3.8.10"
  },
  "orig_nbformat": 4,
  "vscode": {
   "interpreter": {
    "hash": "dda1e5657e486f74a7b39841fb8103db2af51a77394f44c39a7821a371af47bd"
   }
  }
 },
 "nbformat": 4,
 "nbformat_minor": 2
}
