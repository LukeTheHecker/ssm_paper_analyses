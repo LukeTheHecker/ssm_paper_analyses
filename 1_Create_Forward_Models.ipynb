{
 "cells": [
  {
   "cell_type": "code",
   "execution_count": 1,
   "metadata": {},
   "outputs": [],
   "source": [
    "import sys; sys.path.insert(0, '../../invert')\n",
    "from invert.forward import get_info, create_forward_model\n",
    "import mne\n",
    "import pickle as pkl\n",
    "import os\n",
    "import numpy as np\n",
    "import matplotlib.pyplot as plt\n",
    "os.makedirs(\"forward_models\", exist_ok=True)\n",
    "verbose = 0"
   ]
  },
  {
   "cell_type": "code",
   "execution_count": 4,
   "metadata": {},
   "outputs": [],
   "source": [
    "samplings = {\n",
    "    \"fine\": \"oct6\", \n",
    "    \"coarse\": \"ico4\"}"
   ]
  },
  {
   "cell_type": "markdown",
   "metadata": {},
   "source": [
    "# Clean Forward Models"
   ]
  },
  {
   "cell_type": "code",
   "execution_count": 7,
   "metadata": {},
   "outputs": [
    {
     "name": "stdout",
     "output_type": "stream",
     "text": [
      "    Write a source space...\n",
      "    [done]\n",
      "    Write a source space...\n",
      "    [done]\n",
      "    2 source spaces written\n",
      "Saved forward_models/fsaverage_biosemi256_Clean_fine-fwd.fif\n",
      "    Write a source space...\n",
      "    [done]\n",
      "    Write a source space...\n",
      "    [done]\n",
      "    2 source spaces written\n",
      "Saved forward_models/fsaverage_biosemi256_Clean_coarse-fwd.fif\n"
     ]
    }
   ],
   "source": [
    "n_chans = 256\n",
    "info = get_info(f\"biosemi{n_chans}\")\n",
    "\n",
    "fn = f\"info_biosemi{n_chans}.pkl\"\n",
    "with open(fn, 'wb') as f:\n",
    "    pkl.dump(info, f)\n",
    "\n",
    "# get fsaverage forward model\n",
    "ratio = 80\n",
    "conductivity = [0.33, 0.33/ratio, 0.33]\n",
    "\n",
    "fs_dir = mne.datasets.fetch_fsaverage(verbose=verbose)\n",
    "subject = 'fsaverage'\n",
    "subjects_dir = os.path.dirname(fs_dir)\n",
    "surfaces = mne.make_bem_model(subject, ico=4, conductivity=conductivity, verbose=verbose)\n",
    "bem = mne.make_bem_solution(surfaces, verbose=verbose)\n",
    "\n",
    "trans = os.path.join(fs_dir, 'bem', 'fsaverage-trans.fif')\n",
    "fwds = dict()\n",
    "srcs = dict()\n",
    "for key, sampling in samplings.items():\n",
    "    \n",
    "    # Create and save Source Model\n",
    "    src = mne.setup_source_space(subject, spacing=sampling, surface='white',\n",
    "                                        subjects_dir=subjects_dir, add_dist=False,\n",
    "                                        n_jobs=1, verbose=verbose)\n",
    "    # Forward Model\n",
    "    fwd = mne.make_forward_solution(info, trans=trans, src=src,\n",
    "                                    bem=bem, eeg=True, mindist=5.0, n_jobs=1,\n",
    "                                    verbose=verbose)\n",
    "    \n",
    "    fwds[f\"\"\"Clean_{key}\"\"\"] = fwd\n",
    "    srcs[key] = src\n",
    "    fn = f\"forward_models/fsaverage_biosemi{n_chans}_Clean_{key}-fwd.fif\"\n",
    "    mne.write_forward_solution(fn, fwd, overwrite=True)\n",
    "    print(f\"Saved {fn}\")\n"
   ]
  },
  {
   "cell_type": "markdown",
   "metadata": {},
   "source": [
    "# Forward models with conductivity error"
   ]
  },
  {
   "cell_type": "code",
   "execution_count": 8,
   "metadata": {},
   "outputs": [
    {
     "name": "stdout",
     "output_type": "stream",
     "text": [
      "    Write a source space...\n",
      "    [done]\n",
      "    Write a source space...\n",
      "    [done]\n",
      "    2 source spaces written\n",
      "Saved forward_models/fsaverage_biosemi256_Ratio-50_fine-fwd.fif\n",
      "    Write a source space...\n",
      "    [done]\n",
      "    Write a source space...\n",
      "    [done]\n",
      "    2 source spaces written\n",
      "Saved forward_models/fsaverage_biosemi256_Ratio-30_fine-fwd.fif\n"
     ]
    }
   ],
   "source": [
    "key = \"fine\"\n",
    "for ratio in (50, 30):\n",
    "    conductivity = [0.33, 0.33/ratio, 0.33]\n",
    "    \n",
    "    surfaces = mne.make_bem_model(subject, ico=4, conductivity=conductivity, subjects_dir=subjects_dir, verbose=verbose)\n",
    "    bem = mne.make_bem_solution(surfaces, verbose=verbose)\n",
    "    # Forward Model\n",
    "    fwd = mne.make_forward_solution(info, trans=trans, src=srcs[key],\n",
    "                                    bem=bem, eeg=True, mindist=5.0, n_jobs=1,\n",
    "                                    verbose=verbose)\n",
    "    \n",
    "    fwds[f\"\"\"Ratio-{ratio}_{key}\"\"\"] = fwd\n",
    "\n",
    "    fn = f\"forward_models/fsaverage_biosemi{n_chans}_Ratio-{ratio}_{key}-fwd.fif\"\n",
    "    mne.write_forward_solution(fn, fwd, overwrite=True)\n",
    "    print(f\"Saved {fn}\")\n"
   ]
  }
 ],
 "metadata": {
  "kernelspec": {
   "display_name": "invertenv",
   "language": "python",
   "name": "python3"
  },
  "language_info": {
   "codemirror_mode": {
    "name": "ipython",
    "version": 3
   },
   "file_extension": ".py",
   "mimetype": "text/x-python",
   "name": "python",
   "nbconvert_exporter": "python",
   "pygments_lexer": "ipython3",
   "version": "3.8.10"
  },
  "orig_nbformat": 4,
  "vscode": {
   "interpreter": {
    "hash": "dda1e5657e486f74a7b39841fb8103db2af51a77394f44c39a7821a371af47bd"
   }
  }
 },
 "nbformat": 4,
 "nbformat_minor": 2
}
