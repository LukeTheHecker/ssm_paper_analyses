{
 "cells": [
  {
   "cell_type": "code",
   "execution_count": null,
   "metadata": {},
   "outputs": [],
   "source": [
    "import sys; sys.path.insert(0, '../../invert')\n",
    "from invert.forward import get_info, create_forward_model\n",
    "import mne\n",
    "import pickle as pkl\n",
    "import os\n",
    "import numpy as np\n",
    "import matplotlib.pyplot as plt\n",
    "from config import *\n",
    "os.makedirs(\"forward_models\", exist_ok=True)\n",
    "verbose = 0"
   ]
  },
  {
   "cell_type": "markdown",
   "metadata": {},
   "source": [
    "# Settings"
   ]
  },
  {
   "cell_type": "code",
   "execution_count": null,
   "metadata": {},
   "outputs": [],
   "source": [
    "samplings = {\n",
    "    \"fine\": \"oct6\", \n",
    "    \"coarse\": \"ico4\"}"
   ]
  },
  {
   "cell_type": "markdown",
   "metadata": {},
   "source": [
    "# Load the Files"
   ]
  },
  {
   "cell_type": "code",
   "execution_count": null,
   "metadata": {},
   "outputs": [],
   "source": [
    "import mne\n",
    "mne.datasets.fetch_fsaverage(subjects_dir=subjects_dir, verbose=True)"
   ]
  },
  {
   "cell_type": "code",
   "execution_count": null,
   "metadata": {},
   "outputs": [],
   "source": [
    "import mne\n",
    "# sample_data_folder = mne.datasets.sample.data_path()\n",
    "# meg_data_path = (\n",
    "#     sample_data_folder / \"MEG\" / \"sample\" / \"sample_audvis_filt-0-40_raw.fif\"\n",
    "# )\n",
    "raw = mne.io.read_raw_fif(meg_data_path)\n",
    "raw = raw.pick_types(meg=True, eeg=False, eog=False, stim=False)\n",
    "info = raw.info\n",
    "\n",
    "fn = f\"forward_models/info.pkl\"\n",
    "with open(fn, 'wb') as f:\n",
    "    pkl.dump(info, f)\n",
    "\n",
    "fs_dir = os.path.join(subjects_dir, subject)\n",
    "subjects_dir = os.path.dirname(fs_dir)\n",
    "src = os.path.join(fs_dir, 'bem', f'{subject}-ico-5-src.fif')\n",
    "bem = os.path.join(fs_dir, 'bem', f'{subject}-5120-5120-5120-bem-sol.fif')\n",
    "trans = r\"C:\\Users\\lukas\\mne_data\\MNE-sample-data\\subjects\\fsaverage\\bem\\fsaverage-trans.fif\""
   ]
  },
  {
   "cell_type": "markdown",
   "metadata": {},
   "source": [
    "# Create and Store Clean Forward Models"
   ]
  },
  {
   "cell_type": "code",
   "execution_count": null,
   "metadata": {},
   "outputs": [],
   "source": [
    "ratio = 80\n",
    "conductivity = [0.33, 0.33/ratio, 0.33]\n",
    "\n",
    "ico = 4\n",
    "surfaces = mne.make_bem_model(subject, ico=ico, conductivity=conductivity, verbose=verbose)\n",
    "bem = mne.make_bem_solution(surfaces, verbose=verbose)\n",
    "fwds = dict()\n",
    "srcs = dict()\n",
    "\n",
    "for samp_label, sampling in samplings.items():\n",
    "    src = mne.setup_source_space(subject, spacing=sampling, surface='white',\n",
    "                                        subjects_dir=subjects_dir, add_dist=False,\n",
    "                                        n_jobs=-1, verbose=verbose)\n",
    "    fwd = mne.make_forward_solution(info, trans=trans, src=src, bem=bem, eeg=False, \n",
    "                                    meg=True, mindist=5.0, n_jobs=-1,\n",
    "                                        verbose=verbose)\n",
    "    fwd = mne.convert_forward_solution(fwd, surf_ori=True, force_fixed=True,\n",
    "                                                use_cps=True, verbose=verbose)\n",
    "    \n",
    "    fname = f\"forward_models/Clean_{samp_label}-fwd.fif\"\n",
    "    mne.write_forward_solution(fname, fwd, overwrite=True)\n",
    "    \n",
    "    fwds[samp_label] = fwd.copy()\n",
    "    srcs[samp_label] = src.copy()"
   ]
  },
  {
   "cell_type": "markdown",
   "metadata": {},
   "source": [
    "# Visualize"
   ]
  },
  {
   "cell_type": "markdown",
   "metadata": {},
   "source": [
    "## MEG Data"
   ]
  },
  {
   "cell_type": "code",
   "execution_count": null,
   "metadata": {},
   "outputs": [],
   "source": [
    "L = fwd[\"sol\"][\"data\"].copy()\n",
    "L /= np.linalg.norm(L, axis=0)\n",
    "evoked = mne.EvokedArray(L, info)\n",
    "evoked.plot_joint(times=[0, 5, 10, 15, 20, 25, 30, 32])"
   ]
  },
  {
   "cell_type": "markdown",
   "metadata": {},
   "source": [
    "## Helmet & Cortex"
   ]
  },
  {
   "cell_type": "code",
   "execution_count": null,
   "metadata": {},
   "outputs": [],
   "source": [
    "import mne\n",
    "\n",
    "\n",
    "maps = mne.make_field_map(\n",
    "    evoked,\n",
    "    trans=trans,\n",
    "    ch_type=\"meg\",\n",
    "    subject=subject,\n",
    "    subjects_dir=subjects_dir,\n",
    ")\n",
    "time = 0.083\n",
    "fig = mne.viz.create_3d_figure((256, 256))\n",
    "mne.viz.plot_alignment(\n",
    "    evoked.info,\n",
    "    subject=subject,\n",
    "    subjects_dir=subjects_dir,\n",
    "    fig=fig,\n",
    "    trans=trans,\n",
    "    meg=\"sensors\",\n",
    "    eeg=False,\n",
    "    surfaces=\"pial\",\n",
    "    coord_frame=\"mri\",\n",
    ")\n",
    "evoked.plot_field(\n",
    "    maps, time=time, fig=fig, time_label=None, vmax=5e-13, time_viewer=False\n",
    ")\n",
    "mne.viz.set_3d_view(\n",
    "    fig,\n",
    "    azimuth=40,\n",
    "    elevation=87,\n",
    "    focalpoint=(0.0, -0.01, 0.04),\n",
    "    roll=-25,\n",
    "    distance=0.55,\n",
    ")"
   ]
  },
  {
   "cell_type": "markdown",
   "metadata": {},
   "source": [
    "# MEG-type Errors"
   ]
  },
  {
   "cell_type": "markdown",
   "metadata": {},
   "source": [
    "## Translation Posterior"
   ]
  },
  {
   "cell_type": "code",
   "execution_count": null,
   "metadata": {},
   "outputs": [],
   "source": [
    "direction = \"posterior\"\n",
    "\n",
    "samp_label = \"fine\"\n",
    "sampling = samplings[samp_label]\n",
    "\n",
    "translation_list = [1e-3, 2e-3]  # 1-2 mm in meters\n",
    "for translation in translation_list:\n",
    "    info_trans = info.copy()\n",
    "    for i in range(len(info_trans[\"chs\"])):\n",
    "        info_trans[\"chs\"][i][\"loc\"][1] -= translation \n",
    "\n",
    "    src = srcs[samp_label].copy()\n",
    "    \n",
    "    fwd.comment = dict(sampling=sampling, error_type=\"translation posterior\", error_magnitude=int(translation*1e3))\n",
    "    fwd = mne.make_forward_solution(info_trans, trans=trans, src=src,\n",
    "                                        bem=bem, eeg=False, meg=True, mindist=5.0, n_jobs=-1,\n",
    "                                        verbose=verbose)\n",
    "    fwd = mne.convert_forward_solution(fwd, surf_ori=True, force_fixed=True,\n",
    "                                                use_cps=True, verbose=verbose)\n",
    "    mne.write_forward_solution(f\"forward_models/Altered_{samp_label}_translation-{int(translation*1e3)}mm-{direction}-fwd.fif\", fwd, overwrite=True, verbose=0)\n",
    "    \n",
    "    fn = f\"forward_models/info_translation-{int(translation*1e3)}mm-{direction}.pkl\"\n",
    "    with open(fn, 'wb') as f:\n",
    "        pkl.dump(info_trans, f)\n",
    "    \n",
    "    \n",
    "    print(f\"Saved {fn}\")"
   ]
  },
  {
   "cell_type": "code",
   "execution_count": null,
   "metadata": {},
   "outputs": [],
   "source": [
    "info.plot_sensors()\n",
    "info_trans.plot_sensors()"
   ]
  },
  {
   "cell_type": "markdown",
   "metadata": {},
   "source": [
    "## Translation Dorsal"
   ]
  },
  {
   "cell_type": "code",
   "execution_count": null,
   "metadata": {},
   "outputs": [],
   "source": [
    "direction = \"dorsal\"\n",
    "\n",
    "samp_label = \"fine\"\n",
    "sampling = samplings[samp_label]\n",
    "\n",
    "translation_list = [1e-3, 2e-3]  # 1-2 mm in meters\n",
    "for translation in translation_list:\n",
    "    info_trans = info.copy()\n",
    "    for i in range(len(info_trans[\"chs\"])):\n",
    "        info_trans[\"chs\"][i][\"loc\"][2] += translation\n",
    "    \n",
    "    src = srcs[samp_label].copy()\n",
    "    fwd = mne.make_forward_solution(info_trans, trans=trans, src=src,\n",
    "                                        bem=bem, eeg=False, meg=True, mindist=5.0, n_jobs=-1,\n",
    "                                        verbose=verbose)\n",
    "    fwd = mne.convert_forward_solution(fwd, surf_ori=True, force_fixed=True,\n",
    "                                                use_cps=True, verbose=verbose)\n",
    "    mne.write_forward_solution(f\"forward_models/Altered_{samp_label}_translation-{int(translation*1e3)}mm-{direction}-fwd.fif\", fwd, overwrite=True, verbose=0)\n",
    "\n",
    "    fn = f\"forward_models/info_translation-{int(translation*1e3)}mm-{direction}.pkl\"\n",
    "    with open(fn, 'wb') as f:\n",
    "        pkl.dump(info_trans, f)\n",
    "    \n",
    "    \n",
    "    print(f\"Saved {fn}\")"
   ]
  },
  {
   "cell_type": "code",
   "execution_count": null,
   "metadata": {},
   "outputs": [],
   "source": [
    "info.plot_sensors()\n",
    "info_trans.plot_sensors()"
   ]
  },
  {
   "cell_type": "markdown",
   "metadata": {},
   "source": [
    "## Translation Right"
   ]
  },
  {
   "cell_type": "code",
   "execution_count": null,
   "metadata": {},
   "outputs": [],
   "source": [
    "direction = \"right\"\n",
    "\n",
    "samp_label = \"fine\"\n",
    "sampling = samplings[samp_label]\n",
    "\n",
    "translation_list = [1e-3, 2e-3]  # 1-2 mm in meters\n",
    "for translation in translation_list:\n",
    "    info_trans = info.copy()\n",
    "    for i in range(len(info_trans[\"chs\"])):\n",
    "        info_trans[\"chs\"][i][\"loc\"][0] += translation\n",
    "\n",
    "    fwd = fwds[samp_label].copy()\n",
    "    src = srcs[samp_label].copy()\n",
    "    fwd.comment = dict(sampling=sampling, error_type=f\"translation {direction}\", error_magnitude=int(translation*1e3))\n",
    "    fwd = mne.make_forward_solution(info_trans, trans=trans, src=src,\n",
    "                                        bem=bem, eeg=False, meg=True, mindist=5.0, n_jobs=-1,\n",
    "                                        verbose=verbose)\n",
    "    fwd = mne.convert_forward_solution(fwd, surf_ori=True, force_fixed=True,\n",
    "                                                use_cps=True, verbose=verbose)\n",
    "    mne.write_forward_solution(f\"forward_models/Altered_{samp_label}_translation-{int(translation*1e3)}mm-{direction}-fwd.fif\", fwd, overwrite=True, verbose=0)\n",
    "\n",
    "    fn = f\"forward_models/info_translation-{int(translation*1e3)}mm-{direction}.pkl\"\n",
    "    with open(fn, 'wb') as f:\n",
    "        pkl.dump(info_trans, f)\n",
    "    \n",
    "    print(f\"Saved {fn}\")"
   ]
  },
  {
   "cell_type": "code",
   "execution_count": null,
   "metadata": {},
   "outputs": [],
   "source": [
    "info.plot_sensors()\n",
    "info_trans.plot_sensors()"
   ]
  },
  {
   "cell_type": "markdown",
   "metadata": {},
   "source": [
    "# Rotation"
   ]
  },
  {
   "cell_type": "code",
   "execution_count": null,
   "metadata": {},
   "outputs": [],
   "source": [
    "import math\n",
    "\n",
    "def rotate_coordinates(coords, axis, degree):\n",
    "    theta = math.radians(degree)  # Convert degrees to radians\n",
    "    \n",
    "    # Depending on the axis, define the rotation matrix\n",
    "    if axis == 'x':\n",
    "        rotation_matrix = np.array([\n",
    "            [1, 0, 0],\n",
    "            [0, np.cos(theta), -np.sin(theta)],\n",
    "            [0, np.sin(theta), np.cos(theta)]\n",
    "        ])\n",
    "    elif axis == 'y':\n",
    "        rotation_matrix = np.array([\n",
    "            [np.cos(theta), 0, np.sin(theta)],\n",
    "            [0, 1, 0],\n",
    "            [-np.sin(theta), 0, np.cos(theta)]\n",
    "        ])\n",
    "    elif axis == 'z':\n",
    "        rotation_matrix = np.array([\n",
    "            [np.cos(theta), -np.sin(theta), 0],\n",
    "            [np.sin(theta), np.cos(theta), 0],\n",
    "            [0, 0, 1]\n",
    "        ])\n",
    "    else:\n",
    "        raise ValueError(\"Invalid axis. Choose from 'x', 'y', or 'z'.\")\n",
    "    \n",
    "    # Rotate each coordinate\n",
    "    rotated_coords = [np.dot(rotation_matrix, np.array(coord).T).T for coord in coords]\n",
    "    return rotated_coords"
   ]
  },
  {
   "cell_type": "markdown",
   "metadata": {},
   "source": [
    "## Rotation right"
   ]
  },
  {
   "cell_type": "code",
   "execution_count": null,
   "metadata": {},
   "outputs": [],
   "source": [
    "degrees_list = [1, 2]\n",
    "direction = \"right\"\n",
    "alteration = \"rotation\"\n",
    "for degrees in degrees_list:\n",
    "    pos = np.stack([p[\"loc\"][:3] for p in info[\"chs\"]], axis=0)\n",
    "    pos_rotated = rotate_coordinates(pos, 'y', degrees)\n",
    "    info_rotate = info.copy()\n",
    "    for i, new_coord in enumerate(pos_rotated):\n",
    "        info_rotate[\"chs\"][i][\"loc\"][:3] = new_coord \n",
    "\n",
    "    fwd = fwds[samp_label].copy()\n",
    "    src = srcs[samp_label].copy()\n",
    "    \n",
    "    fwd.comment = dict(sampling=sampling, error_type=f\"{alteration} {direction}\", error_magnitude=degrees)\n",
    "    fwd = mne.make_forward_solution(info_rotate, trans=trans, src=src,\n",
    "                                        bem=bem, eeg=False, meg=True, mindist=5.0, n_jobs=-1,\n",
    "                                        verbose=verbose)\n",
    "    fwd = mne.convert_forward_solution(fwd, surf_ori=True, force_fixed=True,\n",
    "                                                use_cps=True, verbose=verbose)\n",
    "    mne.write_forward_solution(f\"forward_models/Altered_{samp_label}_{alteration}-{degrees}deg-{direction}-fwd.fif\", fwd, overwrite=True, verbose=0)\n",
    "\n",
    "    fn = f\"forward_models/info_{alteration}-{degrees}deg-{direction}.pkl\"\n",
    "    with open(fn, 'wb') as f:\n",
    "        pkl.dump(info_rotate, f)\n",
    "    \n",
    "    \n",
    "    print(f\"Saved {fn}\")"
   ]
  },
  {
   "cell_type": "code",
   "execution_count": null,
   "metadata": {},
   "outputs": [],
   "source": [
    "info.plot_sensors()\n",
    "info_rotate.plot_sensors()"
   ]
  },
  {
   "cell_type": "markdown",
   "metadata": {},
   "source": [
    "## Rotation up"
   ]
  },
  {
   "cell_type": "code",
   "execution_count": null,
   "metadata": {},
   "outputs": [],
   "source": [
    "degrees_list = [0.25, 0.5]\n",
    "direction = \"up\"\n",
    "alteration = \"rotation\"\n",
    "for degrees in degrees_list:\n",
    "    pos = np.stack([p[\"loc\"][:3] for p in info[\"chs\"]], axis=0)\n",
    "    pos_rotated = rotate_coordinates(pos, 'x', degrees)\n",
    "    info_rotate = info.copy()\n",
    "    for i, new_coord in enumerate(pos_rotated):\n",
    "        info_rotate[\"chs\"][i][\"loc\"][:3] = new_coord \n",
    "\n",
    "    fwd = fwds[samp_label].copy()\n",
    "    src = srcs[samp_label].copy()\n",
    "    \n",
    "    fwd.comment = dict(sampling=sampling, error_type=f\"{alteration} {direction}\", error_magnitude=degrees)\n",
    "    fwd = mne.make_forward_solution(info_rotate, trans=trans, src=src,\n",
    "                                        bem=bem, eeg=False, meg=True, mindist=5.0, n_jobs=-1,\n",
    "                                        verbose=verbose)\n",
    "    fwd = mne.convert_forward_solution(fwd, surf_ori=True, force_fixed=True,\n",
    "                                                use_cps=True, verbose=verbose)\n",
    "    fn = f\"forward_models/info_{alteration}-{degrees.replace(\".\",\"\")}deg-{direction}.pkl\"\n",
    "    \n",
    "    with open(fn, 'wb') as f:\n",
    "        pkl.dump(info_rotate, f)\n",
    "    \n",
    "    mne.write_forward_solution(f\"forward_models/Altered_{samp_label}_{alteration}-{degrees.replace(\".\",\"\")}deg-{direction}-fwd.fif\", fwd, overwrite=True, verbose=0)\n",
    "    print(f\"Saved {fn}\")"
   ]
  },
  {
   "cell_type": "code",
   "execution_count": null,
   "metadata": {},
   "outputs": [],
   "source": [
    "%matplotlib qt\n",
    "info.plot_sensors()\n",
    "info_rotate.plot_sensors()"
   ]
  }
 ],
 "metadata": {
  "kernelspec": {
   "display_name": "invertenv",
   "language": "python",
   "name": "python3"
  },
  "language_info": {
   "codemirror_mode": {
    "name": "ipython",
    "version": 3
   },
   "file_extension": ".py",
   "mimetype": "text/x-python",
   "name": "python",
   "nbconvert_exporter": "python",
   "pygments_lexer": "ipython3",
   "version": "3.8.10"
  },
  "orig_nbformat": 4,
  "vscode": {
   "interpreter": {
    "hash": "dda1e5657e486f74a7b39841fb8103db2af51a77394f44c39a7821a371af47bd"
   }
  }
 },
 "nbformat": 4,
 "nbformat_minor": 2
}
