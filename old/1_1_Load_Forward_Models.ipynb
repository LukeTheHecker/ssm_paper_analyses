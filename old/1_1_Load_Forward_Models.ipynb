{
 "cells": [
  {
   "cell_type": "code",
   "execution_count": 2,
   "metadata": {},
   "outputs": [],
   "source": [
    "import scipy"
   ]
  },
  {
   "cell_type": "markdown",
   "metadata": {},
   "source": [
    "# Load Models"
   ]
  },
  {
   "cell_type": "code",
   "execution_count": 61,
   "metadata": {},
   "outputs": [
    {
     "ename": "AttributeError",
     "evalue": "'dict' object has no attribute 'shape'",
     "output_type": "error",
     "traceback": [
      "\u001b[1;31m---------------------------------------------------------------------------\u001b[0m",
      "\u001b[1;31mAttributeError\u001b[0m                            Traceback (most recent call last)",
      "Cell \u001b[1;32mIn[61], line 2\u001b[0m\n\u001b[0;32m      1\u001b[0m \u001b[38;5;66;03m# fixed2 = scipy.io.loadmat(r\"D:\\ssm_paper_analyses\\tess_cortex_pial_high_50000V.mat\")\u001b[39;00m\n\u001b[1;32m----> 2\u001b[0m \u001b[43mfixed2\u001b[49m\u001b[38;5;241;43m.\u001b[39;49m\u001b[43mshape\u001b[49m\n",
      "\u001b[1;31mAttributeError\u001b[0m: 'dict' object has no attribute 'shape'"
     ]
    }
   ],
   "source": [
    "# fixed2 = scipy.io.loadmat(r\"D:\\ssm_paper_analyses\\tess_cortex_pial_high_50000V.mat\")\n",
    "fixed2.shape"
   ]
  },
  {
   "cell_type": "code",
   "execution_count": 67,
   "metadata": {},
   "outputs": [
    {
     "name": "stdout",
     "output_type": "stream",
     "text": [
      "dict_keys(['__header__', '__version__', '__globals__', 'data'])\n"
     ]
    },
    {
     "data": {
      "text/plain": [
       "(306, 301, 2754)"
      ]
     },
     "execution_count": 67,
     "metadata": {},
     "output_type": "execute_result"
    }
   ],
   "source": [
    "# meg = scipy.io.loadmat(r\"D:\\ssm_paper_analyses\\MEGrealnoise.mat\")\n",
    "print(meg.keys())\n",
    "meg[\"data\"].shape\n"
   ]
  },
  {
   "cell_type": "code",
   "execution_count": 4,
   "metadata": {},
   "outputs": [],
   "source": [
    "\n",
    "# Leadfield\n",
    "fn = r\"D:\\ssm_paper_analyses\\OneDrive_1_26.1.2024\\headmodel_surf_openmeeg_MEG_groundtruth_constrained.mat\"\n",
    "f = scipy.io.loadmat(fn)\n",
    "leadfield = f[\"Gain\"]\n",
    "\n",
    "# Head Geometry\n",
    "fixed = scipy.io.loadmat(r\"D:\\ssm_paper_analyses\\tess_cortex_pial_low.mat\")\n",
    "pos = fixed[\"Vertices\"] * 1000\n",
    "faces = fixed[\"Faces\"] - 1\n",
    "adjacency = fixed[\"VertConn\"]\n",
    "print(leadfield.shape, pos.shape, faces.shape, faces.min(), faces.max())"
   ]
  },
  {
   "cell_type": "code",
   "execution_count": 47,
   "metadata": {},
   "outputs": [
    {
     "name": "stdout",
     "output_type": "stream",
     "text": [
      "dict_keys(['__header__', '__version__', '__globals__', 'Comment', 'Vertices', 'Faces', 'VertConn', 'VertNormals', 'Curvature', 'SulciMap', 'Atlas', 'iAtlas', 'tess2mri_interp', 'Reg', 'History'])\n"
     ]
    },
    {
     "data": {
      "text/plain": [
       "array([[array(['28-Dec-2021 01:36:04'], dtype='<U20'),\n",
       "        array(['merge'], dtype='<U5'),\n",
       "        array(['Merge surface #1: lh.pial_7501V'], dtype='<U31')],\n",
       "       [array(['28-Dec-2021 01:34:59'], dtype='<U20'),\n",
       "        array(['import'], dtype='<U6'),\n",
       "        array(['  => Import from: F:\\\\MYPROJECTS15\\\\project_AP\\\\dataraw\\\\data\\\\subj04NN\\\\surf\\\\lh.pial'],\n",
       "              dtype='<U79')                                                                              ],\n",
       "       [array(['28-Dec-2021 01:35:11'], dtype='<U20'),\n",
       "        array(['downsample'], dtype='<U10'),\n",
       "        array(['  => Downsample surface: 132113 -> 7500 vertices'], dtype='<U48')],\n",
       "       [array(['28-Dec-2021 01:36:04'], dtype='<U20'),\n",
       "        array(['merge'], dtype='<U5'),\n",
       "        array(['Merge surface #2: rh.pial_7501V'], dtype='<U31')],\n",
       "       [array(['28-Dec-2021 01:35:11'], dtype='<U20'),\n",
       "        array(['import'], dtype='<U6'),\n",
       "        array(['  => Import from: F:\\\\MYPROJECTS15\\\\project_AP\\\\dataraw\\\\data\\\\subj04NN\\\\surf\\\\rh.pial'],\n",
       "              dtype='<U79')                                                                              ],\n",
       "       [array(['28-Dec-2021 01:35:23'], dtype='<U20'),\n",
       "        array(['downsample'], dtype='<U10'),\n",
       "        array(['  => Downsample surface: 135176 -> 7500 vertices'], dtype='<U48')],\n",
       "       [array(['28-Dec-2021 01:36:04'], dtype='<U20'),\n",
       "        array(['merge'], dtype='<U5'),\n",
       "        array(['Merge completed'], dtype='<U15')]], dtype=object)"
      ]
     },
     "execution_count": 47,
     "metadata": {},
     "output_type": "execute_result"
    }
   ],
   "source": [
    "print(fixed.keys())\n",
    "fixed[\"History\"]"
   ]
  },
  {
   "cell_type": "code",
   "execution_count": null,
   "metadata": {},
   "outputs": [],
   "source": []
  },
  {
   "cell_type": "markdown",
   "metadata": {},
   "source": [
    "# Plot"
   ]
  },
  {
   "cell_type": "code",
   "execution_count": 12,
   "metadata": {},
   "outputs": [
    {
     "name": "stdout",
     "output_type": "stream",
     "text": [
      "dict_keys(['__header__', '__version__', '__globals__', 'Comment', 'Vertices', 'Faces', 'VertConn', 'VertNormals', 'Curvature', 'SulciMap', 'Atlas', 'iAtlas', 'tess2mri_interp', 'Reg', 'History'])\n",
      "(306, 15002) (15002, 3) (29981, 3) 0 15001\n"
     ]
    }
   ],
   "source": [
    "import matplotlib.pyplot as plt\n",
    "from mpl_toolkits.mplot3d import Axes3D\n",
    "import numpy as np\n",
    "\n",
    "\n",
    "# scatter 3d\n",
    "# fig = plt.figure()\n",
    "# ax = fig.add_subplot(111, projection='3d')\n",
    "# ax.scatter(pos[:,0], pos[:,1], pos[:,2], s=1)\n"
   ]
  },
  {
   "cell_type": "markdown",
   "metadata": {},
   "source": [
    "# Create Source Esimtate Object"
   ]
  },
  {
   "cell_type": "code",
   "execution_count": 21,
   "metadata": {},
   "outputs": [
    {
     "ename": "ValueError",
     "evalue": "Neither input subject subject nor class subject attribute was a string",
     "output_type": "error",
     "traceback": [
      "\u001b[1;31m---------------------------------------------------------------------------\u001b[0m",
      "\u001b[1;31mValueError\u001b[0m                                Traceback (most recent call last)",
      "Cell \u001b[1;32mIn[21], line 9\u001b[0m\n\u001b[0;32m      7\u001b[0m vertices_list \u001b[38;5;241m=\u001b[39m [np\u001b[38;5;241m.\u001b[39marange(\u001b[38;5;241m0\u001b[39m, n_vertices\u001b[38;5;241m/\u001b[39m\u001b[38;5;241m2\u001b[39m), np\u001b[38;5;241m.\u001b[39marange(n_vertices\u001b[38;5;241m/\u001b[39m\u001b[38;5;241m2\u001b[39m, n_vertices)]\n\u001b[0;32m      8\u001b[0m stc \u001b[38;5;241m=\u001b[39m mne\u001b[38;5;241m.\u001b[39mSourceEstimate(data, vertices\u001b[38;5;241m=\u001b[39mvertices_list, tmin\u001b[38;5;241m=\u001b[39m\u001b[38;5;241m0\u001b[39m, tstep\u001b[38;5;241m=\u001b[39m\u001b[38;5;241m0.001\u001b[39m, subject\u001b[38;5;241m=\u001b[39m\u001b[38;5;28;01mNone\u001b[39;00m)\n\u001b[1;32m----> 9\u001b[0m \u001b[43mstc\u001b[49m\u001b[38;5;241;43m.\u001b[39;49m\u001b[43mplot\u001b[49m\u001b[43m(\u001b[49m\u001b[43mhemi\u001b[49m\u001b[38;5;241;43m=\u001b[39;49m\u001b[38;5;124;43m\"\u001b[39;49m\u001b[38;5;124;43mboth\u001b[39;49m\u001b[38;5;124;43m\"\u001b[39;49m\u001b[43m,\u001b[49m\u001b[43m \u001b[49m\u001b[43mverbose\u001b[49m\u001b[38;5;241;43m=\u001b[39;49m\u001b[38;5;241;43m0\u001b[39;49m\u001b[43m,\u001b[49m\u001b[43m \u001b[49m\u001b[43msurface\u001b[49m\u001b[38;5;241;43m=\u001b[39;49m\u001b[38;5;124;43m\"\u001b[39;49m\u001b[38;5;124;43minflated\u001b[39;49m\u001b[38;5;124;43m\"\u001b[39;49m\u001b[43m,\u001b[49m\u001b[43m \u001b[49m\u001b[43mcortex\u001b[49m\u001b[38;5;241;43m=\u001b[39;49m\u001b[38;5;124;43m\"\u001b[39;49m\u001b[38;5;124;43mlow_contrast\u001b[39;49m\u001b[38;5;124;43m\"\u001b[39;49m\u001b[43m)\u001b[49m\n",
      "File \u001b[1;32mc:\\Users\\lukas\\virtualenvs\\ssm\\lib\\site-packages\\mne\\source_estimate.py:743\u001b[0m, in \u001b[0;36m_BaseSourceEstimate.plot\u001b[1;34m(self, subject, surface, hemi, colormap, time_label, smoothing_steps, transparent, alpha, time_viewer, subjects_dir, figure, views, colorbar, clim, cortex, size, background, foreground, initial_time, time_unit, backend, spacing, title, show_traces, src, volume_options, view_layout, add_data_kwargs, brain_kwargs, verbose)\u001b[0m\n\u001b[0;32m    709\u001b[0m \u001b[38;5;129m@copy_function_doc_to_method_doc\u001b[39m(plot_source_estimates)\n\u001b[0;32m    710\u001b[0m \u001b[38;5;28;01mdef\u001b[39;00m \u001b[38;5;21mplot\u001b[39m(\n\u001b[0;32m    711\u001b[0m     \u001b[38;5;28mself\u001b[39m,\n\u001b[1;32m   (...)\u001b[0m\n\u001b[0;32m    741\u001b[0m     verbose\u001b[38;5;241m=\u001b[39m\u001b[38;5;28;01mNone\u001b[39;00m,\n\u001b[0;32m    742\u001b[0m ):\n\u001b[1;32m--> 743\u001b[0m     brain \u001b[38;5;241m=\u001b[39m \u001b[43mplot_source_estimates\u001b[49m\u001b[43m(\u001b[49m\n\u001b[0;32m    744\u001b[0m \u001b[43m        \u001b[49m\u001b[38;5;28;43mself\u001b[39;49m\u001b[43m,\u001b[49m\n\u001b[0;32m    745\u001b[0m \u001b[43m        \u001b[49m\u001b[43msubject\u001b[49m\u001b[43m,\u001b[49m\n\u001b[0;32m    746\u001b[0m \u001b[43m        \u001b[49m\u001b[43msurface\u001b[49m\u001b[38;5;241;43m=\u001b[39;49m\u001b[43msurface\u001b[49m\u001b[43m,\u001b[49m\n\u001b[0;32m    747\u001b[0m \u001b[43m        \u001b[49m\u001b[43mhemi\u001b[49m\u001b[38;5;241;43m=\u001b[39;49m\u001b[43mhemi\u001b[49m\u001b[43m,\u001b[49m\n\u001b[0;32m    748\u001b[0m \u001b[43m        \u001b[49m\u001b[43mcolormap\u001b[49m\u001b[38;5;241;43m=\u001b[39;49m\u001b[43mcolormap\u001b[49m\u001b[43m,\u001b[49m\n\u001b[0;32m    749\u001b[0m \u001b[43m        \u001b[49m\u001b[43mtime_label\u001b[49m\u001b[38;5;241;43m=\u001b[39;49m\u001b[43mtime_label\u001b[49m\u001b[43m,\u001b[49m\n\u001b[0;32m    750\u001b[0m \u001b[43m        \u001b[49m\u001b[43msmoothing_steps\u001b[49m\u001b[38;5;241;43m=\u001b[39;49m\u001b[43msmoothing_steps\u001b[49m\u001b[43m,\u001b[49m\n\u001b[0;32m    751\u001b[0m \u001b[43m        \u001b[49m\u001b[43mtransparent\u001b[49m\u001b[38;5;241;43m=\u001b[39;49m\u001b[43mtransparent\u001b[49m\u001b[43m,\u001b[49m\n\u001b[0;32m    752\u001b[0m \u001b[43m        \u001b[49m\u001b[43malpha\u001b[49m\u001b[38;5;241;43m=\u001b[39;49m\u001b[43malpha\u001b[49m\u001b[43m,\u001b[49m\n\u001b[0;32m    753\u001b[0m \u001b[43m        \u001b[49m\u001b[43mtime_viewer\u001b[49m\u001b[38;5;241;43m=\u001b[39;49m\u001b[43mtime_viewer\u001b[49m\u001b[43m,\u001b[49m\n\u001b[0;32m    754\u001b[0m \u001b[43m        \u001b[49m\u001b[43msubjects_dir\u001b[49m\u001b[38;5;241;43m=\u001b[39;49m\u001b[43msubjects_dir\u001b[49m\u001b[43m,\u001b[49m\n\u001b[0;32m    755\u001b[0m \u001b[43m        \u001b[49m\u001b[43mfigure\u001b[49m\u001b[38;5;241;43m=\u001b[39;49m\u001b[43mfigure\u001b[49m\u001b[43m,\u001b[49m\n\u001b[0;32m    756\u001b[0m \u001b[43m        \u001b[49m\u001b[43mviews\u001b[49m\u001b[38;5;241;43m=\u001b[39;49m\u001b[43mviews\u001b[49m\u001b[43m,\u001b[49m\n\u001b[0;32m    757\u001b[0m \u001b[43m        \u001b[49m\u001b[43mcolorbar\u001b[49m\u001b[38;5;241;43m=\u001b[39;49m\u001b[43mcolorbar\u001b[49m\u001b[43m,\u001b[49m\n\u001b[0;32m    758\u001b[0m \u001b[43m        \u001b[49m\u001b[43mclim\u001b[49m\u001b[38;5;241;43m=\u001b[39;49m\u001b[43mclim\u001b[49m\u001b[43m,\u001b[49m\n\u001b[0;32m    759\u001b[0m \u001b[43m        \u001b[49m\u001b[43mcortex\u001b[49m\u001b[38;5;241;43m=\u001b[39;49m\u001b[43mcortex\u001b[49m\u001b[43m,\u001b[49m\n\u001b[0;32m    760\u001b[0m \u001b[43m        \u001b[49m\u001b[43msize\u001b[49m\u001b[38;5;241;43m=\u001b[39;49m\u001b[43msize\u001b[49m\u001b[43m,\u001b[49m\n\u001b[0;32m    761\u001b[0m \u001b[43m        \u001b[49m\u001b[43mbackground\u001b[49m\u001b[38;5;241;43m=\u001b[39;49m\u001b[43mbackground\u001b[49m\u001b[43m,\u001b[49m\n\u001b[0;32m    762\u001b[0m \u001b[43m        \u001b[49m\u001b[43mforeground\u001b[49m\u001b[38;5;241;43m=\u001b[39;49m\u001b[43mforeground\u001b[49m\u001b[43m,\u001b[49m\n\u001b[0;32m    763\u001b[0m \u001b[43m        \u001b[49m\u001b[43minitial_time\u001b[49m\u001b[38;5;241;43m=\u001b[39;49m\u001b[43minitial_time\u001b[49m\u001b[43m,\u001b[49m\n\u001b[0;32m    764\u001b[0m \u001b[43m        \u001b[49m\u001b[43mtime_unit\u001b[49m\u001b[38;5;241;43m=\u001b[39;49m\u001b[43mtime_unit\u001b[49m\u001b[43m,\u001b[49m\n\u001b[0;32m    765\u001b[0m \u001b[43m        \u001b[49m\u001b[43mbackend\u001b[49m\u001b[38;5;241;43m=\u001b[39;49m\u001b[43mbackend\u001b[49m\u001b[43m,\u001b[49m\n\u001b[0;32m    766\u001b[0m \u001b[43m        \u001b[49m\u001b[43mspacing\u001b[49m\u001b[38;5;241;43m=\u001b[39;49m\u001b[43mspacing\u001b[49m\u001b[43m,\u001b[49m\n\u001b[0;32m    767\u001b[0m \u001b[43m        \u001b[49m\u001b[43mtitle\u001b[49m\u001b[38;5;241;43m=\u001b[39;49m\u001b[43mtitle\u001b[49m\u001b[43m,\u001b[49m\n\u001b[0;32m    768\u001b[0m \u001b[43m        \u001b[49m\u001b[43mshow_traces\u001b[49m\u001b[38;5;241;43m=\u001b[39;49m\u001b[43mshow_traces\u001b[49m\u001b[43m,\u001b[49m\n\u001b[0;32m    769\u001b[0m \u001b[43m        \u001b[49m\u001b[43msrc\u001b[49m\u001b[38;5;241;43m=\u001b[39;49m\u001b[43msrc\u001b[49m\u001b[43m,\u001b[49m\n\u001b[0;32m    770\u001b[0m \u001b[43m        \u001b[49m\u001b[43mvolume_options\u001b[49m\u001b[38;5;241;43m=\u001b[39;49m\u001b[43mvolume_options\u001b[49m\u001b[43m,\u001b[49m\n\u001b[0;32m    771\u001b[0m \u001b[43m        \u001b[49m\u001b[43mview_layout\u001b[49m\u001b[38;5;241;43m=\u001b[39;49m\u001b[43mview_layout\u001b[49m\u001b[43m,\u001b[49m\n\u001b[0;32m    772\u001b[0m \u001b[43m        \u001b[49m\u001b[43madd_data_kwargs\u001b[49m\u001b[38;5;241;43m=\u001b[39;49m\u001b[43madd_data_kwargs\u001b[49m\u001b[43m,\u001b[49m\n\u001b[0;32m    773\u001b[0m \u001b[43m        \u001b[49m\u001b[43mbrain_kwargs\u001b[49m\u001b[38;5;241;43m=\u001b[39;49m\u001b[43mbrain_kwargs\u001b[49m\u001b[43m,\u001b[49m\n\u001b[0;32m    774\u001b[0m \u001b[43m        \u001b[49m\u001b[43mverbose\u001b[49m\u001b[38;5;241;43m=\u001b[39;49m\u001b[43mverbose\u001b[49m\u001b[43m,\u001b[49m\n\u001b[0;32m    775\u001b[0m \u001b[43m    \u001b[49m\u001b[43m)\u001b[49m\n\u001b[0;32m    776\u001b[0m     \u001b[38;5;28;01mreturn\u001b[39;00m brain\n",
      "File \u001b[1;32m<decorator-gen-164>:10\u001b[0m, in \u001b[0;36mplot_source_estimates\u001b[1;34m(stc, subject, surface, hemi, colormap, time_label, smoothing_steps, transparent, alpha, time_viewer, subjects_dir, figure, views, colorbar, clim, cortex, size, background, foreground, initial_time, time_unit, backend, spacing, title, show_traces, src, volume_options, view_layout, add_data_kwargs, brain_kwargs, verbose)\u001b[0m\n",
      "File \u001b[1;32mc:\\Users\\lukas\\virtualenvs\\ssm\\lib\\site-packages\\mne\\viz\\_3d.py:2399\u001b[0m, in \u001b[0;36mplot_source_estimates\u001b[1;34m(stc, subject, surface, hemi, colormap, time_label, smoothing_steps, transparent, alpha, time_viewer, subjects_dir, figure, views, colorbar, clim, cortex, size, background, foreground, initial_time, time_unit, backend, spacing, title, show_traces, src, volume_options, view_layout, add_data_kwargs, brain_kwargs, verbose)\u001b[0m\n\u001b[0;32m   2397\u001b[0m _validate_type(stc, _BaseSourceEstimate, \u001b[38;5;124m\"\u001b[39m\u001b[38;5;124mstc\u001b[39m\u001b[38;5;124m\"\u001b[39m, \u001b[38;5;124m\"\u001b[39m\u001b[38;5;124msource estimate\u001b[39m\u001b[38;5;124m\"\u001b[39m)\n\u001b[0;32m   2398\u001b[0m subjects_dir \u001b[38;5;241m=\u001b[39m get_subjects_dir(subjects_dir\u001b[38;5;241m=\u001b[39msubjects_dir, raise_error\u001b[38;5;241m=\u001b[39m\u001b[38;5;28;01mTrue\u001b[39;00m)\n\u001b[1;32m-> 2399\u001b[0m subject \u001b[38;5;241m=\u001b[39m \u001b[43m_check_subject\u001b[49m\u001b[43m(\u001b[49m\u001b[43mstc\u001b[49m\u001b[38;5;241;43m.\u001b[39;49m\u001b[43msubject\u001b[49m\u001b[43m,\u001b[49m\u001b[43m \u001b[49m\u001b[43msubject\u001b[49m\u001b[43m)\u001b[49m\n\u001b[0;32m   2400\u001b[0m _check_option(\u001b[38;5;124m\"\u001b[39m\u001b[38;5;124mbackend\u001b[39m\u001b[38;5;124m\"\u001b[39m, backend, [\u001b[38;5;124m\"\u001b[39m\u001b[38;5;124mauto\u001b[39m\u001b[38;5;124m\"\u001b[39m, \u001b[38;5;124m\"\u001b[39m\u001b[38;5;124mmatplotlib\u001b[39m\u001b[38;5;124m\"\u001b[39m, \u001b[38;5;124m\"\u001b[39m\u001b[38;5;124mpyvistaqt\u001b[39m\u001b[38;5;124m\"\u001b[39m, \u001b[38;5;124m\"\u001b[39m\u001b[38;5;124mnotebook\u001b[39m\u001b[38;5;124m\"\u001b[39m])\n\u001b[0;32m   2401\u001b[0m plot_mpl \u001b[38;5;241m=\u001b[39m backend \u001b[38;5;241m==\u001b[39m \u001b[38;5;124m\"\u001b[39m\u001b[38;5;124mmatplotlib\u001b[39m\u001b[38;5;124m\"\u001b[39m\n",
      "File \u001b[1;32mc:\\Users\\lukas\\virtualenvs\\ssm\\lib\\site-packages\\mne\\utils\\check.py:289\u001b[0m, in \u001b[0;36m_check_subject\u001b[1;34m(first, second, raise_error, first_kind, second_kind)\u001b[0m\n\u001b[0;32m    287\u001b[0m     \u001b[38;5;28;01mreturn\u001b[39;00m first\n\u001b[0;32m    288\u001b[0m \u001b[38;5;28;01melif\u001b[39;00m raise_error \u001b[38;5;129;01mis\u001b[39;00m \u001b[38;5;28;01mTrue\u001b[39;00m:\n\u001b[1;32m--> 289\u001b[0m     \u001b[38;5;28;01mraise\u001b[39;00m \u001b[38;5;167;01mValueError\u001b[39;00m(\n\u001b[0;32m    290\u001b[0m         \u001b[38;5;124mf\u001b[39m\u001b[38;5;124m\"\u001b[39m\u001b[38;5;124mNeither \u001b[39m\u001b[38;5;132;01m{\u001b[39;00msecond_kind\u001b[38;5;132;01m}\u001b[39;00m\u001b[38;5;124m subject nor \u001b[39m\u001b[38;5;132;01m{\u001b[39;00mfirst_kind\u001b[38;5;132;01m}\u001b[39;00m\u001b[38;5;124m \u001b[39m\u001b[38;5;124m\"\u001b[39m \u001b[38;5;124m\"\u001b[39m\u001b[38;5;124mwas a string\u001b[39m\u001b[38;5;124m\"\u001b[39m\n\u001b[0;32m    291\u001b[0m     )\n\u001b[0;32m    292\u001b[0m \u001b[38;5;28;01mreturn\u001b[39;00m \u001b[38;5;28;01mNone\u001b[39;00m\n",
      "\u001b[1;31mValueError\u001b[0m: Neither input subject subject nor class subject attribute was a string"
     ]
    }
   ],
   "source": [
    "import mne\n",
    "n_channels, n_dipoles = leadfield.shape\n",
    "n_time = 10\n",
    "n_vertices = pos.shape[0]\n",
    "data = np.random.randn(n_dipoles, n_time)\n",
    "\n",
    "vertices_list = [np.arange(0, n_vertices/2), np.arange(n_vertices/2, n_vertices)]\n",
    "stc = mne.SourceEstimate(data, vertices=vertices_list, tmin=0, tstep=0.001, subject=None)\n",
    "stc.plot(hemi=\"both\", verbose=0, surface=\"inflated\", cortex=\"low_contrast\")"
   ]
  },
  {
   "cell_type": "markdown",
   "metadata": {},
   "source": [
    "# Plot Mesh"
   ]
  },
  {
   "cell_type": "code",
   "execution_count": 25,
   "metadata": {},
   "outputs": [],
   "source": [
    "%matplotlib qt\n",
    "import numpy as np\n",
    "import matplotlib.pyplot as plt\n",
    "from mpl_toolkits.mplot3d.art3d import Poly3DCollection\n",
    "\n",
    "# Assuming pos and indices are defined as described\n",
    "\n",
    "fig = plt.figure()\n",
    "ax = fig.add_subplot(111, projection='3d')\n",
    "\n",
    "# Create a list of the vertices for each triangle\n",
    "triangles = [pos[triangle] for triangle in indices]\n",
    "\n",
    "# Create a Poly3DCollection object\n",
    "mesh = Poly3DCollection(triangles, edgecolor='k')\n",
    "\n",
    "# Add the collection to the plot\n",
    "ax.add_collection3d(mesh)\n",
    "\n",
    "# Auto-scaling the axes\n",
    "ax.auto_scale_xyz(pos[:, 0], pos[:, 1], pos[:, 2])\n",
    "\n",
    "plt.show()\n"
   ]
  }
 ],
 "metadata": {
  "kernelspec": {
   "display_name": "ssm",
   "language": "python",
   "name": "python3"
  },
  "language_info": {
   "codemirror_mode": {
    "name": "ipython",
    "version": 3
   },
   "file_extension": ".py",
   "mimetype": "text/x-python",
   "name": "python",
   "nbconvert_exporter": "python",
   "pygments_lexer": "ipython3",
   "version": "3.8.10"
  }
 },
 "nbformat": 4,
 "nbformat_minor": 2
}
