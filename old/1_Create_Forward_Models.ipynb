{
 "cells": [
  {
   "cell_type": "code",
   "execution_count": 2,
   "metadata": {},
   "outputs": [],
   "source": [
    "import sys; sys.path.insert(0, '../../invert')\n",
    "from invert.forward import get_info, create_forward_model\n",
    "import mne\n",
    "import pickle as pkl\n",
    "import os\n",
    "\n",
    "os.makedirs(\"forward_models\", exist_ok=True)"
   ]
  },
  {
   "cell_type": "markdown",
   "metadata": {},
   "source": [
    "# Settings"
   ]
  },
  {
   "cell_type": "code",
   "execution_count": null,
   "metadata": {},
   "outputs": [],
   "source": [
    "sampling_coarse = \"ico4\"\n",
    "sampling_fine = \"oct6\"\n",
    "\n",
    "kind=\"biosemi128\"\n",
    "n_chans = 128\n",
    "\n",
    "info = get_info(kind=kind)  # contains the channel locations\n",
    "\n",
    "fn = f\"forward_models/{n_chans}_ch_info.pkl\"\n",
    "with open(fn, 'wb') as f:\n",
    "    pkl.dump(info, f)"
   ]
  },
  {
   "cell_type": "code",
   "execution_count": null,
   "metadata": {},
   "outputs": [],
   "source": [
    "subject = 'fsaverage'\n",
    "fs_dir = mne.datasets.fetch_fsaverage(verbose=0)\n",
    "subjects_dir = os.path.dirname(fs_dir)\n",
    "trans = os.path.join(fs_dir, 'bem', 'fsaverage-trans.fif')\n",
    "src = os.path.join(fs_dir, 'bem', 'fsaverage-ico-5-src.fif')\n",
    "bem = os.path.join(fs_dir, 'bem', 'fsaverage-5120-5120-5120-bem-sol.fif')\n",
    "verbose=0"
   ]
  },
  {
   "cell_type": "markdown",
   "metadata": {},
   "source": [
    "# Clean coarse Forward Model"
   ]
  },
  {
   "cell_type": "code",
   "execution_count": null,
   "metadata": {},
   "outputs": [],
   "source": [
    "ratio = 80\n",
    "conductivity = [0.33, 0.33/ratio, 0.33]\n",
    "\n",
    "ico = 4\n",
    "surfaces = mne.make_bem_model(subject, ico=ico, conductivity=conductivity)\n",
    "bem = mne.make_bem_solution(surfaces)\n",
    "\n",
    "src = mne.setup_source_space(subject, spacing=sampling_coarse, surface='white',\n",
    "                                        subjects_dir=subjects_dir, add_dist=False,\n",
    "                                        n_jobs=-1, verbose=verbose)\n",
    "fwd = mne.make_forward_solution(info, trans=trans, src=src,\n",
    "                                    bem=bem, eeg=True, meg=True, mindist=5.0, n_jobs=-1,\n",
    "                                    verbose=verbose)\n",
    "fwd = mne.convert_forward_solution(fwd, surf_ori=True, force_fixed=True,\n",
    "                                            use_cps=True, verbose=verbose)\n",
    "fname = f\"forward_models/{n_chans}_ch_coarse_{ratio}_ratio-fwd.fif\"\n",
    "mne.write_forward_solution(fname, fwd)"
   ]
  },
  {
   "cell_type": "markdown",
   "metadata": {},
   "source": [
    "# Clean fine Forward Model [0.33 0.0042 0.33] (1:80)"
   ]
  },
  {
   "cell_type": "code",
   "execution_count": null,
   "metadata": {},
   "outputs": [],
   "source": [
    "ratio = 80\n",
    "conductivity = [0.33, 0.33/ratio, 0.33]\n",
    "\n",
    "ico = 4\n",
    "surfaces = mne.make_bem_model(subject, ico=ico, conductivity=conductivity)\n",
    "bem = mne.make_bem_solution(surfaces)\n",
    "\n",
    "src = mne.setup_source_space(subject, spacing=sampling_fine, surface='white',\n",
    "                                        subjects_dir=subjects_dir, add_dist=False,\n",
    "                                        n_jobs=-1, verbose=verbose)\n",
    "fwd = mne.make_forward_solution(info, trans=trans, src=src,\n",
    "                                    bem=bem, eeg=True, meg=True, mindist=5.0, n_jobs=-1,\n",
    "                                    verbose=verbose)\n",
    "fwd = mne.convert_forward_solution(fwd, surf_ori=True, force_fixed=True,\n",
    "                                            use_cps=True, verbose=verbose)\n",
    "fname = f\"forward_models/{n_chans}_ch_fine_{ratio}_ratio-fwd.fif\"\n",
    "mne.write_forward_solution(fname, fwd)"
   ]
  },
  {
   "cell_type": "markdown",
   "metadata": {},
   "source": [
    "# Clean fine Forward Model [0.33, 0.0066, 0.33] (1:50)\n"
   ]
  },
  {
   "cell_type": "code",
   "execution_count": null,
   "metadata": {},
   "outputs": [],
   "source": [
    "ratio = 50\n",
    "conductivity = [0.33, 0.33/ratio, 0.33]\n",
    "\n",
    "ico = 4\n",
    "surfaces = mne.make_bem_model(subject, ico=ico, conductivity=conductivity)\n",
    "bem = mne.make_bem_solution(surfaces)\n",
    "\n",
    "src = mne.setup_source_space(subject, spacing=sampling_fine, surface='white',\n",
    "                                        subjects_dir=subjects_dir, add_dist=False,\n",
    "                                        n_jobs=-1, verbose=verbose)\n",
    "fwd = mne.make_forward_solution(info, trans=trans, src=src,\n",
    "                                    bem=bem, eeg=True, meg=True, mindist=5.0, n_jobs=-1,\n",
    "                                    verbose=verbose)\n",
    "fwd = mne.convert_forward_solution(fwd, surf_ori=True, force_fixed=True,\n",
    "                                            use_cps=True, verbose=verbose)\n",
    "fname = f\"forward_models/{n_chans}_ch_fine_{ratio}_ratio-fwd.fif\"\n",
    "mne.write_forward_solution(fname, fwd)"
   ]
  },
  {
   "cell_type": "markdown",
   "metadata": {},
   "source": [
    "# Clean fine Forward Model [0.332, 0.0165, 0.332] (1:20)\n"
   ]
  },
  {
   "cell_type": "code",
   "execution_count": null,
   "metadata": {},
   "outputs": [],
   "source": [
    "ratio = 20\n",
    "conductivity = [0.33, 0.33/ratio, 0.33]\n",
    "ico = 4\n",
    "surfaces = mne.make_bem_model(subject, ico=ico, conductivity=conductivity)\n",
    "bem = mne.make_bem_solution(surfaces)\n",
    "\n",
    "src = mne.setup_source_space(subject, spacing=sampling_fine, surface='white',\n",
    "                                        subjects_dir=subjects_dir, add_dist=False,\n",
    "                                        n_jobs=-1, verbose=verbose)\n",
    "fwd = mne.make_forward_solution(info, trans=trans, src=src,\n",
    "                                    bem=bem, eeg=True, meg=True, mindist=5.0, n_jobs=-1,\n",
    "                                    verbose=verbose)\n",
    "fwd = mne.convert_forward_solution(fwd, surf_ori=True, force_fixed=True,\n",
    "                                            use_cps=True, verbose=verbose)\n",
    "fname = f\"forward_models/{n_chans}_ch_fine_{ratio}_ratio-fwd.fif\"\n",
    "mne.write_forward_solution(fname, fwd)"
   ]
  },
  {
   "cell_type": "markdown",
   "metadata": {},
   "source": [
    "# MEG-type Errors"
   ]
  },
  {
   "cell_type": "markdown",
   "metadata": {},
   "source": [
    "## Translation Posterior"
   ]
  },
  {
   "cell_type": "code",
   "execution_count": null,
   "metadata": {},
   "outputs": [],
   "source": [
    "import numpy as np\n",
    "import matplotlib.pyplot as plt\n",
    "evokeds = []\n",
    "evoked = mne.EvokedArray(fwd[\"sol\"][\"data\"][:, 0][:, np.newaxis], info).set_eeg_reference()\n",
    "evokeds.append(evoked)\n",
    "direction = \"posterior\"\n",
    "translation_list = [1e-3, 2e-3]  # 1-2 mm in meters\n",
    "for translation in translation_list:\n",
    "    info_trans = info.copy()\n",
    "    for i in range(len(info_trans[\"chs\"])):\n",
    "        info_trans[\"chs\"][i][\"loc\"][1] -= translation \n",
    "\n",
    "    fwd = create_forward_model(sampling=sampling_fine, info=info_trans)\n",
    "    evoked = mne.EvokedArray(fwd[\"sol\"][\"data\"][:, 0][:, np.newaxis], info).set_eeg_reference()\n",
    "    evokeds.append(evoked)\n",
    "    fwd.comment = dict(sampling=sampling_fine, n_channels=n_chans, error_type=\"translation posterior\", error_magnitude=int(translation*1e3))\n",
    "    fn = f\"forward_models/{n_chans}_ch_info_translation-{int(translation*1e3)}mm-{direction}.pkl\"\n",
    "    with open(fn, 'wb') as f:\n",
    "        pkl.dump(info_trans, f)\n",
    "    \n",
    "    mne.write_forward_solution(f\"forward_models/{n_chans}_ch_{sampling_fine}-translation-{int(translation*1e3)}mm-{direction}-fwd.fif\", fwd, overwrite=True, verbose=0)"
   ]
  },
  {
   "cell_type": "code",
   "execution_count": null,
   "metadata": {},
   "outputs": [],
   "source": [
    "# info_trans = info.copy()\n",
    "montage1 = info.get_montage()\n",
    "montage1.plot()\n",
    "\n",
    "montage2 = info_trans.get_montage()\n",
    "montage2.plot()"
   ]
  },
  {
   "cell_type": "markdown",
   "metadata": {},
   "source": [
    "## Translation Dorsal"
   ]
  },
  {
   "cell_type": "code",
   "execution_count": null,
   "metadata": {},
   "outputs": [],
   "source": [
    "direction = \"dorsal\"\n",
    "translation_list = [1e-3, 2e-3]  # 1-2 mm in meters\n",
    "for translation in translation_list:\n",
    "    info_trans = info.copy()\n",
    "\n",
    "    for i in range(len(info_trans[\"chs\"])):\n",
    "        info_trans[\"chs\"][i][\"loc\"][2] += translation \n",
    "\n",
    "    fwd = create_forward_model(sampling=sampling_fine, info=info_trans)\n",
    "    fwd.comment = dict(sampling=sampling_fine, n_channels=n_chans, error_type=\"translation dorsal\", error_magnitude=int(translation*1e3))\n",
    "    fn = f\"forward_models/{n_chans}_ch_info_translation-{int(translation*1e3)}mm-{direction}.pkl\"\n",
    "    with open(fn, 'wb') as f:\n",
    "        pkl.dump(info_trans, f)\n",
    "    mne.write_forward_solution(f\"forward_models/{n_chans}_ch_{sampling_fine}-translation-{int(translation*1e3)}mm-{direction}-fwd.fif\", fwd, overwrite=True, verbose=0)"
   ]
  },
  {
   "cell_type": "code",
   "execution_count": null,
   "metadata": {},
   "outputs": [],
   "source": [
    "# info_trans = info.copy()\n",
    "montage1 = info.get_montage()\n",
    "montage1.plot()\n",
    "\n",
    "montage2 = info_trans.get_montage()\n",
    "montage2.plot()"
   ]
  },
  {
   "cell_type": "markdown",
   "metadata": {},
   "source": [
    "## Translation Right"
   ]
  },
  {
   "cell_type": "code",
   "execution_count": null,
   "metadata": {},
   "outputs": [],
   "source": [
    "translation_list = [1e-3, 2e-3]  # 1-2 mm in meters\n",
    "direction = \"right\"\n",
    "for translation in translation_list:\n",
    "    info_trans = info.copy()\n",
    "    for i in range(len(info_trans[\"chs\"])):\n",
    "        info_trans[\"chs\"][i][\"loc\"][0] += translation\n",
    "\n",
    "    fwd = create_forward_model(sampling=sampling_fine, info=info_trans)\n",
    "    fwd.comment = dict(sampling=sampling_fine, n_channels=n_chans, error_type=\"translation right\", error_magnitude=int(translation*1e3))\n",
    "    fn = f\"forward_models/{n_chans}_ch_info_translation-{int(translation*1e3)}mm-{direction}.pkl\"\n",
    "    with open(fn, 'wb') as f:\n",
    "        pkl.dump(info_trans, f)\n",
    "    mne.write_forward_solution(f\"forward_models/{n_chans}_ch_{sampling_fine}-translation-{int(translation*1e3)}mm-{direction}-fwd.fif\", fwd, overwrite=True, verbose=0)"
   ]
  },
  {
   "cell_type": "code",
   "execution_count": null,
   "metadata": {},
   "outputs": [],
   "source": [
    "# info_trans = info.copy()\n",
    "montage1 = info.get_montage()\n",
    "montage1.plot()\n",
    "\n",
    "montage2 = info_trans.get_montage()\n",
    "montage2.plot()"
   ]
  },
  {
   "cell_type": "markdown",
   "metadata": {},
   "source": [
    "## Rotation right"
   ]
  },
  {
   "cell_type": "code",
   "execution_count": null,
   "metadata": {},
   "outputs": [],
   "source": [
    "import numpy as np\n",
    "import math\n",
    "\n",
    "def rotate_coordinates(coords, axis, degree):\n",
    "    theta = math.radians(degree)  # Convert degrees to radians\n",
    "    \n",
    "    # Depending on the axis, define the rotation matrix\n",
    "    if axis == 'x':\n",
    "        rotation_matrix = np.array([\n",
    "            [1, 0, 0],\n",
    "            [0, np.cos(theta), -np.sin(theta)],\n",
    "            [0, np.sin(theta), np.cos(theta)]\n",
    "        ])\n",
    "    elif axis == 'y':\n",
    "        rotation_matrix = np.array([\n",
    "            [np.cos(theta), 0, np.sin(theta)],\n",
    "            [0, 1, 0],\n",
    "            [-np.sin(theta), 0, np.cos(theta)]\n",
    "        ])\n",
    "    elif axis == 'z':\n",
    "        rotation_matrix = np.array([\n",
    "            [np.cos(theta), -np.sin(theta), 0],\n",
    "            [np.sin(theta), np.cos(theta), 0],\n",
    "            [0, 0, 1]\n",
    "        ])\n",
    "    else:\n",
    "        raise ValueError(\"Invalid axis. Choose from 'x', 'y', or 'z'.\")\n",
    "    \n",
    "    # Rotate each coordinate\n",
    "    rotated_coords = [np.dot(rotation_matrix, np.array(coord).T).T for coord in coords]\n",
    "    return rotated_coords\n",
    "\n",
    "for i in range(len(info_trans[\"chs\"])):\n",
    "        info_trans[\"chs\"][i][\"loc\"][2] += translation\n",
    "degrees_list = [1, 2]\n",
    "direction = \"right\"\n",
    "for degrees in degrees_list:\n",
    "    # pos = np.stack([p[\"r\"] for p in info['dig']], axis=0)\n",
    "    pos = np.stack([p[\"loc\"][:3] for p in info[\"chs\"]], axis=0)\n",
    "    pos_rotated = rotate_coordinates(pos, 'y', degrees)\n",
    "    info_rotate = info.copy()\n",
    "    for i, new_coord in enumerate(pos_rotated):\n",
    "        info_rotate[\"chs\"][i][\"loc\"][:3] = new_coord \n",
    "\n",
    "    fwd = create_forward_model(sampling=sampling_fine, info=info_rotate)\n",
    "    fwd.comment = dict(sampling=sampling_fine, n_channels=n_chans, error_type=\"rotation right\", error_magnitude=int(degrees))\n",
    "    fn = f\"forward_models/{n_chans}_ch_info_rotation-{degrees}deg-{direction}.pkl\"\n",
    "    with open(fn, 'wb') as f:\n",
    "        pkl.dump(info_rotate, f)\n",
    "    mne.write_forward_solution(f\"forward_models/{n_chans}_ch_{sampling_fine}-rotation-{degrees}deg-{direction}-fwd.fif\", fwd, overwrite=True, verbose=0)"
   ]
  },
  {
   "cell_type": "code",
   "execution_count": null,
   "metadata": {},
   "outputs": [],
   "source": [
    "# info_trans = info.copy()\n",
    "montage1 = info.get_montage()\n",
    "montage1.plot()\n",
    "\n",
    "montage2 = info_rotate.get_montage()\n",
    "montage2.plot()"
   ]
  },
  {
   "cell_type": "markdown",
   "metadata": {},
   "source": [
    "## Rotation up"
   ]
  },
  {
   "cell_type": "code",
   "execution_count": null,
   "metadata": {},
   "outputs": [],
   "source": [
    "import numpy as np\n",
    "import math\n",
    "\n",
    "def rotate_coordinates(coords, axis, degree):\n",
    "    theta = math.radians(degree)  # Convert degrees to radians\n",
    "    \n",
    "    # Depending on the axis, define the rotation matrix\n",
    "    if axis == 'x':\n",
    "        rotation_matrix = np.array([\n",
    "            [1, 0, 0],\n",
    "            [0, np.cos(theta), -np.sin(theta)],\n",
    "            [0, np.sin(theta), np.cos(theta)]\n",
    "        ])\n",
    "    elif axis == 'y':\n",
    "        rotation_matrix = np.array([\n",
    "            [np.cos(theta), 0, np.sin(theta)],\n",
    "            [0, 1, 0],\n",
    "            [-np.sin(theta), 0, np.cos(theta)]\n",
    "        ])\n",
    "    elif axis == 'z':\n",
    "        rotation_matrix = np.array([\n",
    "            [np.cos(theta), -np.sin(theta), 0],\n",
    "            [np.sin(theta), np.cos(theta), 0],\n",
    "            [0, 0, 1]\n",
    "        ])\n",
    "    else:\n",
    "        raise ValueError(\"Invalid axis. Choose from 'x', 'y', or 'z'.\")\n",
    "    \n",
    "    # Rotate each coordinate\n",
    "    rotated_coords = [np.dot(rotation_matrix, np.array(coord).T).T for coord in coords]\n",
    "    return rotated_coords\n",
    "\n",
    "degrees_list = [1, 2]\n",
    "direction = \"up\"\n",
    "for degrees in degrees_list:\n",
    "    # pos = np.stack([p[\"r\"] for p in info['dig']], axis=0)\n",
    "    pos = np.stack([p[\"loc\"][:3] for p in info[\"chs\"]], axis=0)\n",
    "    pos_rotated = rotate_coordinates(pos, 'x', degrees)\n",
    "    info_rotate = info.copy()\n",
    "    for i, new_coord in enumerate(pos_rotated):\n",
    "        info_rotate[\"chs\"][i][\"loc\"][:3] = new_coord \n",
    "\n",
    "    fwd = create_forward_model(sampling=sampling_fine, info=info_rotate)\n",
    "    fwd.comment = dict(sampling=sampling_fine, n_channels=n_chans, error_type=\"rotation up\", error_magnitude=int(degrees))\n",
    "    fn = f\"forward_models/{n_chans}_ch_info_rotation-{degrees}deg-{direction}.pkl\"\n",
    "    with open(fn, 'wb') as f:\n",
    "        pkl.dump(info_rotate, f)\n",
    "    mne.write_forward_solution(f\"forward_models/{n_chans}_ch_{sampling_fine}-rotation-{degrees}deg-{direction}-fwd.fif\", fwd, overwrite=True, verbose=0)"
   ]
  },
  {
   "cell_type": "code",
   "execution_count": null,
   "metadata": {},
   "outputs": [],
   "source": [
    "# info_trans = info.copy()\n",
    "montage1 = info.get_montage()\n",
    "montage1.plot()\n",
    "\n",
    "montage2 = info_rotate.get_montage()\n",
    "montage2.plot()"
   ]
  },
  {
   "cell_type": "code",
   "execution_count": null,
   "metadata": {},
   "outputs": [],
   "source": []
  },
  {
   "cell_type": "markdown",
   "metadata": {},
   "source": [
    "# 256 Channels"
   ]
  },
  {
   "cell_type": "code",
   "execution_count": null,
   "metadata": {},
   "outputs": [],
   "source": [
    "kind=\"biosemi256\"\n",
    "n_chans = 256\n",
    "info256 = get_info(kind=kind)\n",
    "\n",
    "fwd = create_forward_model(sampling=sampling_fine, info=info256)\n",
    "fwd.comment = dict(sampling=sampling_fine, n_channels=n_chans, error_type=None, error_magnitude=0)\n",
    "fn = f\"forward_models/{n_chans}_ch_info.pkl\"\n",
    "with open(fn, 'wb') as f:\n",
    "    pkl.dump(info256, f)\n",
    "mne.write_forward_solution(f\"forward_models/{n_chans}_ch_{sampling_fine}-fwd.fif\", fwd, overwrite=True, verbose=0)\n",
    "fwd"
   ]
  },
  {
   "cell_type": "code",
   "execution_count": null,
   "metadata": {},
   "outputs": [],
   "source": []
  }
 ],
 "metadata": {
  "kernelspec": {
   "display_name": "invertenv",
   "language": "python",
   "name": "python3"
  },
  "language_info": {
   "codemirror_mode": {
    "name": "ipython",
    "version": 3
   },
   "file_extension": ".py",
   "mimetype": "text/x-python",
   "name": "python",
   "nbconvert_exporter": "python",
   "pygments_lexer": "ipython3",
   "version": "3.8.10"
  },
  "orig_nbformat": 4,
  "vscode": {
   "interpreter": {
    "hash": "dda1e5657e486f74a7b39841fb8103db2af51a77394f44c39a7821a371af47bd"
   }
  }
 },
 "nbformat": 4,
 "nbformat_minor": 2
}
