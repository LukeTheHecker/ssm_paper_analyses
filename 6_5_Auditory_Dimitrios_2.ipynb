{
 "cells": [
  {
   "cell_type": "code",
   "execution_count": 2,
   "metadata": {},
   "outputs": [],
   "source": [
    "%matplotlib qt\n",
    "%load_ext autoreload\n",
    "%autoreload 2\n",
    "import mne\n",
    "import os\n",
    "\n",
    "\n",
    "subjects_dir = \"C:/Users/lukas/mne_data\"\n",
    "subject = \"hari\"\n",
    "\n",
    "time_frames = {\n",
    "    \"early\": (0.089, 0.109),\n",
    "    \"late\": (0.109, 0.129),\n",
    "    \"full\": (0, 0.2)\n",
    "    # \"alternative\": (0.080, 0.150)\n",
    "}"
   ]
  },
  {
   "cell_type": "code",
   "execution_count": 3,
   "metadata": {},
   "outputs": [],
   "source": [
    "# mne.gui.coregistration(subjects_dir=subjects_dir, subject=subject, head_high_res=True)"
   ]
  },
  {
   "cell_type": "markdown",
   "metadata": {},
   "source": [
    "# Load Data"
   ]
  },
  {
   "cell_type": "code",
   "execution_count": 4,
   "metadata": {},
   "outputs": [
    {
     "name": "stderr",
     "output_type": "stream",
     "text": [
      "C:\\Users\\lukas\\AppData\\Local\\Temp\\ipykernel_4356\\944929098.py:2: RuntimeWarning: This filename (C:/Users/lukas/mne_data/hari/taskforce_1_bstem.fif) does not conform to MNE naming conventions. All raw files should end with raw.fif, raw_sss.fif, raw_tsss.fif, _meg.fif, _eeg.fif, _ieeg.fif, raw.fif.gz, raw_sss.fif.gz, raw_tsss.fif.gz, _meg.fif.gz, _eeg.fif.gz or _ieeg.fif.gz\n",
      "  raw = mne.io.read_raw_fif(path, verbose=0, preload=True)\n"
     ]
    }
   ],
   "source": [
    "path = f\"{subjects_dir}/{subject}/taskforce_1_bstem.fif\"\n",
    "raw = mne.io.read_raw_fif(path, verbose=0, preload=True)"
   ]
  },
  {
   "cell_type": "markdown",
   "metadata": {},
   "source": [
    "# Use ICA to remove eye and heart artifacts"
   ]
  },
  {
   "cell_type": "code",
   "execution_count": 5,
   "metadata": {},
   "outputs": [
    {
     "name": "stdout",
     "output_type": "stream",
     "text": [
      "Filtering raw data in 1 contiguous segment\n",
      "Setting up high-pass filter at 1 Hz\n",
      "\n",
      "FIR filter parameters\n",
      "---------------------\n",
      "Designing a one-pass, zero-phase, non-causal highpass filter:\n",
      "- Windowed time-domain design (firwin) method\n",
      "- Hamming window with 0.0194 passband ripple and 53 dB stopband attenuation\n",
      "- Lower passband edge: 1.00\n",
      "- Lower transition bandwidth: 1.00 Hz (-6 dB cutoff frequency: 0.50 Hz)\n",
      "- Filter length: 3301 samples (3.301 s)\n",
      "\n"
     ]
    },
    {
     "name": "stderr",
     "output_type": "stream",
     "text": [
      "[Parallel(n_jobs=1)]: Using backend SequentialBackend with 1 concurrent workers.\n",
      "[Parallel(n_jobs=1)]: Done   1 out of   1 | elapsed:    0.0s remaining:    0.0s\n",
      "[Parallel(n_jobs=1)]: Done   2 out of   2 | elapsed:    0.0s remaining:    0.0s\n",
      "[Parallel(n_jobs=1)]: Done   3 out of   3 | elapsed:    0.0s remaining:    0.0s\n",
      "[Parallel(n_jobs=1)]: Done   4 out of   4 | elapsed:    0.0s remaining:    0.0s\n",
      "[Parallel(n_jobs=1)]: Done 306 out of 306 | elapsed:    6.6s finished\n"
     ]
    },
    {
     "name": "stdout",
     "output_type": "stream",
     "text": [
      "Creating RawArray with float64 data, n_channels=15, n_times=759000\n",
      "    Range : 90000 ... 848999 =     90.000 ...   848.999 secs\n",
      "Ready.\n",
      "Using matplotlib as 2D backend.\n"
     ]
    }
   ],
   "source": [
    "import numpy as np\n",
    "from mne.preprocessing import ICA, create_eog_epochs\n",
    "\n",
    "raw_filt = raw.copy().filter(1.0, None, method=\"fir\", fir_design=\"firwin\")\n",
    "\n",
    "ica = ICA(n_components=15, max_iter=\"auto\", random_state=0, verbose=0)\n",
    "ica.fit(raw_filt, verbose=0)\n",
    "\n",
    "ica.plot_components(np.arange(15))\n",
    "ica.plot_sources(raw_filt)\n",
    "ica.exclude = [0,2,3]\n",
    "raw = ica.apply(raw, verbose=0)"
   ]
  },
  {
   "cell_type": "code",
   "execution_count": 6,
   "metadata": {},
   "outputs": [
    {
     "name": "stdout",
     "output_type": "stream",
     "text": [
      "346 events found on stim channel STI101\n",
      "Event IDs: [1 2]\n",
      "Not setting metadata\n",
      "346 matching events found\n",
      "Applying baseline correction (mode: mean)\n",
      "Created an SSP operator (subspace dimension = 4)\n",
      "4 projection items activated\n",
      "Using data from preloaded Raw for 346 events and 601 original time points ...\n",
      "    Rejecting  epoch based on MAG : ['MEG2641']\n",
      "    Rejecting  epoch based on MAG : ['MEG1531', 'MEG1541', 'MEG1711']\n",
      "    Rejecting  epoch based on MAG : ['MEG1221', 'MEG1321', 'MEG1331', 'MEG1431', 'MEG1441', 'MEG2421', 'MEG2521', 'MEG2611', 'MEG2621', 'MEG2631', 'MEG2641']\n",
      "3 bad epochs dropped\n"
     ]
    },
    {
     "name": "stderr",
     "output_type": "stream",
     "text": [
      "[Parallel(n_jobs=1)]: Using backend SequentialBackend with 1 concurrent workers.\n",
      "[Parallel(n_jobs=1)]: Done   1 out of   1 | elapsed:    0.0s remaining:    0.0s\n",
      "[Parallel(n_jobs=1)]: Done   2 out of   2 | elapsed:    0.0s remaining:    0.0s\n",
      "[Parallel(n_jobs=1)]: Done   3 out of   3 | elapsed:    0.0s remaining:    0.0s\n",
      "[Parallel(n_jobs=1)]: Done   4 out of   4 | elapsed:    0.0s remaining:    0.0s\n",
      "[Parallel(n_jobs=1)]: Done 305 out of 305 | elapsed:    6.0s finished\n",
      "[Parallel(n_jobs=1)]: Using backend SequentialBackend with 1 concurrent workers.\n",
      "[Parallel(n_jobs=1)]: Done   1 out of   1 | elapsed:    0.0s remaining:    0.0s\n",
      "[Parallel(n_jobs=1)]: Done   2 out of   2 | elapsed:    0.0s remaining:    0.0s\n",
      "[Parallel(n_jobs=1)]: Done   3 out of   3 | elapsed:    0.0s remaining:    0.0s\n",
      "[Parallel(n_jobs=1)]: Done   4 out of   4 | elapsed:    0.0s remaining:    0.0s\n",
      "[Parallel(n_jobs=1)]: Done 104615 out of 104615 | elapsed:   17.7s finished\n"
     ]
    },
    {
     "data": {
      "text/html": [
       "<table class=\"table table-hover table-striped table-sm table-responsive small\">\n",
       "    <tr>\n",
       "        <th>Number of events</th>\n",
       "        <td>343</td>\n",
       "    </tr>\n",
       "    <tr>\n",
       "        <th>Events</th>\n",
       "        \n",
       "        <td>auditory_1: 165<br/>auditory_2: 178</td>\n",
       "        \n",
       "    </tr>\n",
       "    <tr>\n",
       "        <th>Time range</th>\n",
       "        <td>-0.100 – 0.500 s</td>\n",
       "    </tr>\n",
       "    <tr>\n",
       "        <th>Baseline</th>\n",
       "        <td>-0.100 – 0.000 s</td>\n",
       "    </tr>\n",
       "</table>"
      ],
      "text/plain": [
       "<Epochs |  343 events (all good), -0.1 – 0.5 s, baseline -0.1 – 0 s, ~484.8 MB, data loaded,\n",
       " 'auditory_1': 165\n",
       " 'auditory_2': 178>"
      ]
     },
     "execution_count": 6,
     "metadata": {},
     "output_type": "execute_result"
    }
   ],
   "source": [
    "raw.info[\"bads\"].append(\"MEG2212\")\n",
    "picks = mne.pick_types(raw.info, meg=True, exclude=\"bads\")\n",
    "events = mne.find_events(raw, stim_channel=\"STI101\")\n",
    "mne.viz.plot_events(events, raw.info[\"sfreq\"])\n",
    "reject = dict(grad=3000e-13, mag=3e-12)\n",
    "event_ids = {\"auditory_1\": 1, \"auditory_2\": 2}\n",
    "tmin, tmax = -0.1, 0.5\n",
    "epochs = mne.Epochs(\n",
    "    raw,\n",
    "    events,\n",
    "    event_ids,\n",
    "    tmin,\n",
    "    tmax,\n",
    "    reject=reject,\n",
    "    picks=picks,\n",
    "    baseline=(tmin, 0),\n",
    "    preload=True\n",
    ")\n",
    "raw = raw.pick(picks)\n",
    "raw.filter(None, 30, method=\"fir\", fir_design=\"firwin\", verbose=0)\n",
    "epochs.filter(None, 30, method=\"fir\", fir_design=\"firwin\", verbose=0)"
   ]
  },
  {
   "cell_type": "code",
   "execution_count": 7,
   "metadata": {},
   "outputs": [
    {
     "name": "stdout",
     "output_type": "stream",
     "text": [
      "Projections have already been applied. Setting proj attribute to True.\n",
      "Removing projector <Projection | axial-10.0-200.0-PCA-01, active : True, n_channels : 102>\n",
      "Removing projector <Projection | axial-10.0-200.0-PCA-02, active : True, n_channels : 102>\n",
      "Removing projector <Projection | axial-10.0-200.0-PCA-03, active : True, n_channels : 102>\n",
      "Removing projector <Projection | axial-10.0-200.0-PCA-04, active : True, n_channels : 102>\n",
      "Projections have already been applied. Setting proj attribute to True.\n",
      "Removing projector <Projection | axial-10.0-200.0-PCA-01, active : True, n_channels : 102>\n",
      "Removing projector <Projection | axial-10.0-200.0-PCA-02, active : True, n_channels : 102>\n",
      "Removing projector <Projection | axial-10.0-200.0-PCA-03, active : True, n_channels : 102>\n",
      "Removing projector <Projection | axial-10.0-200.0-PCA-04, active : True, n_channels : 102>\n"
     ]
    },
    {
     "data": {
      "text/plain": [
       "[<Figure size 800x420 with 6 Axes>, <Figure size 800x420 with 6 Axes>]"
      ]
     },
     "execution_count": 7,
     "metadata": {},
     "output_type": "execute_result"
    }
   ],
   "source": [
    "epochs[\"auditory_1\"].average().plot_joint()\n",
    "epochs[\"auditory_2\"].average().plot_joint()"
   ]
  },
  {
   "cell_type": "markdown",
   "metadata": {},
   "source": [
    "# Load Forward Model"
   ]
  },
  {
   "cell_type": "code",
   "execution_count": 8,
   "metadata": {},
   "outputs": [
    {
     "name": "stderr",
     "output_type": "stream",
     "text": [
      "[Parallel(n_jobs=1)]: Using backend SequentialBackend with 1 concurrent workers.\n",
      "[Parallel(n_jobs=1)]: Done   1 out of   1 | elapsed:    2.6s remaining:    0.0s\n",
      "[Parallel(n_jobs=1)]: Done   1 out of   1 | elapsed:    2.6s finished\n",
      "[Parallel(n_jobs=1)]: Using backend SequentialBackend with 1 concurrent workers.\n",
      "[Parallel(n_jobs=1)]: Done   1 out of   1 | elapsed:    3.1s remaining:    0.0s\n",
      "[Parallel(n_jobs=1)]: Done   1 out of   1 | elapsed:    3.1s finished\n",
      "[Parallel(n_jobs=1)]: Using backend SequentialBackend with 1 concurrent workers.\n",
      "[Parallel(n_jobs=1)]: Done   1 out of   1 | elapsed:    0.2s remaining:    0.0s\n",
      "[Parallel(n_jobs=1)]: Done   1 out of   1 | elapsed:    0.2s finished\n",
      "[Parallel(n_jobs=1)]: Using backend SequentialBackend with 1 concurrent workers.\n",
      "[Parallel(n_jobs=1)]: Done   1 out of   1 | elapsed:    1.9s remaining:    0.0s\n",
      "[Parallel(n_jobs=1)]: Done   1 out of   1 | elapsed:    1.9s finished\n",
      "[Parallel(n_jobs=1)]: Using backend SequentialBackend with 1 concurrent workers.\n",
      "[Parallel(n_jobs=1)]: Done   1 out of   1 | elapsed:    1.7s remaining:    0.0s\n",
      "[Parallel(n_jobs=1)]: Done   1 out of   1 | elapsed:    1.7s finished\n",
      "[Parallel(n_jobs=1)]: Using backend SequentialBackend with 1 concurrent workers.\n",
      "[Parallel(n_jobs=1)]: Done   1 out of   1 | elapsed:    1.6s remaining:    0.0s\n",
      "[Parallel(n_jobs=1)]: Done   1 out of   1 | elapsed:    1.6s finished\n",
      "[Parallel(n_jobs=1)]: Using backend SequentialBackend with 1 concurrent workers.\n",
      "[Parallel(n_jobs=1)]: Done   1 out of   1 | elapsed:    1.6s remaining:    0.0s\n",
      "[Parallel(n_jobs=1)]: Done   1 out of   1 | elapsed:    1.6s finished\n",
      "[Parallel(n_jobs=1)]: Using backend SequentialBackend with 1 concurrent workers.\n",
      "[Parallel(n_jobs=1)]: Done   1 out of   1 | elapsed:    1.6s remaining:    0.0s\n",
      "[Parallel(n_jobs=1)]: Done   1 out of   1 | elapsed:    1.6s finished\n",
      "[Parallel(n_jobs=1)]: Using backend SequentialBackend with 1 concurrent workers.\n",
      "[Parallel(n_jobs=1)]: Done   1 out of   1 | elapsed:    1.5s remaining:    0.0s\n",
      "[Parallel(n_jobs=1)]: Done   1 out of   1 | elapsed:    1.5s finished\n",
      "[Parallel(n_jobs=1)]: Using backend SequentialBackend with 1 concurrent workers.\n",
      "[Parallel(n_jobs=1)]: Done   1 out of   1 | elapsed:    1.3s remaining:    0.0s\n",
      "[Parallel(n_jobs=1)]: Done   1 out of   1 | elapsed:    1.3s finished\n",
      "[Parallel(n_jobs=1)]: Using backend SequentialBackend with 1 concurrent workers.\n",
      "[Parallel(n_jobs=1)]: Done   1 out of   1 | elapsed:    1.3s remaining:    0.0s\n",
      "[Parallel(n_jobs=1)]: Done   1 out of   1 | elapsed:    1.3s finished\n",
      "[Parallel(n_jobs=1)]: Using backend SequentialBackend with 1 concurrent workers.\n",
      "[Parallel(n_jobs=1)]: Done   1 out of   1 | elapsed:    1.4s remaining:    0.0s\n",
      "[Parallel(n_jobs=1)]: Done   1 out of   1 | elapsed:    1.4s finished\n",
      "[Parallel(n_jobs=1)]: Using backend SequentialBackend with 1 concurrent workers.\n",
      "[Parallel(n_jobs=1)]: Done   1 out of   1 | elapsed:    0.3s remaining:    0.0s\n",
      "[Parallel(n_jobs=1)]: Done   1 out of   1 | elapsed:    0.3s finished\n",
      "[Parallel(n_jobs=1)]: Using backend SequentialBackend with 1 concurrent workers.\n",
      "[Parallel(n_jobs=1)]: Done   1 out of   1 | elapsed:    0.3s remaining:    0.0s\n",
      "[Parallel(n_jobs=1)]: Done   1 out of   1 | elapsed:    0.3s finished\n",
      "[Parallel(n_jobs=1)]: Using backend SequentialBackend with 1 concurrent workers.\n",
      "[Parallel(n_jobs=1)]: Done   1 out of   1 | elapsed:    0.3s remaining:    0.0s\n",
      "[Parallel(n_jobs=1)]: Done   1 out of   1 | elapsed:    0.3s finished\n",
      "[Parallel(n_jobs=1)]: Using backend SequentialBackend with 1 concurrent workers.\n",
      "[Parallel(n_jobs=1)]: Done   1 out of   1 | elapsed:    4.0s remaining:    0.0s\n",
      "[Parallel(n_jobs=1)]: Done   1 out of   1 | elapsed:    4.0s finished\n"
     ]
    }
   ],
   "source": [
    "sampling = \"oct6\"\n",
    "trans_fname = os.path.join(subjects_dir, subject, \"hari_fit-trans.fif\")\n",
    "# trans_fname = os.path.join(subjects_dir, subject, \"hari_fit_manual-trans.fif\")\n",
    "bem_fname = os.path.join(subjects_dir, subject, \"bem\", \"RON026_AKCLEE-5120-5120-5120-bem-sol.fif\")\n",
    "# bem_fname = os.path.join(subjects_dir, subject, \"bem\", \"RON026_AKCLEE-5120-bem-sol.fif\")\n",
    "\n",
    "src = mne.setup_source_space(subject, spacing=sampling, surface='white',\n",
    "                                        subjects_dir=subjects_dir, add_dist=False,\n",
    "                                        n_jobs=-1, verbose=0)\n",
    "\n",
    "fwd = mne.make_forward_solution(epochs.info, trans_fname, src, bem_fname, verbose=0)\n",
    "fwd = mne.convert_forward_solution(fwd, surf_ori=True, force_fixed=True,\n",
    "                                            use_cps=True, verbose=0)\n",
    "\n",
    "n_chans, n_dipoles = fwd[\"sol\"][\"data\"].shape"
   ]
  },
  {
   "cell_type": "markdown",
   "metadata": {},
   "source": [
    "# Define Solvers"
   ]
  },
  {
   "cell_type": "code",
   "execution_count": 9,
   "metadata": {},
   "outputs": [
    {
     "name": "stderr",
     "output_type": "stream",
     "text": [
      "C:\\Users\\lukas\\AppData\\Local\\Temp\\ipykernel_4356\\1252984825.py:18: RuntimeWarning: 0.0% of original source space vertices have been omitted, tri-based adjacency will have holes.\n",
      "Consider using distance-based adjacency or morphing data to all source space vertices.\n",
      "  adjacency = mne.spatial_src_adjacency(src, verbose=0).toarray()\n"
     ]
    }
   ],
   "source": [
    "%matplotlib qt\n",
    "import sys; sys.path.insert(0, r'../../invert')\n",
    "from invert import Solver\n",
    "from invert.evaluate import eval_mean_localization_error\n",
    "from scipy.stats import pearsonr\n",
    "from scipy.spatial.distance import cdist\n",
    "from funs import get_mirrored_stc\n",
    "\n",
    "prep_leadfield = False\n",
    "n_orders = 0\n",
    "diffusion_parameter = 0.1\n",
    "max_iter = 5\n",
    "stop_crit = 0\n",
    "n_sources = 2\n",
    "n_reg_params = 1\n",
    "\n",
    "src = fwd[\"src\"]\n",
    "adjacency = mne.spatial_src_adjacency(src, verbose=0).toarray()\n",
    "\n",
    "# get position of vertices (only the onew that are used)\n",
    "pos_left = mne.vertex_to_mni(src[0][\"vertno\"], 0, subject=subject, subjects_dir=subjects_dir, verbose=0)\n",
    "pos_right = mne.vertex_to_mni(src[1][\"vertno\"], 1, subject=subject, subjects_dir=subjects_dir, verbose=0)\n",
    "pos = np.concatenate([pos_left, pos_right], axis=0)\n",
    "\n",
    "# distance_matrix = cdist(pos, pos)\n",
    "\n",
    "solver_dicts = [\n",
    "    {\n",
    "        \"make_args\": dict(n=n_sources, k=n_sources, n_orders=n_orders, stop_crit=stop_crit, max_iter=max_iter, diffusion_parameter=diffusion_parameter),\n",
    "        \"solver_name\": \"RAP-MUSIC\",\n",
    "        \"display_name\": f\"RAP-MUSIC\",\n",
    "        \"prep_leadfield\": prep_leadfield,\n",
    "        \"clim\": {\"kind\": \"value\", \"lims\": [0., 0., 1]},\n",
    "    },\n",
    "    # {\n",
    "    #     \"make_args\": dict(n=n_sources, k=n_sources, n_orders=n_orders, stop_crit=stop_crit, max_iter=max_iter, diffusion_parameter=diffusion_parameter),\n",
    "    #     \"solver_name\": \"RAP-MUSIC\",\n",
    "    #     \"display_name\": f\"FLEX-RAP-MUSIC\",\n",
    "    #     \"prep_leadfield\": prep_leadfield,\n",
    "    #     \"clim\": {\"kind\": \"value\", \"lims\": [0., 0., 1]},\n",
    "    # },\n",
    "    {\n",
    "        \"make_args\": dict(n=n_sources, k=n_sources, n_orders=n_orders, stop_crit=stop_crit, max_iter=max_iter, diffusion_parameter=diffusion_parameter),\n",
    "        \"solver_name\": \"AP\",\n",
    "        \"display_name\": f\"AP\",\n",
    "        \"prep_leadfield\": prep_leadfield,\n",
    "        \"clim\": {\"kind\": \"value\", \"lims\": [0., 0., 1]},\n",
    "    },\n",
    "    # {\n",
    "    #     \"make_args\": dict(n=n_sources, k=n_sources, n_orders=n_orders, stop_crit=stop_crit, max_iter=max_iter, diffusion_parameter=diffusion_parameter),\n",
    "    #     \"solver_name\": \"FLEX-AP\",\n",
    "    #     \"display_name\": f\"FLEX-AP\",\n",
    "    #     \"prep_leadfield\": prep_leadfield,\n",
    "    #     \"clim\": {\"kind\": \"value\", \"lims\": [0., 0., 1]},\n",
    "    # },\n",
    "    # {\n",
    "    #     \"make_args\": dict(n=n_sources, k=n_sources, n_orders=n_orders, stop_crit=stop_crit, max_iter=max_iter, diffusion_parameter=diffusion_parameter),\n",
    "    #     \"solver_name\": \"SSM\",\n",
    "    #     \"display_name\": f\"FLEX-SSM\",\n",
    "    #     \"prep_leadfield\": prep_leadfield,\n",
    "    #     \"clim\": {\"kind\": \"value\", \"lims\": [0., 0., 1]},\n",
    "    # },\n",
    "    {\n",
    "        \"make_args\": dict(n=n_sources, k=n_sources, n_orders=n_orders, stop_crit=stop_crit, max_iter=5, diffusion_parameter=diffusion_parameter),\n",
    "        \"solver_name\": \"SSM\",\n",
    "        \"display_name\": f\"SSM\",\n",
    "        \"prep_leadfield\": prep_leadfield,\n",
    "        \"clim\": {\"kind\": \"value\", \"lims\": [0., 0., 1]},\n",
    "    },\n",
    "    # {\n",
    "    #     \"make_args\": dict(max_iter=200),\n",
    "    #     \"solver_name\": \"champagne-nl\",\n",
    "    #     \"display_name\": f\"Champagne-NL\",\n",
    "    #     \"prep_leadfield\": True,\n",
    "    #     \"clim\": {\"kind\": \"value\", \"lims\": [0., 0., 1]},\n",
    "    # },\n",
    "    # {\n",
    "    #     \"make_args\": dict(max_iter=1000),\n",
    "    #     \"solver_name\": \"convexity champagne\",\n",
    "    #     \"display_name\": f\"Convexity Champagne\",\n",
    "    #     \"prep_leadfield\": True,\n",
    "    #     \"clim\": {\"kind\": \"value\", \"lims\": [0., 0., 1]},\n",
    "    # }\n",
    "]"
   ]
  },
  {
   "cell_type": "code",
   "execution_count": 10,
   "metadata": {},
   "outputs": [
    {
     "name": "stdout",
     "output_type": "stream",
     "text": [
      "early\n",
      "NOTE: pick_channels() is a legacy function. New code should use inst.pick(...).\n",
      "Forward channels: 305\n",
      "Epochs channels: 305\n"
     ]
    },
    {
     "name": "stderr",
     "output_type": "stream",
     "text": [
      "c:\\Users\\lukas\\OneDrive\\Dokumente\\projects\\flex_ssm\\ssm_paper_analysis\\funs.py:345: FutureWarning: The default for pick_channels will change from ordered=False to ordered=True in 1.5 and this will result in a change of behavior because the resulting channel order will not match. Either use a channel order that matches your instance or pass ordered=False.\n",
      "  epochs = epochs.pick_channels(common_ch_names)\n"
     ]
    },
    {
     "name": "stdout",
     "output_type": "stream",
     "text": [
      "NOTE: pick_types() is a legacy function. New code should use inst.pick(...).\n",
      "Removing projector <Projection | axial-10.0-200.0-PCA-01, active : True, n_channels : 102>\n",
      "Removing projector <Projection | axial-10.0-200.0-PCA-02, active : True, n_channels : 102>\n",
      "Removing projector <Projection | axial-10.0-200.0-PCA-03, active : True, n_channels : 102>\n",
      "Removing projector <Projection | axial-10.0-200.0-PCA-04, active : True, n_channels : 102>\n",
      "channels:  grad 203\n",
      "NOTE: pick_channels() is a legacy function. New code should use inst.pick(...).\n",
      "Removing projector <Projection | axial-10.0-200.0-PCA-01, active : True, n_channels : 102>\n",
      "Removing projector <Projection | axial-10.0-200.0-PCA-02, active : True, n_channels : 102>\n",
      "Removing projector <Projection | axial-10.0-200.0-PCA-03, active : True, n_channels : 102>\n",
      "Removing projector <Projection | axial-10.0-200.0-PCA-04, active : True, n_channels : 102>\n",
      "NOTE: pick_types() is a legacy function. New code should use inst.pick(...).\n",
      "channels:  mag 102\n",
      "NOTE: pick_channels() is a legacy function. New code should use inst.pick(...).\n",
      "\t RAP-MUSIC\n",
      "NOTE: pick_types() is a legacy function. New code should use inst.pick(...).\n",
      "NOTE: pick_channels() is a legacy function. New code should use inst.pick(...).\n"
     ]
    },
    {
     "name": "stderr",
     "output_type": "stream",
     "text": [
      "c:\\Users\\lukas\\OneDrive\\Dokumente\\projects\\flex_ssm\\ssm_paper_analysis\\../../invert\\invert\\solvers\\music.py:444: RuntimeWarning: 0.0% of original source space vertices have been omitted, tri-based adjacency will have holes.\n",
      "Consider using distance-based adjacency or morphing data to all source space vertices.\n",
      "  adjacency = mne.spatial_src_adjacency(self.forward['src'], verbose=0)\n"
     ]
    },
    {
     "name": "stdout",
     "output_type": "stream",
     "text": [
      "Source Iteration  0\n",
      "Source Iteration  1\n",
      "[[0, 1939], [0, 6187]]\n",
      "NOTE: pick_types() is a legacy function. New code should use inst.pick(...).\n",
      "NOTE: pick_channels() is a legacy function. New code should use inst.pick(...).\n",
      "NOTE: pick_types() is a legacy function. New code should use inst.pick(...).\n",
      "NOTE: pick_channels() is a legacy function. New code should use inst.pick(...).\n",
      "Source Iteration  0\n",
      "Source Iteration  1\n",
      "[[0, 1970], [0, 1849]]\n",
      "NOTE: pick_types() is a legacy function. New code should use inst.pick(...).\n",
      "NOTE: pick_channels() is a legacy function. New code should use inst.pick(...).\n",
      "\t\tMore sources!\n",
      "NOTE: pick_types() is a legacy function. New code should use inst.pick(...).\n",
      "NOTE: pick_channels() is a legacy function. New code should use inst.pick(...).\n",
      "Source Iteration  0\n",
      "Source Iteration  1\n",
      "Source Iteration  2\n",
      "[[0, 1970], [0, 1849], [0, 5934]]\n",
      "NOTE: pick_types() is a legacy function. New code should use inst.pick(...).\n",
      "NOTE: pick_channels() is a legacy function. New code should use inst.pick(...).\n",
      "\t AP\n",
      "NOTE: pick_types() is a legacy function. New code should use inst.pick(...).\n",
      "NOTE: pick_channels() is a legacy function. New code should use inst.pick(...).\n"
     ]
    },
    {
     "name": "stderr",
     "output_type": "stream",
     "text": [
      "c:\\Users\\lukas\\OneDrive\\Dokumente\\projects\\flex_ssm\\ssm_paper_analysis\\../../invert\\invert\\solvers\\music.py:807: RuntimeWarning: 0.0% of original source space vertices have been omitted, tri-based adjacency will have holes.\n",
      "Consider using distance-based adjacency or morphing data to all source space vertices.\n",
      "  adjacency = mne.spatial_src_adjacency(self.forward['src'], verbose=0)\n"
     ]
    },
    {
     "name": "stdout",
     "output_type": "stream",
     "text": [
      "NOTE: pick_types() is a legacy function. New code should use inst.pick(...).\n",
      "NOTE: pick_channels() is a legacy function. New code should use inst.pick(...).\n",
      "NOTE: pick_types() is a legacy function. New code should use inst.pick(...).\n",
      "NOTE: pick_channels() is a legacy function. New code should use inst.pick(...).\n",
      "NOTE: pick_types() is a legacy function. New code should use inst.pick(...).\n",
      "NOTE: pick_channels() is a legacy function. New code should use inst.pick(...).\n",
      "\t SSM\n",
      "NOTE: pick_types() is a legacy function. New code should use inst.pick(...).\n",
      "NOTE: pick_channels() is a legacy function. New code should use inst.pick(...).\n"
     ]
    },
    {
     "name": "stderr",
     "output_type": "stream",
     "text": [
      "c:\\Users\\lukas\\OneDrive\\Dokumente\\projects\\flex_ssm\\ssm_paper_analysis\\../../invert\\invert\\solvers\\music.py:1123: RuntimeWarning: 0.0% of original source space vertices have been omitted, tri-based adjacency will have holes.\n",
      "Consider using distance-based adjacency or morphing data to all source space vertices.\n",
      "  adjacency = mne.spatial_src_adjacency(self.forward['src'], verbose=0)\n"
     ]
    },
    {
     "name": "stdout",
     "output_type": "stream",
     "text": [
      "NOTE: pick_types() is a legacy function. New code should use inst.pick(...).\n",
      "NOTE: pick_channels() is a legacy function. New code should use inst.pick(...).\n",
      "NOTE: pick_types() is a legacy function. New code should use inst.pick(...).\n",
      "NOTE: pick_channels() is a legacy function. New code should use inst.pick(...).\n",
      "NOTE: pick_types() is a legacy function. New code should use inst.pick(...).\n",
      "NOTE: pick_channels() is a legacy function. New code should use inst.pick(...).\n",
      "\t\tMore sources!\n",
      "NOTE: pick_types() is a legacy function. New code should use inst.pick(...).\n",
      "NOTE: pick_channels() is a legacy function. New code should use inst.pick(...).\n",
      "NOTE: pick_types() is a legacy function. New code should use inst.pick(...).\n",
      "NOTE: pick_channels() is a legacy function. New code should use inst.pick(...).\n",
      "late\n",
      "NOTE: pick_channels() is a legacy function. New code should use inst.pick(...).\n",
      "Forward channels: 305\n",
      "Epochs channels: 305\n"
     ]
    },
    {
     "name": "stderr",
     "output_type": "stream",
     "text": [
      "c:\\Users\\lukas\\OneDrive\\Dokumente\\projects\\flex_ssm\\ssm_paper_analysis\\funs.py:345: FutureWarning: The default for pick_channels will change from ordered=False to ordered=True in 1.5 and this will result in a change of behavior because the resulting channel order will not match. Either use a channel order that matches your instance or pass ordered=False.\n",
      "  epochs = epochs.pick_channels(common_ch_names)\n"
     ]
    },
    {
     "name": "stdout",
     "output_type": "stream",
     "text": [
      "NOTE: pick_types() is a legacy function. New code should use inst.pick(...).\n",
      "Removing projector <Projection | axial-10.0-200.0-PCA-01, active : True, n_channels : 102>\n",
      "Removing projector <Projection | axial-10.0-200.0-PCA-02, active : True, n_channels : 102>\n",
      "Removing projector <Projection | axial-10.0-200.0-PCA-03, active : True, n_channels : 102>\n",
      "Removing projector <Projection | axial-10.0-200.0-PCA-04, active : True, n_channels : 102>\n",
      "channels:  grad 203\n",
      "NOTE: pick_channels() is a legacy function. New code should use inst.pick(...).\n",
      "Removing projector <Projection | axial-10.0-200.0-PCA-01, active : True, n_channels : 102>\n",
      "Removing projector <Projection | axial-10.0-200.0-PCA-02, active : True, n_channels : 102>\n",
      "Removing projector <Projection | axial-10.0-200.0-PCA-03, active : True, n_channels : 102>\n",
      "Removing projector <Projection | axial-10.0-200.0-PCA-04, active : True, n_channels : 102>\n",
      "NOTE: pick_types() is a legacy function. New code should use inst.pick(...).\n",
      "channels:  mag 102\n",
      "NOTE: pick_channels() is a legacy function. New code should use inst.pick(...).\n",
      "\t RAP-MUSIC\n",
      "NOTE: pick_types() is a legacy function. New code should use inst.pick(...).\n",
      "NOTE: pick_channels() is a legacy function. New code should use inst.pick(...).\n",
      "Source Iteration  0\n",
      "Source Iteration  1\n",
      "Source Iteration  2\n",
      "[[0, 1768], [0, 6187], [0, 1267]]\n",
      "NOTE: pick_types() is a legacy function. New code should use inst.pick(...).\n",
      "NOTE: pick_channels() is a legacy function. New code should use inst.pick(...).\n",
      "NOTE: pick_types() is a legacy function. New code should use inst.pick(...).\n",
      "NOTE: pick_channels() is a legacy function. New code should use inst.pick(...).\n",
      "Source Iteration  0\n",
      "Source Iteration  1\n",
      "Source Iteration  2\n",
      "[[0, 1849], [0, 1701], [0, 5853]]\n",
      "NOTE: pick_types() is a legacy function. New code should use inst.pick(...).\n",
      "NOTE: pick_channels() is a legacy function. New code should use inst.pick(...).\n",
      "\t AP\n",
      "NOTE: pick_types() is a legacy function. New code should use inst.pick(...).\n",
      "NOTE: pick_channels() is a legacy function. New code should use inst.pick(...).\n",
      "NOTE: pick_types() is a legacy function. New code should use inst.pick(...).\n",
      "NOTE: pick_channels() is a legacy function. New code should use inst.pick(...).\n",
      "NOTE: pick_types() is a legacy function. New code should use inst.pick(...).\n",
      "NOTE: pick_channels() is a legacy function. New code should use inst.pick(...).\n",
      "NOTE: pick_types() is a legacy function. New code should use inst.pick(...).\n",
      "NOTE: pick_channels() is a legacy function. New code should use inst.pick(...).\n",
      "\t SSM\n",
      "NOTE: pick_types() is a legacy function. New code should use inst.pick(...).\n",
      "NOTE: pick_channels() is a legacy function. New code should use inst.pick(...).\n",
      "NOTE: pick_types() is a legacy function. New code should use inst.pick(...).\n",
      "NOTE: pick_channels() is a legacy function. New code should use inst.pick(...).\n",
      "NOTE: pick_types() is a legacy function. New code should use inst.pick(...).\n",
      "NOTE: pick_channels() is a legacy function. New code should use inst.pick(...).\n",
      "NOTE: pick_types() is a legacy function. New code should use inst.pick(...).\n",
      "NOTE: pick_channels() is a legacy function. New code should use inst.pick(...).\n",
      "full\n",
      "NOTE: pick_channels() is a legacy function. New code should use inst.pick(...).\n",
      "Forward channels: 305\n",
      "Epochs channels: 305\n"
     ]
    },
    {
     "name": "stderr",
     "output_type": "stream",
     "text": [
      "c:\\Users\\lukas\\OneDrive\\Dokumente\\projects\\flex_ssm\\ssm_paper_analysis\\funs.py:345: FutureWarning: The default for pick_channels will change from ordered=False to ordered=True in 1.5 and this will result in a change of behavior because the resulting channel order will not match. Either use a channel order that matches your instance or pass ordered=False.\n",
      "  epochs = epochs.pick_channels(common_ch_names)\n"
     ]
    },
    {
     "name": "stdout",
     "output_type": "stream",
     "text": [
      "NOTE: pick_types() is a legacy function. New code should use inst.pick(...).\n",
      "Removing projector <Projection | axial-10.0-200.0-PCA-01, active : True, n_channels : 102>\n",
      "Removing projector <Projection | axial-10.0-200.0-PCA-02, active : True, n_channels : 102>\n",
      "Removing projector <Projection | axial-10.0-200.0-PCA-03, active : True, n_channels : 102>\n",
      "Removing projector <Projection | axial-10.0-200.0-PCA-04, active : True, n_channels : 102>\n",
      "channels:  grad 203\n",
      "NOTE: pick_channels() is a legacy function. New code should use inst.pick(...).\n",
      "Removing projector <Projection | axial-10.0-200.0-PCA-01, active : True, n_channels : 102>\n",
      "Removing projector <Projection | axial-10.0-200.0-PCA-02, active : True, n_channels : 102>\n",
      "Removing projector <Projection | axial-10.0-200.0-PCA-03, active : True, n_channels : 102>\n",
      "Removing projector <Projection | axial-10.0-200.0-PCA-04, active : True, n_channels : 102>\n",
      "NOTE: pick_types() is a legacy function. New code should use inst.pick(...).\n",
      "channels:  mag 102\n",
      "NOTE: pick_channels() is a legacy function. New code should use inst.pick(...).\n",
      "\t RAP-MUSIC\n",
      "NOTE: pick_types() is a legacy function. New code should use inst.pick(...).\n",
      "NOTE: pick_channels() is a legacy function. New code should use inst.pick(...).\n",
      "Source Iteration  0\n",
      "Source Iteration  1\n",
      "Source Iteration  2\n",
      "[[0, 1729], [0, 1939], [0, 6311]]\n",
      "NOTE: pick_types() is a legacy function. New code should use inst.pick(...).\n",
      "NOTE: pick_channels() is a legacy function. New code should use inst.pick(...).\n",
      "NOTE: pick_types() is a legacy function. New code should use inst.pick(...).\n",
      "NOTE: pick_channels() is a legacy function. New code should use inst.pick(...).\n",
      "Source Iteration  0\n",
      "Source Iteration  1\n",
      "Source Iteration  2\n",
      "[[0, 1701], [0, 1849], [0, 5855]]\n",
      "NOTE: pick_types() is a legacy function. New code should use inst.pick(...).\n",
      "NOTE: pick_channels() is a legacy function. New code should use inst.pick(...).\n",
      "\t AP\n",
      "NOTE: pick_types() is a legacy function. New code should use inst.pick(...).\n",
      "NOTE: pick_channels() is a legacy function. New code should use inst.pick(...).\n",
      "NOTE: pick_types() is a legacy function. New code should use inst.pick(...).\n",
      "NOTE: pick_channels() is a legacy function. New code should use inst.pick(...).\n",
      "NOTE: pick_types() is a legacy function. New code should use inst.pick(...).\n",
      "NOTE: pick_channels() is a legacy function. New code should use inst.pick(...).\n",
      "NOTE: pick_types() is a legacy function. New code should use inst.pick(...).\n",
      "NOTE: pick_channels() is a legacy function. New code should use inst.pick(...).\n",
      "\t SSM\n",
      "NOTE: pick_types() is a legacy function. New code should use inst.pick(...).\n",
      "NOTE: pick_channels() is a legacy function. New code should use inst.pick(...).\n",
      "NOTE: pick_types() is a legacy function. New code should use inst.pick(...).\n",
      "NOTE: pick_channels() is a legacy function. New code should use inst.pick(...).\n",
      "NOTE: pick_types() is a legacy function. New code should use inst.pick(...).\n",
      "NOTE: pick_channels() is a legacy function. New code should use inst.pick(...).\n",
      "NOTE: pick_types() is a legacy function. New code should use inst.pick(...).\n",
      "NOTE: pick_channels() is a legacy function. New code should use inst.pick(...).\n"
     ]
    }
   ],
   "source": [
    "%matplotlib qt\n",
    "from tqdm.notebook import tqdm\n",
    "from statsmodels.graphics.gofplots import qqplot\n",
    "import numpy as np\n",
    "from funs import get_whitener, whiten_evoked_fwd\n",
    "from scipy.sparse import csr_matrix\n",
    "from time import time\n",
    "\n",
    "get_idc = lambda long_list, short_list: np.array([long_list.index(elem) for elem in short_list])\n",
    "distances = []\n",
    "solvers = {solver_dict[\"display_name\"]: None for solver_dict in solver_dicts}\n",
    "\n",
    "event_id_list = list(event_ids.keys()) + [list(event_ids.keys())]\n",
    "event_id_list = event_id_list[::-1]\n",
    "event_id_dict = {(elem if type(elem)==str else \"both\"): elem for elem in event_id_list}\n",
    "\n",
    "\n",
    "event_label = \"both\"\n",
    "event_id = ['auditory_1', 'auditory_2']\n",
    "\n",
    "noise_cov = mne.compute_covariance(epochs[event_id],\n",
    "                                tmin=None, tmax=0,\n",
    "                                    method=\"empirical\", rank=None,\n",
    "                                    verbose=0)\n",
    "\n",
    "evokeds_w = dict()\n",
    "evokeds = dict()\n",
    "fwds_w = dict()\n",
    "stcs = dict()\n",
    "stcs_w = dict()\n",
    "for time_label, (tmin, tmax) in time_frames.items():\n",
    "    print(time_label)\n",
    "    evokeds_w[time_label] = dict()\n",
    "    evokeds[time_label] = dict()\n",
    "    fwds_w[time_label] = dict()\n",
    "    stcs[time_label] = dict()\n",
    "    stcs_w[time_label] = dict()\n",
    "    \n",
    "    max_trials = len(epochs[event_id])\n",
    "    \n",
    "    # Average & Whiten Data\n",
    "    evoked, evoked_w, fwd_w = whiten_evoked_fwd(epochs.copy(), fwd.copy(), noise_cov=noise_cov, tmin=None, tmax=0, method=\"empirical\", verbose=0)\n",
    "    \n",
    "    # evoked_w.plot_joint(times=[-0.02, 0.089, 0.109, 0.129], title=\"Whitened Evoked\")\n",
    "    # evoked.plot_joint(times=[-0.02, 0.089, 0.109, 0.129], title=\"Non-Whitened Evoked\")\n",
    "\n",
    "    for solver_dict in solver_dicts:\n",
    "        print(\"\\t\", solver_dict[\"display_name\"])\n",
    "        if solvers[solver_dict[\"display_name\"]] is None:\n",
    "            solver = Solver(solver_dict[\"solver_name\"], n_reg_params=n_reg_params, prep_leadfield=solver_dict[\"prep_leadfield\"])\n",
    "            solvers[solver_dict[\"display_name\"]] = solver\n",
    "        \n",
    "        \n",
    "        solvers[solver_dict[\"display_name\"]].make_inverse_operator(fwd_w.copy(), evoked_w.copy().crop(tmin, tmax), **solver_dict[\"make_args\"])\n",
    "        stc = solvers[solver_dict[\"display_name\"]].apply_inverse_operator(evoked_w)\n",
    "        \n",
    "        while abs(stc.lh_data).max() == 0 or abs(stc.rh_data).max() == 0:\n",
    "            print(\"\\t\\tMore sources!\")\n",
    "            solver_dict[\"make_args\"][\"n\"] += 1\n",
    "            solver_dict[\"make_args\"][\"k\"] += 1\n",
    "            solvers[solver_dict[\"display_name\"]].make_inverse_operator(fwd_w.copy(), evoked_w.copy().crop(tmin, tmax), **solver_dict[\"make_args\"])\n",
    "            stc = solvers[solver_dict[\"display_name\"]].apply_inverse_operator(evoked_w)\n",
    "        \n",
    "\n",
    "        stc.subject = subject\n",
    "        stcs_w[time_label][solver_dict[\"display_name\"]] = csr_matrix(stc.data)\n",
    "        \n",
    "        \n",
    "        solvers[solver_dict[\"display_name\"]].make_inverse_operator(fwd.copy(), evoked.copy().crop(tmin, tmax), **solver_dict[\"make_args\"])\n",
    "        stc = solvers[solver_dict[\"display_name\"]].apply_inverse_operator(evoked)\n",
    "        while abs(stc.lh_data).max() == 0 or abs(stc.rh_data).max() == 0:\n",
    "            print(\"\\t\\tMore sources!\")\n",
    "            solver_dict[\"make_args\"][\"n\"] += 1\n",
    "            solver_dict[\"make_args\"][\"k\"] += 1\n",
    "            solvers[solver_dict[\"display_name\"]].make_inverse_operator(fwd.copy(), evoked.copy().crop(tmin, tmax), **solver_dict[\"make_args\"])\n",
    "            stc = solvers[solver_dict[\"display_name\"]].apply_inverse_operator(evoked)\n",
    "\n",
    "        stc.subject = subject\n",
    "        stcs[time_label][solver_dict[\"display_name\"]] = csr_matrix(stc.data)\n",
    "        \n",
    "        # Plot\n",
    "        stc.data /= np.max(abs(stc.data))\n",
    "        # stc.plot(hemi=\"both\", views=\"lat\", cortex=\"low_contrast\", subjects_dir=subjects_dir, time_viewer=True, brain_kwargs=dict(title=solver_dict[\"display_name\"]))\n",
    "\n",
    "\n",
    "\n",
    "    # Store    \n",
    "    evokeds_w[time_label] = evoked_w\n",
    "    evokeds[time_label] = evoked\n",
    "    fwds_w[time_label] = fwd_w\n",
    "    \n",
    "    # QQ Plot\n",
    "    # array = evokeds_w[time_label].copy().crop(tmin=None, tmax=0).data.flatten()\n",
    "    # fig = qqplot(array,  line='45')"
   ]
  },
  {
   "cell_type": "markdown",
   "metadata": {},
   "source": [
    "## Load"
   ]
  },
  {
   "cell_type": "code",
   "execution_count": null,
   "metadata": {},
   "outputs": [],
   "source": [
    "import pickle as pkl\n",
    "fns  =[\n",
    "    \"stcs_new_cov_late_500_kfSLDZUayS.pkl\",\n",
    "]\n",
    "stc_list = []\n",
    "for fn in fns:\n",
    "    with open(fn, \"rb\") as file:\n",
    "        stcs = pkl.load(file)\n",
    "        stc_list.append(stcs)\n",
    "\n",
    "# Merge the nested stc dicts:\n",
    "stcs = stc_list[0]\n",
    "for i_next in range(1, len(stc_list)):\n",
    "    print(i_next)\n",
    "    for ntr in stc_list[i_next][\"both\"].keys():\n",
    "        n = list(stcs[\"both\"][ntr].keys())[-1]\n",
    "        new_dict = {key+n+1: value  for key, value in stc_list[i_next][\"both\"][ntr].items()}\n",
    "        if not ntr in stcs[\"both\"].keys():\n",
    "            stcs[\"both\"][ntr] = new_dict\n",
    "        else:\n",
    "            stcs[\"both\"][ntr].update(new_dict)"
   ]
  },
  {
   "cell_type": "code",
   "execution_count": null,
   "metadata": {},
   "outputs": [],
   "source": [
    "# evokeds_w[\"auditory_1\"][n_trials[-1]][0].plot_joint()\n",
    "# evokeds_w[\"auditory_2\"][n_trials[-1]][0].plot_joint()\n",
    "# evokeds_w[\"both\"][n_trials[-1]][0].plot_joint()\n",
    "from copy import deepcopy\n",
    "stc_ = stc.copy()\n",
    "stc_.data = deepcopy(stcs[\"both\"][n_trials[-1]][0][\"AP\"].toarray())\n",
    "stc_.data /= np.max(abs(stc_.data))\n",
    "stc_.plot(surface=\"inflated\", hemi=\"both\", cortex=\"low_contrast\", subjects_dir=subjects_dir, time_viewer=True, initial_time=0.109, time_unit=\"s\")\n",
    "                     "
   ]
  },
  {
   "cell_type": "markdown",
   "metadata": {},
   "source": [
    "# mne-python inverse"
   ]
  },
  {
   "cell_type": "code",
   "execution_count": null,
   "metadata": {},
   "outputs": [],
   "source": [
    "from mne.minimum_norm import make_inverse_operator, apply_inverse\n",
    "\n",
    "ntr = n_trials[-1]\n",
    "snr = 3\n",
    "lambda2 = 1.0 / snr**2\n",
    "method = \"dSPM\"\n",
    "event_id = \"both\"\n",
    "\n",
    "inverse_operator = make_inverse_operator(\n",
    "    evokeds[event_id][ntr][0].info, fwd, noise_covs[event_id], fixed=True, depth=None\n",
    "    )\n",
    "\n",
    "# Compute inverse solution on contrast\n",
    "stc = apply_inverse(evokeds[event_id][ntr][0], inverse_operator, lambda2, method, pick_ori=None)\n",
    "# stc.save('spm_%s_dSPM_inverse' % contrast.comment)\n",
    "stc.data /= abs(stc.data).max()\n",
    "# Plot contrast in 3D with mne.viz.Brain if available\n",
    "brain = abs(stc).plot(\n",
    "    hemi=\"both\",\n",
    "    subjects_dir=subjects_dir,\n",
    "    initial_time=0.119,\n",
    "    views=[\"lat\"],\n",
    "    clim={\"kind\": \"value\", \"pos_lims\": [0., 0.5, 1]},\n",
    "    cortex=\"low_contrast\"\n",
    ")\n",
    "\n",
    "\n",
    "\n",
    "# Atlas label\n",
    "atlas = \"aparc.a2009s\"\n",
    "labels_lh = mne.read_labels_from_annot(\n",
    "    subject, atlas, \"lh\", subjects_dir=subjects_dir\n",
    ")\n",
    "labels_rh = mne.read_labels_from_annot(\n",
    "    subject, atlas, \"rh\", subjects_dir=subjects_dir\n",
    ")\n",
    "labels = labels_lh + labels_rh\n",
    "labels\n",
    "label_heschl = [label for label in labels if \"S_temporal_transverse\" in label.name]\n",
    "label_heschl\n",
    "\n",
    "for l in label_heschl:\n",
    "    brain.add_label(l, borders=True, color=\"black\")\n",
    "# brain.save_image(f'{save_path}/{method}_map.png')"
   ]
  },
  {
   "cell_type": "markdown",
   "metadata": {},
   "source": [
    "# Establish Proxy of Ground Truth"
   ]
  },
  {
   "cell_type": "code",
   "execution_count": 11,
   "metadata": {},
   "outputs": [
    {
     "name": "stdout",
     "output_type": "stream",
     "text": [
      "early\n",
      "NOTE: pick_channels() is a legacy function. New code should use inst.pick(...).\n",
      "NOTE: pick_channels() is a legacy function. New code should use inst.pick(...).\n",
      "NOTE: pick_types() is a legacy function. New code should use inst.pick(...).\n",
      "NOTE: pick_channels() is a legacy function. New code should use inst.pick(...).\n"
     ]
    },
    {
     "name": "stderr",
     "output_type": "stream",
     "text": [
      "c:\\Users\\lukas\\OneDrive\\Dokumente\\projects\\flex_ssm\\ssm_paper_analysis\\../../invert\\invert\\solvers\\music.py:444: RuntimeWarning: 0.0% of original source space vertices have been omitted, tri-based adjacency will have holes.\n",
      "Consider using distance-based adjacency or morphing data to all source space vertices.\n",
      "  adjacency = mne.spatial_src_adjacency(self.forward['src'], verbose=0)\n"
     ]
    },
    {
     "name": "stdout",
     "output_type": "stream",
     "text": [
      "Source Iteration  0\n",
      "[[0, 1939]]\n",
      "NOTE: pick_types() is a legacy function. New code should use inst.pick(...).\n",
      "NOTE: pick_channels() is a legacy function. New code should use inst.pick(...).\n"
     ]
    },
    {
     "name": "stderr",
     "output_type": "stream",
     "text": [
      "C:\\Users\\lukas\\AppData\\Local\\Temp\\ipykernel_4356\\3289204714.py:43: RuntimeWarning: All data were zero\n",
      "  brain = stc.plot(brain_kwargs=dict(title=f\"{solver.name} {tmin} - {tmax} stim, {hem}\"), surface=\"inflated\", hemi=\"both\", subjects_dir=subjects_dir, subject=subject, cortex=\"low_contrast\", time_viewer=False, verbose=0)\n"
     ]
    },
    {
     "name": "stdout",
     "output_type": "stream",
     "text": [
      "NOTE: pick_types() is a legacy function. New code should use inst.pick(...).\n",
      "NOTE: pick_channels() is a legacy function. New code should use inst.pick(...).\n"
     ]
    },
    {
     "name": "stderr",
     "output_type": "stream",
     "text": [
      "c:\\Users\\lukas\\OneDrive\\Dokumente\\projects\\flex_ssm\\ssm_paper_analysis\\../../invert\\invert\\solvers\\music.py:444: RuntimeWarning: 0.0% of original source space vertices have been omitted, tri-based adjacency will have holes.\n",
      "Consider using distance-based adjacency or morphing data to all source space vertices.\n",
      "  adjacency = mne.spatial_src_adjacency(self.forward['src'], verbose=0)\n"
     ]
    },
    {
     "name": "stdout",
     "output_type": "stream",
     "text": [
      "Source Iteration  0\n",
      "[[0, 6311]]\n",
      "NOTE: pick_types() is a legacy function. New code should use inst.pick(...).\n",
      "NOTE: pick_channels() is a legacy function. New code should use inst.pick(...).\n"
     ]
    },
    {
     "name": "stderr",
     "output_type": "stream",
     "text": [
      "C:\\Users\\lukas\\AppData\\Local\\Temp\\ipykernel_4356\\3289204714.py:43: RuntimeWarning: All data were zero\n",
      "  brain = stc.plot(brain_kwargs=dict(title=f\"{solver.name} {tmin} - {tmax} stim, {hem}\"), surface=\"inflated\", hemi=\"both\", subjects_dir=subjects_dir, subject=subject, cortex=\"low_contrast\", time_viewer=False, verbose=0)\n"
     ]
    },
    {
     "name": "stdout",
     "output_type": "stream",
     "text": [
      "late\n",
      "NOTE: pick_channels() is a legacy function. New code should use inst.pick(...).\n",
      "NOTE: pick_channels() is a legacy function. New code should use inst.pick(...).\n",
      "NOTE: pick_types() is a legacy function. New code should use inst.pick(...).\n",
      "NOTE: pick_channels() is a legacy function. New code should use inst.pick(...).\n"
     ]
    },
    {
     "name": "stderr",
     "output_type": "stream",
     "text": [
      "c:\\Users\\lukas\\OneDrive\\Dokumente\\projects\\flex_ssm\\ssm_paper_analysis\\../../invert\\invert\\solvers\\music.py:444: RuntimeWarning: 0.0% of original source space vertices have been omitted, tri-based adjacency will have holes.\n",
      "Consider using distance-based adjacency or morphing data to all source space vertices.\n",
      "  adjacency = mne.spatial_src_adjacency(self.forward['src'], verbose=0)\n"
     ]
    },
    {
     "name": "stdout",
     "output_type": "stream",
     "text": [
      "Source Iteration  0\n",
      "[[0, 1850]]\n",
      "NOTE: pick_types() is a legacy function. New code should use inst.pick(...).\n",
      "NOTE: pick_channels() is a legacy function. New code should use inst.pick(...).\n"
     ]
    },
    {
     "name": "stderr",
     "output_type": "stream",
     "text": [
      "C:\\Users\\lukas\\AppData\\Local\\Temp\\ipykernel_4356\\3289204714.py:43: RuntimeWarning: All data were zero\n",
      "  brain = stc.plot(brain_kwargs=dict(title=f\"{solver.name} {tmin} - {tmax} stim, {hem}\"), surface=\"inflated\", hemi=\"both\", subjects_dir=subjects_dir, subject=subject, cortex=\"low_contrast\", time_viewer=False, verbose=0)\n"
     ]
    },
    {
     "name": "stdout",
     "output_type": "stream",
     "text": [
      "NOTE: pick_types() is a legacy function. New code should use inst.pick(...).\n",
      "NOTE: pick_channels() is a legacy function. New code should use inst.pick(...).\n"
     ]
    },
    {
     "name": "stderr",
     "output_type": "stream",
     "text": [
      "c:\\Users\\lukas\\OneDrive\\Dokumente\\projects\\flex_ssm\\ssm_paper_analysis\\../../invert\\invert\\solvers\\music.py:444: RuntimeWarning: 0.0% of original source space vertices have been omitted, tri-based adjacency will have holes.\n",
      "Consider using distance-based adjacency or morphing data to all source space vertices.\n",
      "  adjacency = mne.spatial_src_adjacency(self.forward['src'], verbose=0)\n"
     ]
    },
    {
     "name": "stdout",
     "output_type": "stream",
     "text": [
      "Source Iteration  0\n",
      "[[0, 6311]]\n",
      "NOTE: pick_types() is a legacy function. New code should use inst.pick(...).\n",
      "NOTE: pick_channels() is a legacy function. New code should use inst.pick(...).\n"
     ]
    },
    {
     "name": "stderr",
     "output_type": "stream",
     "text": [
      "C:\\Users\\lukas\\AppData\\Local\\Temp\\ipykernel_4356\\3289204714.py:43: RuntimeWarning: All data were zero\n",
      "  brain = stc.plot(brain_kwargs=dict(title=f\"{solver.name} {tmin} - {tmax} stim, {hem}\"), surface=\"inflated\", hemi=\"both\", subjects_dir=subjects_dir, subject=subject, cortex=\"low_contrast\", time_viewer=False, verbose=0)\n"
     ]
    },
    {
     "name": "stdout",
     "output_type": "stream",
     "text": [
      "full\n",
      "NOTE: pick_channels() is a legacy function. New code should use inst.pick(...).\n",
      "NOTE: pick_channels() is a legacy function. New code should use inst.pick(...).\n",
      "NOTE: pick_types() is a legacy function. New code should use inst.pick(...).\n",
      "NOTE: pick_channels() is a legacy function. New code should use inst.pick(...).\n"
     ]
    },
    {
     "name": "stderr",
     "output_type": "stream",
     "text": [
      "c:\\Users\\lukas\\OneDrive\\Dokumente\\projects\\flex_ssm\\ssm_paper_analysis\\../../invert\\invert\\solvers\\music.py:444: RuntimeWarning: 0.0% of original source space vertices have been omitted, tri-based adjacency will have holes.\n",
      "Consider using distance-based adjacency or morphing data to all source space vertices.\n",
      "  adjacency = mne.spatial_src_adjacency(self.forward['src'], verbose=0)\n"
     ]
    },
    {
     "name": "stdout",
     "output_type": "stream",
     "text": [
      "Source Iteration  0\n",
      "[[0, 1888]]\n",
      "NOTE: pick_types() is a legacy function. New code should use inst.pick(...).\n",
      "NOTE: pick_channels() is a legacy function. New code should use inst.pick(...).\n"
     ]
    },
    {
     "name": "stderr",
     "output_type": "stream",
     "text": [
      "C:\\Users\\lukas\\AppData\\Local\\Temp\\ipykernel_4356\\3289204714.py:43: RuntimeWarning: All data were zero\n",
      "  brain = stc.plot(brain_kwargs=dict(title=f\"{solver.name} {tmin} - {tmax} stim, {hem}\"), surface=\"inflated\", hemi=\"both\", subjects_dir=subjects_dir, subject=subject, cortex=\"low_contrast\", time_viewer=False, verbose=0)\n"
     ]
    },
    {
     "name": "stdout",
     "output_type": "stream",
     "text": [
      "NOTE: pick_types() is a legacy function. New code should use inst.pick(...).\n",
      "NOTE: pick_channels() is a legacy function. New code should use inst.pick(...).\n"
     ]
    },
    {
     "name": "stderr",
     "output_type": "stream",
     "text": [
      "c:\\Users\\lukas\\OneDrive\\Dokumente\\projects\\flex_ssm\\ssm_paper_analysis\\../../invert\\invert\\solvers\\music.py:444: RuntimeWarning: 0.0% of original source space vertices have been omitted, tri-based adjacency will have holes.\n",
      "Consider using distance-based adjacency or morphing data to all source space vertices.\n",
      "  adjacency = mne.spatial_src_adjacency(self.forward['src'], verbose=0)\n"
     ]
    },
    {
     "name": "stdout",
     "output_type": "stream",
     "text": [
      "Source Iteration  0\n",
      "[[0, 6311]]\n",
      "NOTE: pick_types() is a legacy function. New code should use inst.pick(...).\n",
      "NOTE: pick_channels() is a legacy function. New code should use inst.pick(...).\n"
     ]
    },
    {
     "name": "stderr",
     "output_type": "stream",
     "text": [
      "C:\\Users\\lukas\\AppData\\Local\\Temp\\ipykernel_4356\\3289204714.py:43: RuntimeWarning: All data were zero\n",
      "  brain = stc.plot(brain_kwargs=dict(title=f\"{solver.name} {tmin} - {tmax} stim, {hem}\"), surface=\"inflated\", hemi=\"both\", subjects_dir=subjects_dir, subject=subject, cortex=\"low_contrast\", time_viewer=False, verbose=0)\n"
     ]
    },
    {
     "name": "stdout",
     "output_type": "stream",
     "text": [
      "early\n",
      "NOTE: pick_channels() is a legacy function. New code should use inst.pick(...).\n",
      "NOTE: pick_channels() is a legacy function. New code should use inst.pick(...).\n",
      "NOTE: pick_types() is a legacy function. New code should use inst.pick(...).\n",
      "NOTE: pick_channels() is a legacy function. New code should use inst.pick(...).\n"
     ]
    },
    {
     "name": "stderr",
     "output_type": "stream",
     "text": [
      "c:\\Users\\lukas\\OneDrive\\Dokumente\\projects\\flex_ssm\\ssm_paper_analysis\\../../invert\\invert\\solvers\\music.py:807: RuntimeWarning: 0.0% of original source space vertices have been omitted, tri-based adjacency will have holes.\n",
      "Consider using distance-based adjacency or morphing data to all source space vertices.\n",
      "  adjacency = mne.spatial_src_adjacency(self.forward['src'], verbose=0)\n"
     ]
    },
    {
     "name": "stdout",
     "output_type": "stream",
     "text": [
      "NOTE: pick_types() is a legacy function. New code should use inst.pick(...).\n",
      "NOTE: pick_channels() is a legacy function. New code should use inst.pick(...).\n"
     ]
    },
    {
     "name": "stderr",
     "output_type": "stream",
     "text": [
      "C:\\Users\\lukas\\AppData\\Local\\Temp\\ipykernel_4356\\3289204714.py:43: RuntimeWarning: All data were zero\n",
      "  brain = stc.plot(brain_kwargs=dict(title=f\"{solver.name} {tmin} - {tmax} stim, {hem}\"), surface=\"inflated\", hemi=\"both\", subjects_dir=subjects_dir, subject=subject, cortex=\"low_contrast\", time_viewer=False, verbose=0)\n"
     ]
    },
    {
     "name": "stdout",
     "output_type": "stream",
     "text": [
      "NOTE: pick_types() is a legacy function. New code should use inst.pick(...).\n",
      "NOTE: pick_channels() is a legacy function. New code should use inst.pick(...).\n"
     ]
    },
    {
     "name": "stderr",
     "output_type": "stream",
     "text": [
      "c:\\Users\\lukas\\OneDrive\\Dokumente\\projects\\flex_ssm\\ssm_paper_analysis\\../../invert\\invert\\solvers\\music.py:807: RuntimeWarning: 0.0% of original source space vertices have been omitted, tri-based adjacency will have holes.\n",
      "Consider using distance-based adjacency or morphing data to all source space vertices.\n",
      "  adjacency = mne.spatial_src_adjacency(self.forward['src'], verbose=0)\n"
     ]
    },
    {
     "name": "stdout",
     "output_type": "stream",
     "text": [
      "NOTE: pick_types() is a legacy function. New code should use inst.pick(...).\n",
      "NOTE: pick_channels() is a legacy function. New code should use inst.pick(...).\n"
     ]
    },
    {
     "name": "stderr",
     "output_type": "stream",
     "text": [
      "C:\\Users\\lukas\\AppData\\Local\\Temp\\ipykernel_4356\\3289204714.py:43: RuntimeWarning: All data were zero\n",
      "  brain = stc.plot(brain_kwargs=dict(title=f\"{solver.name} {tmin} - {tmax} stim, {hem}\"), surface=\"inflated\", hemi=\"both\", subjects_dir=subjects_dir, subject=subject, cortex=\"low_contrast\", time_viewer=False, verbose=0)\n"
     ]
    },
    {
     "name": "stdout",
     "output_type": "stream",
     "text": [
      "late\n",
      "NOTE: pick_channels() is a legacy function. New code should use inst.pick(...).\n",
      "NOTE: pick_channels() is a legacy function. New code should use inst.pick(...).\n",
      "NOTE: pick_types() is a legacy function. New code should use inst.pick(...).\n",
      "NOTE: pick_channels() is a legacy function. New code should use inst.pick(...).\n"
     ]
    },
    {
     "name": "stderr",
     "output_type": "stream",
     "text": [
      "c:\\Users\\lukas\\OneDrive\\Dokumente\\projects\\flex_ssm\\ssm_paper_analysis\\../../invert\\invert\\solvers\\music.py:807: RuntimeWarning: 0.0% of original source space vertices have been omitted, tri-based adjacency will have holes.\n",
      "Consider using distance-based adjacency or morphing data to all source space vertices.\n",
      "  adjacency = mne.spatial_src_adjacency(self.forward['src'], verbose=0)\n"
     ]
    },
    {
     "name": "stdout",
     "output_type": "stream",
     "text": [
      "NOTE: pick_types() is a legacy function. New code should use inst.pick(...).\n",
      "NOTE: pick_channels() is a legacy function. New code should use inst.pick(...).\n"
     ]
    },
    {
     "name": "stderr",
     "output_type": "stream",
     "text": [
      "C:\\Users\\lukas\\AppData\\Local\\Temp\\ipykernel_4356\\3289204714.py:43: RuntimeWarning: All data were zero\n",
      "  brain = stc.plot(brain_kwargs=dict(title=f\"{solver.name} {tmin} - {tmax} stim, {hem}\"), surface=\"inflated\", hemi=\"both\", subjects_dir=subjects_dir, subject=subject, cortex=\"low_contrast\", time_viewer=False, verbose=0)\n"
     ]
    },
    {
     "name": "stdout",
     "output_type": "stream",
     "text": [
      "NOTE: pick_types() is a legacy function. New code should use inst.pick(...).\n",
      "NOTE: pick_channels() is a legacy function. New code should use inst.pick(...).\n"
     ]
    },
    {
     "name": "stderr",
     "output_type": "stream",
     "text": [
      "c:\\Users\\lukas\\OneDrive\\Dokumente\\projects\\flex_ssm\\ssm_paper_analysis\\../../invert\\invert\\solvers\\music.py:807: RuntimeWarning: 0.0% of original source space vertices have been omitted, tri-based adjacency will have holes.\n",
      "Consider using distance-based adjacency or morphing data to all source space vertices.\n",
      "  adjacency = mne.spatial_src_adjacency(self.forward['src'], verbose=0)\n"
     ]
    },
    {
     "name": "stdout",
     "output_type": "stream",
     "text": [
      "NOTE: pick_types() is a legacy function. New code should use inst.pick(...).\n",
      "NOTE: pick_channels() is a legacy function. New code should use inst.pick(...).\n"
     ]
    },
    {
     "name": "stderr",
     "output_type": "stream",
     "text": [
      "C:\\Users\\lukas\\AppData\\Local\\Temp\\ipykernel_4356\\3289204714.py:43: RuntimeWarning: All data were zero\n",
      "  brain = stc.plot(brain_kwargs=dict(title=f\"{solver.name} {tmin} - {tmax} stim, {hem}\"), surface=\"inflated\", hemi=\"both\", subjects_dir=subjects_dir, subject=subject, cortex=\"low_contrast\", time_viewer=False, verbose=0)\n"
     ]
    },
    {
     "name": "stdout",
     "output_type": "stream",
     "text": [
      "full\n",
      "NOTE: pick_channels() is a legacy function. New code should use inst.pick(...).\n",
      "NOTE: pick_channels() is a legacy function. New code should use inst.pick(...).\n",
      "NOTE: pick_types() is a legacy function. New code should use inst.pick(...).\n",
      "NOTE: pick_channels() is a legacy function. New code should use inst.pick(...).\n"
     ]
    },
    {
     "name": "stderr",
     "output_type": "stream",
     "text": [
      "c:\\Users\\lukas\\OneDrive\\Dokumente\\projects\\flex_ssm\\ssm_paper_analysis\\../../invert\\invert\\solvers\\music.py:807: RuntimeWarning: 0.0% of original source space vertices have been omitted, tri-based adjacency will have holes.\n",
      "Consider using distance-based adjacency or morphing data to all source space vertices.\n",
      "  adjacency = mne.spatial_src_adjacency(self.forward['src'], verbose=0)\n"
     ]
    },
    {
     "name": "stdout",
     "output_type": "stream",
     "text": [
      "NOTE: pick_types() is a legacy function. New code should use inst.pick(...).\n",
      "NOTE: pick_channels() is a legacy function. New code should use inst.pick(...).\n"
     ]
    },
    {
     "name": "stderr",
     "output_type": "stream",
     "text": [
      "C:\\Users\\lukas\\AppData\\Local\\Temp\\ipykernel_4356\\3289204714.py:43: RuntimeWarning: All data were zero\n",
      "  brain = stc.plot(brain_kwargs=dict(title=f\"{solver.name} {tmin} - {tmax} stim, {hem}\"), surface=\"inflated\", hemi=\"both\", subjects_dir=subjects_dir, subject=subject, cortex=\"low_contrast\", time_viewer=False, verbose=0)\n"
     ]
    },
    {
     "name": "stdout",
     "output_type": "stream",
     "text": [
      "NOTE: pick_types() is a legacy function. New code should use inst.pick(...).\n",
      "NOTE: pick_channels() is a legacy function. New code should use inst.pick(...).\n"
     ]
    },
    {
     "name": "stderr",
     "output_type": "stream",
     "text": [
      "c:\\Users\\lukas\\OneDrive\\Dokumente\\projects\\flex_ssm\\ssm_paper_analysis\\../../invert\\invert\\solvers\\music.py:807: RuntimeWarning: 0.0% of original source space vertices have been omitted, tri-based adjacency will have holes.\n",
      "Consider using distance-based adjacency or morphing data to all source space vertices.\n",
      "  adjacency = mne.spatial_src_adjacency(self.forward['src'], verbose=0)\n"
     ]
    },
    {
     "name": "stdout",
     "output_type": "stream",
     "text": [
      "NOTE: pick_types() is a legacy function. New code should use inst.pick(...).\n",
      "NOTE: pick_channels() is a legacy function. New code should use inst.pick(...).\n"
     ]
    },
    {
     "name": "stderr",
     "output_type": "stream",
     "text": [
      "C:\\Users\\lukas\\AppData\\Local\\Temp\\ipykernel_4356\\3289204714.py:43: RuntimeWarning: All data were zero\n",
      "  brain = stc.plot(brain_kwargs=dict(title=f\"{solver.name} {tmin} - {tmax} stim, {hem}\"), surface=\"inflated\", hemi=\"both\", subjects_dir=subjects_dir, subject=subject, cortex=\"low_contrast\", time_viewer=False, verbose=0)\n"
     ]
    },
    {
     "name": "stdout",
     "output_type": "stream",
     "text": [
      "early\n",
      "NOTE: pick_channels() is a legacy function. New code should use inst.pick(...).\n",
      "NOTE: pick_channels() is a legacy function. New code should use inst.pick(...).\n",
      "NOTE: pick_types() is a legacy function. New code should use inst.pick(...).\n",
      "NOTE: pick_channels() is a legacy function. New code should use inst.pick(...).\n"
     ]
    },
    {
     "name": "stderr",
     "output_type": "stream",
     "text": [
      "c:\\Users\\lukas\\OneDrive\\Dokumente\\projects\\flex_ssm\\ssm_paper_analysis\\../../invert\\invert\\solvers\\music.py:1123: RuntimeWarning: 0.0% of original source space vertices have been omitted, tri-based adjacency will have holes.\n",
      "Consider using distance-based adjacency or morphing data to all source space vertices.\n",
      "  adjacency = mne.spatial_src_adjacency(self.forward['src'], verbose=0)\n"
     ]
    },
    {
     "name": "stdout",
     "output_type": "stream",
     "text": [
      "NOTE: pick_types() is a legacy function. New code should use inst.pick(...).\n",
      "NOTE: pick_channels() is a legacy function. New code should use inst.pick(...).\n"
     ]
    },
    {
     "name": "stderr",
     "output_type": "stream",
     "text": [
      "C:\\Users\\lukas\\AppData\\Local\\Temp\\ipykernel_4356\\3289204714.py:43: RuntimeWarning: All data were zero\n",
      "  brain = stc.plot(brain_kwargs=dict(title=f\"{solver.name} {tmin} - {tmax} stim, {hem}\"), surface=\"inflated\", hemi=\"both\", subjects_dir=subjects_dir, subject=subject, cortex=\"low_contrast\", time_viewer=False, verbose=0)\n"
     ]
    },
    {
     "name": "stdout",
     "output_type": "stream",
     "text": [
      "NOTE: pick_types() is a legacy function. New code should use inst.pick(...).\n",
      "NOTE: pick_channels() is a legacy function. New code should use inst.pick(...).\n"
     ]
    },
    {
     "name": "stderr",
     "output_type": "stream",
     "text": [
      "c:\\Users\\lukas\\OneDrive\\Dokumente\\projects\\flex_ssm\\ssm_paper_analysis\\../../invert\\invert\\solvers\\music.py:1123: RuntimeWarning: 0.0% of original source space vertices have been omitted, tri-based adjacency will have holes.\n",
      "Consider using distance-based adjacency or morphing data to all source space vertices.\n",
      "  adjacency = mne.spatial_src_adjacency(self.forward['src'], verbose=0)\n"
     ]
    },
    {
     "name": "stdout",
     "output_type": "stream",
     "text": [
      "NOTE: pick_types() is a legacy function. New code should use inst.pick(...).\n",
      "NOTE: pick_channels() is a legacy function. New code should use inst.pick(...).\n"
     ]
    },
    {
     "name": "stderr",
     "output_type": "stream",
     "text": [
      "C:\\Users\\lukas\\AppData\\Local\\Temp\\ipykernel_4356\\3289204714.py:43: RuntimeWarning: All data were zero\n",
      "  brain = stc.plot(brain_kwargs=dict(title=f\"{solver.name} {tmin} - {tmax} stim, {hem}\"), surface=\"inflated\", hemi=\"both\", subjects_dir=subjects_dir, subject=subject, cortex=\"low_contrast\", time_viewer=False, verbose=0)\n"
     ]
    },
    {
     "name": "stdout",
     "output_type": "stream",
     "text": [
      "late\n",
      "NOTE: pick_channels() is a legacy function. New code should use inst.pick(...).\n",
      "NOTE: pick_channels() is a legacy function. New code should use inst.pick(...).\n",
      "NOTE: pick_types() is a legacy function. New code should use inst.pick(...).\n",
      "NOTE: pick_channels() is a legacy function. New code should use inst.pick(...).\n"
     ]
    },
    {
     "name": "stderr",
     "output_type": "stream",
     "text": [
      "c:\\Users\\lukas\\OneDrive\\Dokumente\\projects\\flex_ssm\\ssm_paper_analysis\\../../invert\\invert\\solvers\\music.py:1123: RuntimeWarning: 0.0% of original source space vertices have been omitted, tri-based adjacency will have holes.\n",
      "Consider using distance-based adjacency or morphing data to all source space vertices.\n",
      "  adjacency = mne.spatial_src_adjacency(self.forward['src'], verbose=0)\n"
     ]
    },
    {
     "name": "stdout",
     "output_type": "stream",
     "text": [
      "NOTE: pick_types() is a legacy function. New code should use inst.pick(...).\n",
      "NOTE: pick_channels() is a legacy function. New code should use inst.pick(...).\n"
     ]
    },
    {
     "name": "stderr",
     "output_type": "stream",
     "text": [
      "C:\\Users\\lukas\\AppData\\Local\\Temp\\ipykernel_4356\\3289204714.py:43: RuntimeWarning: All data were zero\n",
      "  brain = stc.plot(brain_kwargs=dict(title=f\"{solver.name} {tmin} - {tmax} stim, {hem}\"), surface=\"inflated\", hemi=\"both\", subjects_dir=subjects_dir, subject=subject, cortex=\"low_contrast\", time_viewer=False, verbose=0)\n"
     ]
    },
    {
     "name": "stdout",
     "output_type": "stream",
     "text": [
      "NOTE: pick_types() is a legacy function. New code should use inst.pick(...).\n",
      "NOTE: pick_channels() is a legacy function. New code should use inst.pick(...).\n"
     ]
    },
    {
     "name": "stderr",
     "output_type": "stream",
     "text": [
      "c:\\Users\\lukas\\OneDrive\\Dokumente\\projects\\flex_ssm\\ssm_paper_analysis\\../../invert\\invert\\solvers\\music.py:1123: RuntimeWarning: 0.0% of original source space vertices have been omitted, tri-based adjacency will have holes.\n",
      "Consider using distance-based adjacency or morphing data to all source space vertices.\n",
      "  adjacency = mne.spatial_src_adjacency(self.forward['src'], verbose=0)\n"
     ]
    },
    {
     "name": "stdout",
     "output_type": "stream",
     "text": [
      "NOTE: pick_types() is a legacy function. New code should use inst.pick(...).\n",
      "NOTE: pick_channels() is a legacy function. New code should use inst.pick(...).\n"
     ]
    },
    {
     "name": "stderr",
     "output_type": "stream",
     "text": [
      "C:\\Users\\lukas\\AppData\\Local\\Temp\\ipykernel_4356\\3289204714.py:43: RuntimeWarning: All data were zero\n",
      "  brain = stc.plot(brain_kwargs=dict(title=f\"{solver.name} {tmin} - {tmax} stim, {hem}\"), surface=\"inflated\", hemi=\"both\", subjects_dir=subjects_dir, subject=subject, cortex=\"low_contrast\", time_viewer=False, verbose=0)\n"
     ]
    },
    {
     "name": "stdout",
     "output_type": "stream",
     "text": [
      "full\n",
      "NOTE: pick_channels() is a legacy function. New code should use inst.pick(...).\n",
      "NOTE: pick_channels() is a legacy function. New code should use inst.pick(...).\n",
      "NOTE: pick_types() is a legacy function. New code should use inst.pick(...).\n",
      "NOTE: pick_channels() is a legacy function. New code should use inst.pick(...).\n"
     ]
    },
    {
     "name": "stderr",
     "output_type": "stream",
     "text": [
      "c:\\Users\\lukas\\OneDrive\\Dokumente\\projects\\flex_ssm\\ssm_paper_analysis\\../../invert\\invert\\solvers\\music.py:1123: RuntimeWarning: 0.0% of original source space vertices have been omitted, tri-based adjacency will have holes.\n",
      "Consider using distance-based adjacency or morphing data to all source space vertices.\n",
      "  adjacency = mne.spatial_src_adjacency(self.forward['src'], verbose=0)\n"
     ]
    },
    {
     "name": "stdout",
     "output_type": "stream",
     "text": [
      "NOTE: pick_types() is a legacy function. New code should use inst.pick(...).\n",
      "NOTE: pick_channels() is a legacy function. New code should use inst.pick(...).\n"
     ]
    },
    {
     "name": "stderr",
     "output_type": "stream",
     "text": [
      "C:\\Users\\lukas\\AppData\\Local\\Temp\\ipykernel_4356\\3289204714.py:43: RuntimeWarning: All data were zero\n",
      "  brain = stc.plot(brain_kwargs=dict(title=f\"{solver.name} {tmin} - {tmax} stim, {hem}\"), surface=\"inflated\", hemi=\"both\", subjects_dir=subjects_dir, subject=subject, cortex=\"low_contrast\", time_viewer=False, verbose=0)\n"
     ]
    },
    {
     "name": "stdout",
     "output_type": "stream",
     "text": [
      "NOTE: pick_types() is a legacy function. New code should use inst.pick(...).\n",
      "NOTE: pick_channels() is a legacy function. New code should use inst.pick(...).\n"
     ]
    },
    {
     "name": "stderr",
     "output_type": "stream",
     "text": [
      "c:\\Users\\lukas\\OneDrive\\Dokumente\\projects\\flex_ssm\\ssm_paper_analysis\\../../invert\\invert\\solvers\\music.py:1123: RuntimeWarning: 0.0% of original source space vertices have been omitted, tri-based adjacency will have holes.\n",
      "Consider using distance-based adjacency or morphing data to all source space vertices.\n",
      "  adjacency = mne.spatial_src_adjacency(self.forward['src'], verbose=0)\n"
     ]
    },
    {
     "name": "stdout",
     "output_type": "stream",
     "text": [
      "NOTE: pick_types() is a legacy function. New code should use inst.pick(...).\n",
      "NOTE: pick_channels() is a legacy function. New code should use inst.pick(...).\n"
     ]
    },
    {
     "name": "stderr",
     "output_type": "stream",
     "text": [
      "C:\\Users\\lukas\\AppData\\Local\\Temp\\ipykernel_4356\\3289204714.py:43: RuntimeWarning: All data were zero\n",
      "  brain = stc.plot(brain_kwargs=dict(title=f\"{solver.name} {tmin} - {tmax} stim, {hem}\"), surface=\"inflated\", hemi=\"both\", subjects_dir=subjects_dir, subject=subject, cortex=\"low_contrast\", time_viewer=False, verbose=0)\n"
     ]
    }
   ],
   "source": [
    "%matplotlib qt\n",
    "import sys; sys.path.insert(0, r'C:\\Users\\Lukas\\OneDrive\\Documents\\projects\\invert')\n",
    "from invert import Solver\n",
    "from invert.util import pos_from_forward\n",
    "n_chans, n_dipoles = fwd[\"sol\"][\"data\"].shape\n",
    "# get left and right channel names\n",
    "evoked = evokeds_w[list(time_frames.keys())[0]]\n",
    "\n",
    "ch_names = evoked.ch_names\n",
    "ch_names_left = [ch[\"ch_name\"] for ch in evoked.info[\"chs\"] if ch[\"loc\"][0]<0]\n",
    "ch_names_right = [ch[\"ch_name\"] for ch in evoked.info[\"chs\"] if ch[\"loc\"][0]>=0]\n",
    "\n",
    "n_orders = 0\n",
    "n_sources = 1\n",
    "prep_leadfield = False\n",
    "gt_solver_names = [\"RAP-MUSIC\", \"AP\", \"SSM\"]\n",
    "ground_truth_idc = dict()\n",
    "\n",
    "for gt_solver_name in gt_solver_names:\n",
    "    ground_truth_idc[gt_solver_name] = []\n",
    "\n",
    "    for i_tf, (time_frame, (tmin, tmax)) in enumerate(time_frames.items()):\n",
    "        print(time_frame)\n",
    "        evoked = evokeds_w[time_frame]\n",
    "        # evoked = evokeds[time_frame]\n",
    "\n",
    "        evoked_sub = dict()\n",
    "        evoked_sub[\"lh\"] = evoked.copy().pick_channels(ch_names_left)\n",
    "        evoked_sub[\"rh\"] = evoked.copy().pick_channels(ch_names_right)\n",
    "        ground_truth_idc[gt_solver_name].append([])\n",
    "\n",
    "\n",
    "        for hem in (\"lh\", \"rh\"):  # left vs right hemisphere\n",
    "            fwd_temp = fwds_w[time_frame].copy().pick_channels(evoked_sub[hem].ch_names)\n",
    "            # Left dipole:\n",
    "            solver = Solver(gt_solver_name, prep_leadfield=prep_leadfield)\n",
    "            solver.make_inverse_operator(fwd_temp, evoked_sub[hem].copy().crop(tmin=tmin, tmax=tmax), n=n_sources, k=n_sources, n_orders=n_orders, stop_crit=0)\n",
    "            stc = solver.apply_inverse_operator(evoked_sub[hem])\n",
    "            ground_truth_idc[gt_solver_name][i_tf].append(np.argmax(abs(stc.data[:, 0])))\n",
    "\n",
    "            stc.subject = subject\n",
    "            stc.data /= abs(stc.data).max()\n",
    "            brain = stc.plot(brain_kwargs=dict(title=f\"{solver.name} {tmin} - {tmax} stim, {hem}\"), surface=\"inflated\", hemi=\"both\", subjects_dir=subjects_dir, subject=subject, cortex=\"low_contrast\", time_viewer=False, verbose=0)\n",
    "            if hem==\"lh\":\n",
    "                brain.add_foci(stc.lh_vertno[ground_truth_idc[gt_solver_name][i_tf][-1]], color=\"green\", coords_as_verts=True, hemi=\"lh\")\n",
    "            else:\n",
    "                brain.add_foci(stc.rh_vertno[ground_truth_idc[gt_solver_name][i_tf][-1] - int(n_dipoles / 2)], color=\"green\", coords_as_verts=True, hemi=\"rh\")\n",
    "        \n",
    "        source_data = np.zeros((n_dipoles, 1))\n",
    "        source_data[ground_truth_idc[gt_solver_name][i_tf][0]] = 1\n",
    "        source_data[ground_truth_idc[gt_solver_name][i_tf][1]] = 1\n",
    "        stc.data = source_data\n",
    "        stcs_w[time_frame][f\"Ground Truth ({gt_solver_name})\"] = csr_matrix(stc.data)\n",
    "            "
   ]
  },
  {
   "cell_type": "markdown",
   "metadata": {},
   "source": [
    "# Compute MLEs for each algo"
   ]
  },
  {
   "cell_type": "code",
   "execution_count": 16,
   "metadata": {},
   "outputs": [
    {
     "name": "stdout",
     "output_type": "stream",
     "text": [
      "[1849 1970 5934]\n",
      "\t RAP-MUSIC :  10.619330883602592\n",
      "[1940 6141]\n",
      "\t AP :  10.420954566320884\n",
      "[1701 1977 5934]\n",
      "\t SSM :  9.766532720949265\n",
      "[1701 1849 5853]\n",
      "\t RAP-MUSIC :  12.208125531484047\n",
      "[1888 6141]\n",
      "\t AP :  10.979126177137326\n",
      "[1701 1849 5850]\n",
      "\t SSM :  13.121698516022205\n",
      "[1701 1849 5855]\n",
      "\t RAP-MUSIC :  16.083422287498145\n",
      "[1977 6141]\n",
      "\t AP :  7.807877930021009\n",
      "[1701 1888 5697]\n",
      "\t SSM :  13.406158677772057\n",
      "[1849 1970 5934]\n",
      "\t RAP-MUSIC :  10.619330883602592\n",
      "[1940 6141]\n",
      "\t AP :  10.420954566320884\n",
      "[1701 1977 5934]\n",
      "\t SSM :  9.766532720949265\n",
      "[1701 1849 5853]\n",
      "\t RAP-MUSIC :  12.208125531484047\n",
      "[1888 6141]\n",
      "\t AP :  10.979126177137326\n",
      "[1701 1849 5850]\n",
      "\t SSM :  13.121698516022205\n",
      "[1701 1849 5855]\n",
      "\t RAP-MUSIC :  16.315651801388533\n",
      "[1977 6141]\n",
      "\t AP :  8.768161631991415\n",
      "[1701 1888 5697]\n",
      "\t SSM :  15.353884327838495\n",
      "[1849 1970 5934]\n",
      "\t RAP-MUSIC :  8.341644542939404\n",
      "[1940 6141]\n",
      "\t AP :  9.265637542831776\n",
      "[1701 1977 5934]\n",
      "\t SSM :  7.488846380286077\n",
      "[1701 1849 5853]\n",
      "\t RAP-MUSIC :  10.099466462589918\n",
      "[1888 6141]\n",
      "\t AP :  6.566190620994195\n",
      "[1701 1849 5850]\n",
      "\t SSM :  11.170779025570868\n",
      "[1701 1849 5855]\n",
      "\t RAP-MUSIC :  13.56757695138837\n",
      "[1977 6141]\n",
      "\t AP :  8.963668668970143\n",
      "[1701 1888 5697]\n",
      "\t SSM :  12.495068081230665\n"
     ]
    }
   ],
   "source": [
    "from scipy.optimize import linear_sum_assignment\n",
    "pp = dict(hemi=\"both\", verbose=0, cortex=\"low_contrast\", surface=\"inflated\", subject=subject, subjects_dir=subjects_dir)\n",
    "n_chans, n_dipoles = fwd[\"sol\"][\"data\"].shape\n",
    "mles = []\n",
    "for gt_solver_name, ground_truth_idc_solver in ground_truth_idc.items():\n",
    "    for i_tf, time_frame in enumerate(time_frames.keys()):\n",
    "        true_idc = ground_truth_idc_solver[i_tf]\n",
    "        data = np.zeros((n_dipoles, 1))\n",
    "        data[true_idc] = 1\n",
    "        stc.data = data\n",
    "        # stc.plot(brain_kwargs=dict(title=f\"Ground Truth {time_frame}\"), **pp)\n",
    "        \n",
    "        for algo, source_data in stcs[time_frame].items():\n",
    "        # for algo, source_data in stcs_w[time_frame].items():\n",
    "            if algo == \"Ground Truth\":\n",
    "                continue\n",
    "            est_idc = np.where(source_data.toarray()[:, 0] != 0)[0]\n",
    "            print(est_idc)\n",
    "    \t    \n",
    "            pairwise_dist = cdist(pos[true_idc], pos[est_idc])\n",
    "            # Solve the assignment problem (i.e., find the matching with minimum total distance)\n",
    "            true_indices, estimated_indices = linear_sum_assignment(pairwise_dist)\n",
    "            # Calculate the sum of distances for the optimal assignment\n",
    "            mle = pairwise_dist[true_indices, estimated_indices].mean()\n",
    "            print(\"\\t\", algo, \": \", mle)\n",
    "            mles.append(dict(mle=mle, time_frame=time_frame, algo=algo, ground_truth=gt_solver_name, idc=est_idc[estimated_indices], gt_idc=np.array(true_idc)[true_indices]))\n",
    "\n",
    "            data = np.zeros((n_dipoles, 1))\n",
    "            data[est_idc[estimated_indices]] = 1\n",
    "            stc.data = data\n",
    "            # stc.plot(brain_kwargs=dict(title=f\"{algo} {time_frame}\"), **pp)"
   ]
  },
  {
   "cell_type": "code",
   "execution_count": 17,
   "metadata": {},
   "outputs": [],
   "source": [
    "import pandas as pd\n",
    "import seaborn as sns\n",
    "import matplotlib.pyplot as plt\n",
    "\n",
    "# Sample data in DataFrame 'df'\n",
    "df = pd.DataFrame(mles)\n",
    "\n",
    "# Initialize a figure with 3 subplots (horizontally)\n",
    "fig, axes = plt.subplots(1, 4, figsize=(18, 6), sharey=True)\n",
    "\n",
    "# Iterate over each unique ground truth basis and plot on a subplot\n",
    "for i, ground_truth_basis in enumerate(gt_solver_names):\n",
    "    df_ = df[df.ground_truth == ground_truth_basis]\n",
    "    df_ = df_[~df_.algo.str.contains(\"Ground Truth\")]\n",
    "    # Use 'axes[i]' to specify which subplot to use\n",
    "    sns.barplot(data=df_, y=\"mle\", x=\"time_frame\", hue=\"algo\", ax=axes[i])\n",
    "    axes[i].set_title(f\"{ground_truth_basis}-based\")\n",
    "    axes[i].set_xlabel(\"Time Frame\")  # Set x-axis label\n",
    "    axes[i].set_ylabel(\"Mean Localization Error [mm]\")  # Set y-axis label\n",
    "\n",
    "\n",
    "df_match = df.copy()\n",
    "df_match[\"match\"] = df_match[\"algo\"] == df_match[\"ground_truth\"]\n",
    "df_match = df_match[df_match[\"match\"]]\n",
    "sns.barplot(data=df_match, y=\"mle\", x=\"time_frame\", hue=\"algo\", ax=axes[-1])\n",
    "axes[-1].set_title(\"Individual Ground Truth \")\n",
    "axes[-1].set_ylabel(\"Mean Localization Error [mm]\")  # Set y-axis label\n",
    "axes[-1].set_xlabel(\"Time Frame\")  # Set x-axis label\n",
    "\n",
    "# Display the legend only on the last subplot\n",
    "axes[-1].legend(loc='upper right')\n",
    "# Remove the legend from other subplots\n",
    "for ax in axes[:-1]:\n",
    "    ax.get_legend().remove()\n",
    "plt.suptitle(\"Ground Truth Trick with Different Solvers\", fontsize=16)  # Set the title of the figure\n",
    "plt.tight_layout()\n",
    "plt.show()\n",
    "# save \n",
    "plt.savefig(f\"figures/auditory_dimitrios_new/ground_truth_trick_{sampling}_non-whitened.png\")"
   ]
  },
  {
   "cell_type": "markdown",
   "metadata": {},
   "source": [
    "# Create Source Plots"
   ]
  },
  {
   "cell_type": "code",
   "execution_count": 18,
   "metadata": {},
   "outputs": [],
   "source": [
    "def trim(img):\n",
    "    left = np.where((img-255).sum(axis=(0,-1))!=0)[0][0]\n",
    "    right = np.where((img-255).sum(axis=(0,-1))!=0)[0][-1]\n",
    "\n",
    "    upper = np.where((img-255).sum(axis=(1,-1))!=0)[0][0]\n",
    "    lower = np.where((img-255).sum(axis=(1,-1))!=0)[0][-1]\n",
    "    img = img[upper:lower, left:right]\n",
    "\n",
    "    return img\n",
    "\n",
    "def pad(imgs, pad_value=255):\n",
    "    image1, image2 = imgs\n",
    "    # Get the shapes of both images\n",
    "    shape1 = image1.shape\n",
    "    shape2 = image2.shape\n",
    "\n",
    "    # Calculate padding for height and width\n",
    "    pad_height = max(shape1[0], shape2[0]) - np.array([shape1[0], shape2[0]])\n",
    "    pad_width = max(shape1[1], shape2[1]) - np.array([shape1[1], shape2[1]])\n",
    "\n",
    "    # Pad both images using the specified pad_value\n",
    "    padded_image1 = np.pad(image1, ((0, pad_height[0]), (0, pad_width[0]), (0,0)), mode='constant', constant_values=pad_value)\n",
    "    padded_image2 = np.pad(image2, ((0, pad_height[1]), (0, pad_width[1]), (0,0)), mode='constant', constant_values=pad_value)\n",
    "\n",
    "    return padded_image1, padded_image2"
   ]
  },
  {
   "cell_type": "code",
   "execution_count": 19,
   "metadata": {},
   "outputs": [],
   "source": [
    "pp = dict(surface=\"inflated\", verbose=0, cortex=\"low_contrast\", subject=subject, subjects_dir=subjects_dir, colorbar=False, background=\"white\", time_viewer=False, clim=dict(kind=\"value\", lims=(0, 0.1, 1)))\n",
    "hemis = [\"rh\", \"lh\"]\n",
    "view = \"lateral\"\n",
    "algo_order = [\"SSM\", \"AP\", \"RAP-MUSIC\"]\n",
    "gt_order = algo_order\n",
    "views = ()\n",
    "for time_frame, (tmin, tmax) in time_frames.items():\n",
    "    fig, axes = plt.subplots(3, 2, figsize=(12, 6))\n",
    "    plt.suptitle(f\"{time_frame.capitalize()} Time Frame ({round(tmin*1000)} - {round(tmax*1000)} ms)\")\n",
    "\n",
    "    for i_row, algo in enumerate(algo_order):\n",
    "\n",
    "        ax = axes[i_row, 0]\n",
    "        ax.axis('off')\n",
    "\n",
    "        df_ = df[df.ground_truth==algo]\n",
    "        df_ = df_[df_.time_frame==time_frame]\n",
    "        idc = df_.gt_idc.values[0]\n",
    "        source_data = np.zeros((n_dipoles, 1))\n",
    "        source_data[idc] = 1\n",
    "        stc.data = source_data\n",
    "        imgs = []\n",
    "        for hemi in hemis:\n",
    "            pp[\"views\"] = view\n",
    "            pp[\"hemi\"] = hemi\n",
    "            brain = stc.plot(**pp)\n",
    "            img = brain.screenshot()\n",
    "            brain.close()\n",
    "            img = trim(img)\n",
    "            imgs.append(img)\n",
    "        img = np.concatenate(pad(imgs), axis=1)\n",
    "\n",
    "        ax.imshow(img)\n",
    "        ax.set_title(f\"Ground Truth ({algo})\")\n",
    "\n",
    "\n",
    "        ax = axes[i_row, 1]\n",
    "        ax.axis('off')\n",
    "\n",
    "        df_ = df[df.algo==algo]\n",
    "        df_ = df_[df_.time_frame==time_frame]\n",
    "        idc = df_.idc.values[0]\n",
    "        source_data = np.zeros((n_dipoles, 1))\n",
    "        source_data[idc] = 1\n",
    "        stc.data = source_data\n",
    "        imgs = []\n",
    "        for hemi in hemis:\n",
    "            pp[\"views\"] = view\n",
    "            pp[\"hemi\"] = hemi\n",
    "            brain = stc.plot(**pp)\n",
    "            img = brain.screenshot()\n",
    "            brain.close()\n",
    "            img = trim(img)\n",
    "            imgs.append(img)\n",
    "        img = np.concatenate(pad(imgs), axis=1)\n",
    "\n",
    "        ax.imshow(img)\n",
    "        ax.set_title(f\"{algo}\")\n",
    "    plt.savefig(f\"figures/auditory_dimitrios_new/brain_plots_{time_frame}_{sampling}_non-whitened.png\")\n",
    "\n",
    "        "
   ]
  },
  {
   "cell_type": "code",
   "execution_count": 31,
   "metadata": {},
   "outputs": [
    {
     "name": "stderr",
     "output_type": "stream",
     "text": [
      "C:\\Users\\lukas\\AppData\\Local\\Temp\\ipykernel_4356\\2879993278.py:20: UserWarning: \n",
      "\n",
      "`distplot` is a deprecated function and will be removed in seaborn v0.14.0.\n",
      "\n",
      "Please adapt your code to use either `displot` (a figure-level function with\n",
      "similar flexibility) or `histplot` (an axes-level function for histograms).\n",
      "\n",
      "For a guide to updating your code to use the new functions, please see\n",
      "https://gist.github.com/mwaskom/de44147ed2974457ad6372750bbe5751\n",
      "\n",
      "  sns.distplot(abs(corr_matrix.flatten()))\n"
     ]
    }
   ],
   "source": [
    "# plt.figure()\n",
    "# plt.imshow(noise_cov.data)\n",
    "\n",
    "# plt.colorbar()\n",
    "\n",
    "# Extract the covariance matrix data\n",
    "cov_matrix = noise_cov.data\n",
    "\n",
    "# Convert covariance matrix to correlation matrix\n",
    "diag = np.sqrt(np.diag(cov_matrix))\n",
    "corr_matrix = cov_matrix / np.outer(diag, diag)\n",
    "\n",
    "plt.figure(figsize=(8, 13))\n",
    "plt.subplot(211)\n",
    "plt.imshow(corr_matrix, vmin=-1, vmax=1)\n",
    "plt.colorbar()\n",
    "plt.title(\"Noise Covariance Matrix\")\n",
    "\n",
    "plt.subplot(212)\n",
    "sns.distplot(abs(corr_matrix.flatten()))\n",
    "plt.title(f\"Distribution of pearson correlation coefficients between channels\\nMedian: {np.median(corr_matrix):.2f}, Mean: {np.mean(corr_matrix):.2f}\")\n",
    "\n",
    "plt.tight_layout()\n",
    "\n",
    "plt.savefig(f\"figures/auditory_dimitrios_new/noise_covariance.png\")"
   ]
  },
  {
   "cell_type": "markdown",
   "metadata": {},
   "source": [
    "# Other"
   ]
  },
  {
   "cell_type": "code",
   "execution_count": null,
   "metadata": {},
   "outputs": [],
   "source": [
    "tmin, tmax = 0.109, 0.129\n",
    "fwd = fwds_w[\"both\"][345][0]\n",
    "evoked = evokeds_w[\"both\"][345][0]\n",
    "for solver_dict in solver_dicts:\n",
    "    solver_name = solver_dict[\"solver_name\"]\n",
    "    display_name = solver_dict[\"display_name\"]\n",
    "    make_args = solver_dict[\"make_args\"]\n",
    "    clim = solver_dict[\"clim\"]\n",
    "    display_name = solver_dict[\"display_name\"]\n",
    "    solver = Solver(solver_name)\n",
    "    solver.make_inverse_operator(fwd, evoked.copy().crop(tmin, tmax), **make_args)\n",
    "    stc = solver.apply_inverse_operator(evoked.copy())\n",
    "    stc.subject = subject\n",
    "    brain = stc.plot(\n",
    "        hemi=\"both\",\n",
    "        subjects_dir=subjects_dir,\n",
    "        initial_time=0.119,\n",
    "        views=[\"lat\"],\n",
    "        clim={\"kind\": \"percent\", \"lims\": [0, 50, 100]},\n",
    "        brain_kwargs=dict(title=f\"{solver.name}-{n_orders}-{n_sources}-{diffusion_parameter}-({tmin}-{tmax}s)\"),\n",
    "        # surface=\"pial\",\n",
    "        surface=\"inflated\",\n",
    "        cortex=\"low_contrast\"\n",
    "        )\n",
    "    brain.add_foci(stc.lh_vertno[ground_truth_idc[-1]], color=\"green\", coords_as_verts=True, hemi=\"lh\")\n",
    "    brain.add_foci(stc.rh_vertno[ground_truth_idc[-1] - int(8194 / 2)], color=\"green\", coords_as_verts=True, hemi=\"rh\")"
   ]
  },
  {
   "cell_type": "code",
   "execution_count": null,
   "metadata": {},
   "outputs": [],
   "source": [
    "from scipy.spatial.distance import cdist\n",
    "pos_left = mne.vertex_to_mni(fwd[\"src\"][0][\"vertno\"], 0, subject=subject, subjects_dir=subjects_dir, verbose=0)\n",
    "pos_right = mne.vertex_to_mni(fwd[\"src\"][1][\"vertno\"], 1, subject=subject, subjects_dir=subjects_dir, verbose=0)\n",
    "pos = np.concatenate([pos_left, pos_right], axis=0)\n",
    "\n",
    "pos_idc_left = pos[:, 0] <= 0\n",
    "pos_idc_right = pos[:, 0] > 0\n",
    "\n",
    "n_sources = 2\n",
    "\n",
    "stcs = dict()\n",
    "localization_errors = []\n",
    "\n",
    "for side in (\"both\",):  # \"right\"):\n",
    "    print(side)\n",
    "    maxima_true = np.stack([\n",
    "        pos[ground_truth_idc[0], :],\n",
    "        pos[ground_truth_idc[1], :],\n",
    "        ], axis=0)\n",
    "    stcs[side] = dict()\n",
    "    \n",
    "    for tr in n_trials:#[-1:]:\n",
    "        print(\"\\t\", tr)\n",
    "        stcs[side][tr] = dict()\n",
    "        evoked_list = evokeds_w[side][tr]\n",
    "        fwd = fwds_w[side][tr][0]\n",
    "        \n",
    "        for solver_dict in solver_dicts:\n",
    "            if not \"-\" in solver_dict[\"name\"]:\n",
    "                continue\n",
    "            print(\"\\t\\t\", solver_dict[\"name\"])\n",
    "            stcs[side][tr][solver_dict[\"show_name\"]] = []\n",
    "            for i_sample, evoked in enumerate(evoked_list):\n",
    "                print(\"\\t\\t\\t\", f\"sample {i_sample}\")\n",
    "\n",
    "                solver = Solver(solver_dict[\"name\"], prep_leadfield=solver_dict[\"prep_leadfield\"])\n",
    "                solver.make_inverse_operator(fwd.copy(), evoked.copy().crop(tmin, tmax), **solver_dict[\"make_args\"])\n",
    "                stc = solver.apply_inverse_operator(evoked.copy())\n",
    "                \n",
    "                has_dipole_left = sum(stc.data[pos_idc_left, 0] != 0) > 0\n",
    "                has_dipole_right = sum(stc.data[pos_idc_right, 0] != 0) > 0\n",
    "                \n",
    "                while not (has_dipole_left and has_dipole_right):\n",
    "                    solver_dict[\"make_args\"][\"n\"] += 1\n",
    "                    solver_dict[\"make_args\"][\"k\"] += 1\n",
    "                    solver.make_inverse_operator(fwd.copy(), evoked.copy().crop(tmin, tmax), **solver_dict[\"make_args\"])\n",
    "                    stc = solver.apply_inverse_operator(evoked.copy())\n",
    "\n",
    "                    has_dipole_left = sum(stc.data[pos_idc_left, 0] != 0) > 0\n",
    "                    has_dipole_right = sum(stc.data[pos_idc_right, 0] != 0) > 0\n",
    "                    print(\"\\t\\t\\tincreasing n_sources by one\")\n",
    "                solver_dict[\"make_args\"][\"n\"] = n_sources\n",
    "                solver_dict[\"make_args\"][\"k\"] = n_sources\n",
    "                \n",
    "                \n",
    "\n",
    "                stc.subject = subject\n",
    "                stcs[side][tr][solver_dict[\"show_name\"]].append(stc)\n",
    "                \n",
    "                # brain = stc.plot(brain_kwargs=dict(title=f\"{solver.name} {side} stim, {tr} trials\"), surface=\"inflated\", hemi=\"both\", subjects_dir=\"C:\\\\Users\\\\lukas\\\\mne_data\\\\MNE-sample-data\\\\subjects\", subject=\"sample\", verbose=0)\n",
    "                \n",
    "                # brain.add_foci(stc.lh_vertno[ground_truth_idc[side][0]], coords_as_verts=True, color=\"green\", hemi=\"lh\", scale_factor=1)\n",
    "                # brain.add_foci( stc.rh_vertno[ground_truth_idc[side][1]-len(stc.lh_vertno)], coords_as_verts=True, color=\"green\", hemi=\"rh\", scale_factor=1)\n",
    "\n",
    "                stc_lh = stc.copy()\n",
    "                stc_rh = stc.copy()\n",
    "                \n",
    "                stc_lh.data[pos_idc_right, :] = 0\n",
    "                stc_rh.data[pos_idc_left, :] = 0\n",
    "                \n",
    "                \n",
    "                maximum_idx_lh = np.argmax(abs(stc_lh.data).mean(axis=1))\n",
    "                maximum_idx_rh = np.argmax(abs(stc_rh.data).mean(axis=1))\n",
    "\n",
    "                maximum_lh, maximum_rh = pos[maximum_idx_lh], pos[maximum_idx_rh]\n",
    "                maxima_est = np.stack([maximum_lh, maximum_rh], axis=0)\n",
    "                \n",
    "\n",
    "                distmat = cdist(maxima_true, maxima_est)\n",
    "                mle = (np.mean(distmat.min(axis=0)) + np.mean(distmat.min(axis=1))) / 2\n",
    "                localization_errors.append(\n",
    "                    dict(mle=mle, side=side, trials=tr, solver_name=solver_dict[\"show_name\"], sample=i_sample)\n",
    "                )\n",
    "                # print(distmat)\n",
    "                # break\n",
    "\n",
    "        # break\n",
    "    # break\n",
    "            "
   ]
  },
  {
   "cell_type": "markdown",
   "metadata": {},
   "source": [
    "# plot mu"
   ]
  },
  {
   "cell_type": "code",
   "execution_count": null,
   "metadata": {},
   "outputs": [],
   "source": [
    "stc.data = solver.mu.T\n",
    "stc.data /= abs(stc.data).max()\n",
    "stc.subject = subject\n",
    "brain = abs(stc).plot(\n",
    "    hemi=\"both\",\n",
    "    subjects_dir=subjects_dir,\n",
    "    initial_time=0.12,\n",
    "    views=[\"lat\"],\n",
    "    clim={\"kind\": \"percent\", \"lims\": [0, 50, 100]},\n",
    "    brain_kwargs=dict(title=f\"{solver.name}-{n_orders}-{n_sources}-{diffusion_parameter}-({tmin}-{tmax}s)\"),\n",
    "    # cortex=\"low_contrast\",\n",
    "    # surface=\"pial\"\n",
    "    surface=\"inflated\"\n",
    ")\n",
    "\n",
    "# Atlas label\n",
    "atlas = \"aparc.a2009s\"\n",
    "labels_lh = mne.read_labels_from_annot(\n",
    "    subject, atlas, \"lh\", subjects_dir=subjects_dir\n",
    ")\n",
    "labels_rh = mne.read_labels_from_annot(\n",
    "    subject, atlas, \"rh\", subjects_dir=subjects_dir\n",
    ")\n",
    "labels = labels_lh + labels_rh\n",
    "labels\n",
    "label_heschl = [label for label in labels if \"S_temporal_transverse\" in label.name]\n",
    "label_heschl\n",
    "\n",
    "for l in label_heschl:\n",
    "    brain.add_label(l, borders=True, color=\"black\")"
   ]
  },
  {
   "cell_type": "markdown",
   "metadata": {},
   "source": [
    "# Screen for optimal time range"
   ]
  },
  {
   "cell_type": "code",
   "execution_count": null,
   "metadata": {},
   "outputs": [],
   "source": [
    "from invert.evaluate import get_maxima\n",
    "from scipy.spatial.distance import cdist\n",
    "event_id = \"auditory_1\"\n",
    "\n",
    "adjacency = mne.spatial_src_adjacency(fwds[event_id]['src'], verbose=0).toarray()\n",
    "pos_left = mne.vertex_to_mni(fwd[\"src\"][0][\"vertno\"], 0, subject=subject, subjects_dir=subjects_dir, verbose=0)\n",
    "pos_right = mne.vertex_to_mni(fwd[\"src\"][1][\"vertno\"], 1, subject=subject, subjects_dir=subjects_dir, verbose=0)\n",
    "pos = np.concatenate([pos_left, pos_right], axis=0)\n",
    "\n",
    "fwd_w = fwds[event_id]\n",
    "evoked_w = evokeds_w[event_id]\n",
    "\n",
    "n_sources = 2\n",
    "n_orders = 10\n",
    "diffusion_parameter = 0.1\n",
    "\n",
    "target_pos = np.array([\n",
    "    [55.6, -20.3, 4.8],\n",
    "    [-50.5, -24.9, 4.2]\n",
    "    ])\n",
    "tmins = np.arange(0.04, 0.2, 0.01)\n",
    "durations = np.array([0.01, 0.02, 0.04])\n",
    "diffusion_parameters = [0.1,]\n",
    "print(len(tmins)*len(durations)*len(diffusion_parameters), \" iterations\")\n",
    "solver_name = \"AP\"\n",
    "solver = Solver(solver_name, n_reg_params=25, prep_leadfield=False)\n",
    "results = []\n",
    "for diffusion_parameter in diffusion_parameters:\n",
    "    for tmin in tmins:\n",
    "        for duration in durations:\n",
    "            tmax = tmin + duration\n",
    "\n",
    "            solver.make_inverse_operator(fwd_w, evoked_w.copy().crop(tmin, tmax), n=n_sources, k=n_sources, n_orders=n_orders, stop_crit=0, max_iter=1000, diffusion_parameter=diffusion_parameter)\n",
    "            stc = solver.apply_inverse_operator(evoked_w)\n",
    "            vec = np.mean(abs(stc.copy().crop(tmin, tmax).data), axis=1)\n",
    "\n",
    "            maxima_est = pos[np.array(get_maxima(vec, adjacency)), :]\n",
    "            d = cdist(target_pos, maxima_est)\n",
    "            mle = (d.min(axis=1).mean() + d.min(axis=0).mean()) / 2\n",
    "            d = dict(diffusion_parameter=diffusion_parameter, tmin=tmin, duration=duration, n_sources=n_sources, n_orders=n_orders, mle=mle, stc=stc)\n",
    "            results.append(d)\n",
    "            print(\"\\n\\t\", d, \"\\n\")\n",
    "            "
   ]
  },
  {
   "cell_type": "code",
   "execution_count": null,
   "metadata": {},
   "outputs": [],
   "source": [
    "import pandas as pd\n",
    "import seaborn as sns\n",
    "\n",
    "df = pd.DataFrame(results)\n",
    "plt.figure()\n",
    "sns.barplot(x=\"tmin\", hue=\"diffusion_parameter\", y=\"mle\", data=df)"
   ]
  },
  {
   "cell_type": "code",
   "execution_count": null,
   "metadata": {},
   "outputs": [],
   "source": [
    "for i in range(10):\n",
    "    stc = df.sort_values(\"mle\")[\"stc\"].values[i].copy()\n",
    "    stc.subject = subject\n",
    "    stc.data /= abs(stc.data).max()\n",
    "    stc.plot(\n",
    "        surface=\"inflated\",\n",
    "        hemi=\"both\",\n",
    "        subjects_dir=subjects_dir,\n",
    "        initial_time=0.12,\n",
    "        views=[\"lat\"],\n",
    "        clim={\"kind\": \"percent\", \"lims\": [0, 50, 100]},\n",
    "        brain_kwargs=dict(title=f\"{solver.name}-{n_orders}-{n_sources}-{diffusion_parameter}-({tmin}-{tmax}s)\")\n",
    "    )\n",
    "    # break\n"
   ]
  },
  {
   "cell_type": "code",
   "execution_count": null,
   "metadata": {},
   "outputs": [],
   "source": [
    "np.where(stc.data[:, 0]!=0)[0]"
   ]
  },
  {
   "cell_type": "markdown",
   "metadata": {},
   "source": [
    "# werked:"
   ]
  },
  {
   "cell_type": "code",
   "execution_count": null,
   "metadata": {},
   "outputs": [],
   "source": [
    "idx diffusion_parameter\ttmin\tduration\tn_sources\tn_orders\tmle\tstc\n",
    "5\t0.1\t0.11\t0.04\t2\t10\t15.368256\t<SourceEstimate | 8diffusion_parameter\ttmin\tduration\tn_sources\tn_orders\tmle\tstc194 vertices, subject : tas...\n",
    "7\t0.1\t0.12\t0.02\t2\t10\t15.368256\t<SourceEstimate | 8194 vertices, subject : tas..."
   ]
  }
 ],
 "metadata": {
  "kernelspec": {
   "display_name": "flap",
   "language": "python",
   "name": "python3"
  },
  "language_info": {
   "codemirror_mode": {
    "name": "ipython",
    "version": 3
   },
   "file_extension": ".py",
   "mimetype": "text/x-python",
   "name": "python",
   "nbconvert_exporter": "python",
   "pygments_lexer": "ipython3",
   "version": "3.8.10"
  }
 },
 "nbformat": 4,
 "nbformat_minor": 2
}
